{
  "cells": [
    {
      "cell_type": "markdown",
      "source": [
        "# Medical Assistant: Problem Statement (NLP with GenAI)"
      ],
      "metadata": {
        "id": "wSJpan2_Lpcc"
      }
    },
    {
      "cell_type": "markdown",
      "source": [
        "### Business Context"
      ],
      "metadata": {
        "id": "CfKG6Wk8O57G"
      }
    },
    {
      "cell_type": "markdown",
      "source": [
        "\n",
        "\n",
        "The healthcare industry is rapidly evolving, and professionals face increasing challenges in managing vast volumes of medical data while delivering accurate and timely diagnoses. Quick access to comprehensive, reliable, and up-to-date medical knowledge is critical for improving patient outcomes and ensuring informed decision-making in a fast-paced environment.\n",
        "\n",
        "Healthcare professionals often encounter information overload, struggling to sift through extensive research and data to create accurate diagnoses and treatment plans. This challenge is amplified by the need for efficiency, particularly in emergencies, where time-sensitive decisions are vital. Furthermore, access to trusted, current medical information from renowned manuals and research papers is essential for maintaining high standards of care.\n",
        "\n",
        "To address these challenges, healthcare centers can focus on integrating systems that streamline access to medical knowledge, provide tools to support quick decision-making and enhance efficiency. Leveraging centralized knowledge platforms and ensuring healthcare providers have continuous access to reliable resources can significantly improve patient care and operational effectiveness.\n",
        "\n"
      ],
      "metadata": {
        "id": "ByBOY8FQLir5"
      }
    },
    {
      "cell_type": "markdown",
      "source": [
        "### Objective"
      ],
      "metadata": {
        "id": "BEomv7BzO_SS"
      }
    },
    {
      "cell_type": "markdown",
      "source": [
        "As an AI specialist, your task is to develop a RAG-based AI solution using renowned medical manuals to address healthcare challenges. The objective is to understand information overload, apply AI techniques to streamline decision-making, analyze  its impact on diagnostics and patient outcomes, evaluate its potential to standardize care practices, and create a functional prototype demonstrating its feasibility and effectiveness."
      ],
      "metadata": {
        "id": "cvugFN33O9WH"
      }
    },
    {
      "cell_type": "markdown",
      "source": [
        "### Questions to Answer"
      ],
      "metadata": {
        "id": "tfJn68WkPFgs"
      }
    },
    {
      "cell_type": "markdown",
      "source": [
        "1. What is the protocol for managing sepsis in a critical care unit?\n",
        "2. What are the common symptoms of appendicitis, and can it be cured via medicine? If not, what surgical procedure should be followed to treat it?\n",
        "3. What are the effective treatments or solutions for addressing sudden patchy hair loss, commonly seen as localized bald spots on the scalp, and what could be the possible causes behind it?\n",
        "4. What treatments are recommended for a person who has sustained a physical injury to brain tissue, resulting in temporary or permanent impairment of brain function?\n",
        "5. What are the necessary precautions and treatment steps for a person who has fractured their leg during a hiking trip, and what should be considered for their care and recovery?\n",
        "\n"
      ],
      "metadata": {
        "id": "opaO0By1PDbe"
      }
    },
    {
      "cell_type": "markdown",
      "source": [
        "### Data Dictionary"
      ],
      "metadata": {
        "id": "AWZJcOqMPKlJ"
      }
    },
    {
      "cell_type": "markdown",
      "source": [
        "\n",
        "\n",
        "The Merck Manuals are medical references published by the American pharmaceutical company Merck & Co., that cover a wide range of medical topics, including disorders, tests, diagnoses, and drugs. The manuals have been published since 1899 when Merck & Co. was still a subsidiary of the German company Merck.\n",
        "The manual is a PDF with over 4,000 pages divided into 23 sections.\n",
        "\n"
      ],
      "metadata": {
        "id": "gW6maXciPJXt"
      }
    },
    {
      "cell_type": "markdown",
      "source": [
        "> ⚠️ Important Note\n",
        ">\n",
        "> Please set the runtime to T4-GPU in Google Colab."
      ],
      "metadata": {
        "id": "g0WeuWsBPOMH"
      }
    },
    {
      "cell_type": "markdown",
      "source": [
        "---"
      ],
      "metadata": {
        "id": "UWlsTPkpPV4H"
      }
    },
    {
      "cell_type": "markdown",
      "source": [
        "\n",
        "\n",
        "### 🚀 **Alternate Approach: Project | AWS Bedrock**\n",
        "\n",
        "> ⚠️ **Request**\n",
        ">\n",
        "> Before referring to the learner guide, I independently implemented the project using **AWS Bedrock**, oblivious to provided direction, exploring a different stack and approach. This alternate solution highlights different choices and practical trade-offs.\n",
        ">\n",
        "> `Still, learned valuable know-hows along the way - inadvertently!`\n",
        ">\n",
        ">\n",
        "> 📌 **Why include this here ?**\n",
        ">\n",
        ">\n",
        "> It broadens the perspective by showcasing the same task via two paths - ***Hugging Face*** vs. ***AWS Bedrock*** — helping evaluate differences in performance, scalability, and integration.\n",
        ">\n",
        "> 💡 Since both versions were built independently and impromptu, I’d be glad if you could go through and appreciate your feedback on which aligns better with real-world industry practices.\n",
        ">\n",
        "> ⚡ Kindly consider reviewing this version too - it’s the same RAG/LLM task through a different lens.\n",
        ">\n",
        "> *Hope the link below catches your attention!* 👀\n",
        ">\n",
        "> 🔗 [Explore AWS Bedrock-based RAG Implementation](https://nvshah.github.io/pgpaiml/medical_assistant_soln.html)\n",
        ">\n",
        ">\n"
      ],
      "metadata": {
        "id": "f20PT2FIKW9H"
      }
    },
    {
      "cell_type": "markdown",
      "source": [
        "---"
      ],
      "metadata": {
        "id": "mJX--12lOrK3"
      }
    },
    {
      "cell_type": "code",
      "execution_count": 1,
      "metadata": {
        "colab": {
          "base_uri": "https://localhost:8080/"
        },
        "id": "c3cIALHdcUM8",
        "outputId": "e77f2b87-41a9-4354-d696-a7f3f868b6b7"
      },
      "outputs": [
        {
          "output_type": "stream",
          "name": "stdout",
          "text": [
            "Mounted at /content/drive\n"
          ]
        }
      ],
      "source": [
        "# Connect to Google Drive\n",
        "from google.colab import drive\n",
        "drive.mount('/content/drive')"
      ]
    },
    {
      "cell_type": "code",
      "execution_count": 2,
      "metadata": {
        "colab": {
          "base_uri": "https://localhost:8080/"
        },
        "id": "Q2tRSL5ZugJR",
        "outputId": "159c3962-e672-41d6-f9af-e2ab0b4cac80"
      },
      "outputs": [
        {
          "output_type": "stream",
          "name": "stdout",
          "text": [
            "/content/drive/MyDrive/Colab Notebooks/medical_assistant_hf\n"
          ]
        }
      ],
      "source": [
        "%cd \"drive/MyDrive/Colab Notebooks/medical_assistant_hf\""
      ]
    },
    {
      "cell_type": "code",
      "execution_count": 3,
      "metadata": {
        "colab": {
          "base_uri": "https://localhost:8080/"
        },
        "id": "XC7sXRmmuxwk",
        "outputId": "cdb71a41-ebe5-45a0-9e65-1179266a0bdf"
      },
      "outputs": [
        {
          "output_type": "stream",
          "name": "stdout",
          "text": [
            "/content/drive/MyDrive/Colab Notebooks/medical_assistant_hf\n"
          ]
        }
      ],
      "source": [
        "!pwd"
      ]
    },
    {
      "cell_type": "code",
      "execution_count": 4,
      "metadata": {
        "colab": {
          "base_uri": "https://localhost:8080/"
        },
        "id": "tyTiZtAoufVb",
        "outputId": "77808c35-3609-4791-ecc0-b249361ee495"
      },
      "outputs": [
        {
          "output_type": "stream",
          "name": "stdout",
          "text": [
            "Sun May 11 07:20:17 2025       \n",
            "+-----------------------------------------------------------------------------------------+\n",
            "| NVIDIA-SMI 550.54.15              Driver Version: 550.54.15      CUDA Version: 12.4     |\n",
            "|-----------------------------------------+------------------------+----------------------+\n",
            "| GPU  Name                 Persistence-M | Bus-Id          Disp.A | Volatile Uncorr. ECC |\n",
            "| Fan  Temp   Perf          Pwr:Usage/Cap |           Memory-Usage | GPU-Util  Compute M. |\n",
            "|                                         |                        |               MIG M. |\n",
            "|=========================================+========================+======================|\n",
            "|   0  Tesla T4                       Off |   00000000:00:04.0 Off |                    0 |\n",
            "| N/A   37C    P8              9W /   70W |       0MiB /  15360MiB |      0%      Default |\n",
            "|                                         |                        |                  N/A |\n",
            "+-----------------------------------------+------------------------+----------------------+\n",
            "                                                                                         \n",
            "+-----------------------------------------------------------------------------------------+\n",
            "| Processes:                                                                              |\n",
            "|  GPU   GI   CI        PID   Type   Process name                              GPU Memory |\n",
            "|        ID   ID                                                               Usage      |\n",
            "|=========================================================================================|\n",
            "|  No running processes found                                                             |\n",
            "+-----------------------------------------------------------------------------------------+\n"
          ]
        }
      ],
      "source": [
        "# This will show detailed GPU information if available\n",
        "!nvidia-smi"
      ]
    },
    {
      "cell_type": "markdown",
      "metadata": {
        "id": "bk_LVzhKwZD5"
      },
      "source": [
        "## Setup"
      ]
    },
    {
      "cell_type": "markdown",
      "metadata": {
        "id": "q6gox0xvImLg"
      },
      "source": [
        "**NOTE: refer https://huggingface.co/microsoft/Phi-3-mini-4k-instruct-gguf for phi-3 mini setup once**"
      ]
    },
    {
      "cell_type": "markdown",
      "metadata": {
        "id": "4P6UmussCaNe"
      },
      "source": [
        "#### Essential Libraries for Task"
      ]
    },
    {
      "cell_type": "markdown",
      "metadata": {
        "id": "BCI83A4yA0_7"
      },
      "source": [
        "🧐 **NOTE**:\n",
        "\n",
        "The cu121 (CUDA 12.1) version works with your CUDA 12.4 because of backward compatibility within major CUDA versions. CUDA 12.1 libraries are generally compatible with CUDA 12.4, as NVIDIA maintains compatibility within major versions.\n",
        "\n",
        "Regarding which approach is better:\n",
        "\n",
        "Using `CMAKE_ARGS=\"-DLLAMA_CUBLAS=on\"` might be slightly more beneficial because:\n",
        "\n",
        "1. It compiles specifically against your exact CUDA version (12.4)\n",
        "2. You can add additional optimization flags if needed\n",
        "3. It ensures CUBLAS is explicitly enabled with your specific GPU drivers\n",
        "\n",
        "The difference in performance is likely to be minor, but if you want the most optimized build for your specific environment, using the CMAKE_ARGS approach would be preferable.\n",
        "\n",
        "If you're concerned about getting the best performance, you could cancel the current installation and use:\n",
        "\n",
        "```language=python\n",
        "!CMAKE_ARGS=\"-DLLAMA_CUBLAS=on -DLLAMA_CUDA_F16=on\" pip install llama-cpp-python\n",
        "```\n",
        "\n",
        "This explicitly enables CUBLAS and FP16 support, which can improve performance on T4 GPUs.\n"
      ]
    },
    {
      "cell_type": "code",
      "execution_count": 5,
      "metadata": {
        "colab": {
          "base_uri": "https://localhost:8080/"
        },
        "id": "ZFB5fE5UwbJh",
        "outputId": "9c6d44da-f98f-43e6-cea6-5b1cacd74717"
      },
      "outputs": [
        {
          "output_type": "stream",
          "name": "stdout",
          "text": [
            "Looking in indexes: https://pypi.org/simple, https://abetlen.github.io/llama-cpp-python/whl/cu124\n",
            "Collecting llama-cpp-python\n",
            "  Downloading llama_cpp_python-0.3.9.tar.gz (67.9 MB)\n",
            "\u001b[2K     \u001b[90m━━━━━━━━━━━━━━━━━━━━━━━━━━━━━━━━━━━━━━━━\u001b[0m \u001b[32m67.9/67.9 MB\u001b[0m \u001b[31m13.4 MB/s\u001b[0m eta \u001b[36m0:00:00\u001b[0m\n",
            "\u001b[?25h  Installing build dependencies ... \u001b[?25l\u001b[?25hdone\n",
            "  Getting requirements to build wheel ... \u001b[?25l\u001b[?25hdone\n",
            "  Installing backend dependencies ... \u001b[?25l\u001b[?25hdone\n",
            "  Preparing metadata (pyproject.toml) ... \u001b[?25l\u001b[?25hdone\n",
            "Collecting typing-extensions>=4.5.0 (from llama-cpp-python)\n",
            "  Downloading typing_extensions-4.13.2-py3-none-any.whl.metadata (3.0 kB)\n",
            "Collecting numpy>=1.20.0 (from llama-cpp-python)\n",
            "  Downloading numpy-2.2.5-cp311-cp311-manylinux_2_17_x86_64.manylinux2014_x86_64.whl.metadata (62 kB)\n",
            "\u001b[2K     \u001b[90m━━━━━━━━━━━━━━━━━━━━━━━━━━━━━━━━━━━━━━━━\u001b[0m \u001b[32m62.0/62.0 kB\u001b[0m \u001b[31m6.4 MB/s\u001b[0m eta \u001b[36m0:00:00\u001b[0m\n",
            "\u001b[?25hCollecting diskcache>=5.6.1 (from llama-cpp-python)\n",
            "  Downloading diskcache-5.6.3-py3-none-any.whl.metadata (20 kB)\n",
            "Collecting jinja2>=2.11.3 (from llama-cpp-python)\n",
            "  Downloading jinja2-3.1.6-py3-none-any.whl.metadata (2.9 kB)\n",
            "Collecting MarkupSafe>=2.0 (from jinja2>=2.11.3->llama-cpp-python)\n",
            "  Downloading MarkupSafe-3.0.2-cp311-cp311-manylinux_2_17_x86_64.manylinux2014_x86_64.whl.metadata (4.0 kB)\n",
            "Downloading diskcache-5.6.3-py3-none-any.whl (45 kB)\n",
            "\u001b[2K   \u001b[90m━━━━━━━━━━━━━━━━━━━━━━━━━━━━━━━━━━━━━━━━\u001b[0m \u001b[32m45.5/45.5 kB\u001b[0m \u001b[31m4.1 MB/s\u001b[0m eta \u001b[36m0:00:00\u001b[0m\n",
            "\u001b[?25hDownloading jinja2-3.1.6-py3-none-any.whl (134 kB)\n",
            "\u001b[2K   \u001b[90m━━━━━━━━━━━━━━━━━━━━━━━━━━━━━━━━━━━━━━━━\u001b[0m \u001b[32m134.9/134.9 kB\u001b[0m \u001b[31m13.7 MB/s\u001b[0m eta \u001b[36m0:00:00\u001b[0m\n",
            "\u001b[?25hDownloading numpy-2.2.5-cp311-cp311-manylinux_2_17_x86_64.manylinux2014_x86_64.whl (16.4 MB)\n",
            "\u001b[2K   \u001b[90m━━━━━━━━━━━━━━━━━━━━━━━━━━━━━━━━━━━━━━━━\u001b[0m \u001b[32m16.4/16.4 MB\u001b[0m \u001b[31m115.0 MB/s\u001b[0m eta \u001b[36m0:00:00\u001b[0m\n",
            "\u001b[?25hDownloading typing_extensions-4.13.2-py3-none-any.whl (45 kB)\n",
            "\u001b[2K   \u001b[90m━━━━━━━━━━━━━━━━━━━━━━━━━━━━━━━━━━━━━━━━\u001b[0m \u001b[32m45.8/45.8 kB\u001b[0m \u001b[31m4.3 MB/s\u001b[0m eta \u001b[36m0:00:00\u001b[0m\n",
            "\u001b[?25hDownloading MarkupSafe-3.0.2-cp311-cp311-manylinux_2_17_x86_64.manylinux2014_x86_64.whl (23 kB)\n",
            "Building wheels for collected packages: llama-cpp-python\n",
            "  Building wheel for llama-cpp-python (pyproject.toml) ... \u001b[?25l\u001b[?25hdone\n",
            "  Created wheel for llama-cpp-python: filename=llama_cpp_python-0.3.9-cp311-cp311-linux_x86_64.whl size=4127071 sha256=7213896fab09cbc715fd382a25f8070064f80799a628f99d3496aa8112fe4fab\n",
            "  Stored in directory: /root/.cache/pip/wheels/9e/8f/bf/148c8eb7d69021eccd6eae6444f3accd48347587054ffd24e5\n",
            "Successfully built llama-cpp-python\n",
            "Installing collected packages: typing-extensions, numpy, MarkupSafe, diskcache, jinja2, llama-cpp-python\n",
            "  Attempting uninstall: typing-extensions\n",
            "    Found existing installation: typing_extensions 4.12.2\n",
            "    Uninstalling typing_extensions-4.12.2:\n",
            "      Successfully uninstalled typing_extensions-4.12.2\n",
            "  Attempting uninstall: numpy\n",
            "    Found existing installation: numpy 1.26.4\n",
            "    Uninstalling numpy-1.26.4:\n",
            "      Successfully uninstalled numpy-1.26.4\n",
            "  Attempting uninstall: MarkupSafe\n",
            "    Found existing installation: MarkupSafe 3.0.2\n",
            "    Uninstalling MarkupSafe-3.0.2:\n",
            "      Successfully uninstalled MarkupSafe-3.0.2\n",
            "  Attempting uninstall: jinja2\n",
            "    Found existing installation: Jinja2 3.1.5\n",
            "    Uninstalling Jinja2-3.1.5:\n",
            "      Successfully uninstalled Jinja2-3.1.5\n",
            "\u001b[31mERROR: pip's dependency resolver does not currently take into account all the packages that are installed. This behaviour is the source of the following dependency conflicts.\n",
            "pytensor 2.27.1 requires numpy<2,>=1.17.0, but you have numpy 2.2.5 which is incompatible.\n",
            "gensim 4.3.3 requires numpy<2.0,>=1.18.5, but you have numpy 2.2.5 which is incompatible.\n",
            "langchain 0.3.19 requires numpy<2,>=1.26.4; python_version < \"3.12\", but you have numpy 2.2.5 which is incompatible.\n",
            "numba 0.60.0 requires numpy<2.1,>=1.22, but you have numpy 2.2.5 which is incompatible.\n",
            "torch 2.5.1+cu124 requires nvidia-cublas-cu12==12.4.5.8; platform_system == \"Linux\" and platform_machine == \"x86_64\", but you have nvidia-cublas-cu12 12.5.3.2 which is incompatible.\n",
            "torch 2.5.1+cu124 requires nvidia-cuda-cupti-cu12==12.4.127; platform_system == \"Linux\" and platform_machine == \"x86_64\", but you have nvidia-cuda-cupti-cu12 12.5.82 which is incompatible.\n",
            "torch 2.5.1+cu124 requires nvidia-cuda-nvrtc-cu12==12.4.127; platform_system == \"Linux\" and platform_machine == \"x86_64\", but you have nvidia-cuda-nvrtc-cu12 12.5.82 which is incompatible.\n",
            "torch 2.5.1+cu124 requires nvidia-cuda-runtime-cu12==12.4.127; platform_system == \"Linux\" and platform_machine == \"x86_64\", but you have nvidia-cuda-runtime-cu12 12.5.82 which is incompatible.\n",
            "torch 2.5.1+cu124 requires nvidia-cudnn-cu12==9.1.0.70; platform_system == \"Linux\" and platform_machine == \"x86_64\", but you have nvidia-cudnn-cu12 9.3.0.75 which is incompatible.\n",
            "torch 2.5.1+cu124 requires nvidia-cufft-cu12==11.2.1.3; platform_system == \"Linux\" and platform_machine == \"x86_64\", but you have nvidia-cufft-cu12 11.2.3.61 which is incompatible.\n",
            "torch 2.5.1+cu124 requires nvidia-curand-cu12==10.3.5.147; platform_system == \"Linux\" and platform_machine == \"x86_64\", but you have nvidia-curand-cu12 10.3.6.82 which is incompatible.\n",
            "torch 2.5.1+cu124 requires nvidia-cusolver-cu12==11.6.1.9; platform_system == \"Linux\" and platform_machine == \"x86_64\", but you have nvidia-cusolver-cu12 11.6.3.83 which is incompatible.\n",
            "torch 2.5.1+cu124 requires nvidia-cusparse-cu12==12.3.1.170; platform_system == \"Linux\" and platform_machine == \"x86_64\", but you have nvidia-cusparse-cu12 12.5.1.3 which is incompatible.\n",
            "torch 2.5.1+cu124 requires nvidia-nvjitlink-cu12==12.4.127; platform_system == \"Linux\" and platform_machine == \"x86_64\", but you have nvidia-nvjitlink-cu12 12.5.82 which is incompatible.\n",
            "tensorflow 2.18.0 requires numpy<2.1.0,>=1.26.0, but you have numpy 2.2.5 which is incompatible.\n",
            "thinc 8.2.5 requires numpy<2.0.0,>=1.19.0; python_version >= \"3.9\", but you have numpy 2.2.5 which is incompatible.\u001b[0m\u001b[31m\n",
            "\u001b[0mSuccessfully installed MarkupSafe-3.0.2 diskcache-5.6.3 jinja2-3.1.6 llama-cpp-python-0.3.9 numpy-2.2.5 typing-extensions-4.13.2\n"
          ]
        }
      ],
      "source": [
        "# As our cuda version is 12.4 so using whl > cu124 (inorder not to get version mismatch things by using cu118)\n",
        "# ref: https://pypi.org/project/llama-cpp-python/\n",
        "\n",
        "!pip install llama-cpp-python --upgrade --force-reinstall --extra-index-url https://abetlen.github.io/llama-cpp-python/whl/cu124\n",
        "\n",
        "# Alternatively use\n",
        "#!CMAKE_ARGS=\"-DLLAMA_CUBLAS=on\" pip install llama-cpp-python\n",
        "\n",
        "\n",
        "# Use this F16 support one for faster inference\n",
        "#!CMAKE_ARGS=\"-DLLAMA_CUBLAS=on -DLLAMA_CUDA_F16=on\" pip install llama-cpp-python\n",
        "\n",
        "#!CMAKE_ARGS=\"-DLLAMA_CUBLAS=ON\" pip install llama-cpp-python --upgrade --force-reinstall\n",
        "\n",
        "# !CMAKE_ARGS=\"-DLLAMA_CUBLAS=on\" FORCE_CMAKE=1 pip install llama-cpp-python==0.1.85 --force-reinstall --no-cache-dir -q"
      ]
    },
    {
      "cell_type": "code",
      "execution_count": null,
      "metadata": {
        "id": "9eyuDSDm12lC"
      },
      "outputs": [],
      "source": [
        "# *?? Ideally below should be used but (due to some indirect depenendencies incompatibility (ie transformer, numpy), not using latest versions !!)\n",
        "#!pip install huggingface_hub langchain langchain_text_splitters pymupdf langchain-community tiktoken sentence-transformers\n",
        "\n",
        "# Below are the values suggested by Academic in reference notebook (not working !!)\n",
        "# For installing the libraries & downloading models from HF Hub\n",
        "#!pip install huggingface_hub==0.23.2 pandas==1.5.3 pymupdf==1.25.1 langchain==0.1.1 langchain-community==0.0.13 sentence-transformers==2.4.0 numpy==1.26.0 -q"
      ]
    },
    {
      "cell_type": "code",
      "execution_count": 6,
      "metadata": {
        "colab": {
          "base_uri": "https://localhost:8080/"
        },
        "id": "Jc5eWaA3J3Jt",
        "outputId": "f2099117-25ee-4842-c7d6-7aa1e4984941"
      },
      "outputs": [
        {
          "output_type": "stream",
          "name": "stdout",
          "text": [
            "Collecting huggingface_hub==0.23.0\n",
            "  Downloading huggingface_hub-0.23.0-py3-none-any.whl.metadata (12 kB)\n",
            "Collecting accelerate==0.31.0\n",
            "  Downloading accelerate-0.31.0-py3-none-any.whl.metadata (19 kB)\n",
            "Collecting pymupdf==1.23.22\n",
            "  Downloading PyMuPDF-1.23.22-cp311-none-manylinux2014_x86_64.whl.metadata (3.4 kB)\n",
            "Collecting langchain==0.1.14\n",
            "  Downloading langchain-0.1.14-py3-none-any.whl.metadata (13 kB)\n",
            "Collecting langchain-community==0.0.35\n",
            "  Downloading langchain_community-0.0.35-py3-none-any.whl.metadata (8.7 kB)\n",
            "Collecting langchain_text_splitters==0.0.1\n",
            "  Downloading langchain_text_splitters-0.0.1-py3-none-any.whl.metadata (2.0 kB)\n",
            "Collecting sentence-transformers==2.6.1\n",
            "  Downloading sentence_transformers-2.6.1-py3-none-any.whl.metadata (11 kB)\n",
            "Collecting numpy==1.26.4\n",
            "  Downloading numpy-1.26.4-cp311-cp311-manylinux_2_17_x86_64.manylinux2014_x86_64.whl.metadata (61 kB)\n",
            "\u001b[2K     \u001b[90m━━━━━━━━━━━━━━━━━━━━━━━━━━━━━━━━━━━━━━━━\u001b[0m \u001b[32m61.0/61.0 kB\u001b[0m \u001b[31m5.3 MB/s\u001b[0m eta \u001b[36m0:00:00\u001b[0m\n",
            "\u001b[?25hRequirement already satisfied: pandas==2.2.2 in /usr/local/lib/python3.11/dist-packages (2.2.2)\n",
            "Collecting transformers==4.40.2\n",
            "  Downloading transformers-4.40.2-py3-none-any.whl.metadata (137 kB)\n",
            "\u001b[2K     \u001b[90m━━━━━━━━━━━━━━━━━━━━━━━━━━━━━━━━━━━━━━━━\u001b[0m \u001b[32m138.0/138.0 kB\u001b[0m \u001b[31m13.2 MB/s\u001b[0m eta \u001b[36m0:00:00\u001b[0m\n",
            "\u001b[?25hRequirement already satisfied: filelock in /usr/local/lib/python3.11/dist-packages (from huggingface_hub==0.23.0) (3.17.0)\n",
            "Requirement already satisfied: fsspec>=2023.5.0 in /usr/local/lib/python3.11/dist-packages (from huggingface_hub==0.23.0) (2024.10.0)\n",
            "Requirement already satisfied: packaging>=20.9 in /usr/local/lib/python3.11/dist-packages (from huggingface_hub==0.23.0) (24.2)\n",
            "Requirement already satisfied: pyyaml>=5.1 in /usr/local/lib/python3.11/dist-packages (from huggingface_hub==0.23.0) (6.0.2)\n",
            "Requirement already satisfied: requests in /usr/local/lib/python3.11/dist-packages (from huggingface_hub==0.23.0) (2.32.3)\n",
            "Requirement already satisfied: tqdm>=4.42.1 in /usr/local/lib/python3.11/dist-packages (from huggingface_hub==0.23.0) (4.67.1)\n",
            "Requirement already satisfied: typing-extensions>=3.7.4.3 in /usr/local/lib/python3.11/dist-packages (from huggingface_hub==0.23.0) (4.13.2)\n",
            "Requirement already satisfied: psutil in /usr/local/lib/python3.11/dist-packages (from accelerate==0.31.0) (5.9.5)\n",
            "Requirement already satisfied: torch>=1.10.0 in /usr/local/lib/python3.11/dist-packages (from accelerate==0.31.0) (2.5.1+cu124)\n",
            "Requirement already satisfied: safetensors>=0.3.1 in /usr/local/lib/python3.11/dist-packages (from accelerate==0.31.0) (0.5.3)\n",
            "Collecting PyMuPDFb==1.23.22 (from pymupdf==1.23.22)\n",
            "  Downloading PyMuPDFb-1.23.22-py3-none-manylinux2014_x86_64.manylinux_2_17_x86_64.whl.metadata (1.4 kB)\n",
            "Requirement already satisfied: SQLAlchemy<3,>=1.4 in /usr/local/lib/python3.11/dist-packages (from langchain==0.1.14) (2.0.38)\n",
            "Requirement already satisfied: aiohttp<4.0.0,>=3.8.3 in /usr/local/lib/python3.11/dist-packages (from langchain==0.1.14) (3.11.13)\n",
            "Collecting dataclasses-json<0.7,>=0.5.7 (from langchain==0.1.14)\n",
            "  Downloading dataclasses_json-0.6.7-py3-none-any.whl.metadata (25 kB)\n",
            "Requirement already satisfied: jsonpatch<2.0,>=1.33 in /usr/local/lib/python3.11/dist-packages (from langchain==0.1.14) (1.33)\n",
            "Collecting langchain-core<0.2.0,>=0.1.37 (from langchain==0.1.14)\n",
            "  Downloading langchain_core-0.1.53-py3-none-any.whl.metadata (5.9 kB)\n",
            "Collecting langsmith<0.2.0,>=0.1.17 (from langchain==0.1.14)\n",
            "  Downloading langsmith-0.1.147-py3-none-any.whl.metadata (14 kB)\n",
            "Requirement already satisfied: pydantic<3,>=1 in /usr/local/lib/python3.11/dist-packages (from langchain==0.1.14) (2.10.6)\n",
            "Collecting tenacity<9.0.0,>=8.1.0 (from langchain==0.1.14)\n",
            "  Downloading tenacity-8.5.0-py3-none-any.whl.metadata (1.2 kB)\n",
            "Requirement already satisfied: scikit-learn in /usr/local/lib/python3.11/dist-packages (from sentence-transformers==2.6.1) (1.6.1)\n",
            "Requirement already satisfied: scipy in /usr/local/lib/python3.11/dist-packages (from sentence-transformers==2.6.1) (1.13.1)\n",
            "Requirement already satisfied: Pillow in /usr/local/lib/python3.11/dist-packages (from sentence-transformers==2.6.1) (11.1.0)\n",
            "Requirement already satisfied: python-dateutil>=2.8.2 in /usr/local/lib/python3.11/dist-packages (from pandas==2.2.2) (2.8.2)\n",
            "Requirement already satisfied: pytz>=2020.1 in /usr/local/lib/python3.11/dist-packages (from pandas==2.2.2) (2025.1)\n",
            "Requirement already satisfied: tzdata>=2022.7 in /usr/local/lib/python3.11/dist-packages (from pandas==2.2.2) (2025.1)\n",
            "Requirement already satisfied: regex!=2019.12.17 in /usr/local/lib/python3.11/dist-packages (from transformers==4.40.2) (2024.11.6)\n",
            "Collecting tokenizers<0.20,>=0.19 (from transformers==4.40.2)\n",
            "  Downloading tokenizers-0.19.1-cp311-cp311-manylinux_2_17_x86_64.manylinux2014_x86_64.whl.metadata (6.7 kB)\n",
            "Requirement already satisfied: aiohappyeyeballs>=2.3.0 in /usr/local/lib/python3.11/dist-packages (from aiohttp<4.0.0,>=3.8.3->langchain==0.1.14) (2.4.6)\n",
            "Requirement already satisfied: aiosignal>=1.1.2 in /usr/local/lib/python3.11/dist-packages (from aiohttp<4.0.0,>=3.8.3->langchain==0.1.14) (1.3.2)\n",
            "Requirement already satisfied: attrs>=17.3.0 in /usr/local/lib/python3.11/dist-packages (from aiohttp<4.0.0,>=3.8.3->langchain==0.1.14) (25.1.0)\n",
            "Requirement already satisfied: frozenlist>=1.1.1 in /usr/local/lib/python3.11/dist-packages (from aiohttp<4.0.0,>=3.8.3->langchain==0.1.14) (1.5.0)\n",
            "Requirement already satisfied: multidict<7.0,>=4.5 in /usr/local/lib/python3.11/dist-packages (from aiohttp<4.0.0,>=3.8.3->langchain==0.1.14) (6.1.0)\n",
            "Requirement already satisfied: propcache>=0.2.0 in /usr/local/lib/python3.11/dist-packages (from aiohttp<4.0.0,>=3.8.3->langchain==0.1.14) (0.3.0)\n",
            "Requirement already satisfied: yarl<2.0,>=1.17.0 in /usr/local/lib/python3.11/dist-packages (from aiohttp<4.0.0,>=3.8.3->langchain==0.1.14) (1.18.3)\n",
            "Collecting marshmallow<4.0.0,>=3.18.0 (from dataclasses-json<0.7,>=0.5.7->langchain==0.1.14)\n",
            "  Downloading marshmallow-3.26.1-py3-none-any.whl.metadata (7.3 kB)\n",
            "Collecting typing-inspect<1,>=0.4.0 (from dataclasses-json<0.7,>=0.5.7->langchain==0.1.14)\n",
            "  Downloading typing_inspect-0.9.0-py3-none-any.whl.metadata (1.5 kB)\n",
            "Requirement already satisfied: jsonpointer>=1.9 in /usr/local/lib/python3.11/dist-packages (from jsonpatch<2.0,>=1.33->langchain==0.1.14) (3.0.0)\n",
            "Collecting packaging>=20.9 (from huggingface_hub==0.23.0)\n",
            "  Downloading packaging-23.2-py3-none-any.whl.metadata (3.2 kB)\n",
            "Requirement already satisfied: httpx<1,>=0.23.0 in /usr/local/lib/python3.11/dist-packages (from langsmith<0.2.0,>=0.1.17->langchain==0.1.14) (0.28.1)\n",
            "Requirement already satisfied: orjson<4.0.0,>=3.9.14 in /usr/local/lib/python3.11/dist-packages (from langsmith<0.2.0,>=0.1.17->langchain==0.1.14) (3.10.15)\n",
            "Requirement already satisfied: requests-toolbelt<2.0.0,>=1.0.0 in /usr/local/lib/python3.11/dist-packages (from langsmith<0.2.0,>=0.1.17->langchain==0.1.14) (1.0.0)\n",
            "Requirement already satisfied: annotated-types>=0.6.0 in /usr/local/lib/python3.11/dist-packages (from pydantic<3,>=1->langchain==0.1.14) (0.7.0)\n",
            "Requirement already satisfied: pydantic-core==2.27.2 in /usr/local/lib/python3.11/dist-packages (from pydantic<3,>=1->langchain==0.1.14) (2.27.2)\n",
            "Requirement already satisfied: six>=1.5 in /usr/local/lib/python3.11/dist-packages (from python-dateutil>=2.8.2->pandas==2.2.2) (1.17.0)\n",
            "Requirement already satisfied: charset-normalizer<4,>=2 in /usr/local/lib/python3.11/dist-packages (from requests->huggingface_hub==0.23.0) (3.4.1)\n",
            "Requirement already satisfied: idna<4,>=2.5 in /usr/local/lib/python3.11/dist-packages (from requests->huggingface_hub==0.23.0) (3.10)\n",
            "Requirement already satisfied: urllib3<3,>=1.21.1 in /usr/local/lib/python3.11/dist-packages (from requests->huggingface_hub==0.23.0) (2.3.0)\n",
            "Requirement already satisfied: certifi>=2017.4.17 in /usr/local/lib/python3.11/dist-packages (from requests->huggingface_hub==0.23.0) (2025.1.31)\n",
            "Requirement already satisfied: greenlet!=0.4.17 in /usr/local/lib/python3.11/dist-packages (from SQLAlchemy<3,>=1.4->langchain==0.1.14) (3.1.1)\n",
            "Requirement already satisfied: networkx in /usr/local/lib/python3.11/dist-packages (from torch>=1.10.0->accelerate==0.31.0) (3.4.2)\n",
            "Requirement already satisfied: jinja2 in /usr/local/lib/python3.11/dist-packages (from torch>=1.10.0->accelerate==0.31.0) (3.1.6)\n",
            "Collecting nvidia-cuda-nvrtc-cu12==12.4.127 (from torch>=1.10.0->accelerate==0.31.0)\n",
            "  Downloading nvidia_cuda_nvrtc_cu12-12.4.127-py3-none-manylinux2014_x86_64.whl.metadata (1.5 kB)\n",
            "Collecting nvidia-cuda-runtime-cu12==12.4.127 (from torch>=1.10.0->accelerate==0.31.0)\n",
            "  Downloading nvidia_cuda_runtime_cu12-12.4.127-py3-none-manylinux2014_x86_64.whl.metadata (1.5 kB)\n",
            "Collecting nvidia-cuda-cupti-cu12==12.4.127 (from torch>=1.10.0->accelerate==0.31.0)\n",
            "  Downloading nvidia_cuda_cupti_cu12-12.4.127-py3-none-manylinux2014_x86_64.whl.metadata (1.6 kB)\n",
            "Collecting nvidia-cudnn-cu12==9.1.0.70 (from torch>=1.10.0->accelerate==0.31.0)\n",
            "  Downloading nvidia_cudnn_cu12-9.1.0.70-py3-none-manylinux2014_x86_64.whl.metadata (1.6 kB)\n",
            "Collecting nvidia-cublas-cu12==12.4.5.8 (from torch>=1.10.0->accelerate==0.31.0)\n",
            "  Downloading nvidia_cublas_cu12-12.4.5.8-py3-none-manylinux2014_x86_64.whl.metadata (1.5 kB)\n",
            "Collecting nvidia-cufft-cu12==11.2.1.3 (from torch>=1.10.0->accelerate==0.31.0)\n",
            "  Downloading nvidia_cufft_cu12-11.2.1.3-py3-none-manylinux2014_x86_64.whl.metadata (1.5 kB)\n",
            "Collecting nvidia-curand-cu12==10.3.5.147 (from torch>=1.10.0->accelerate==0.31.0)\n",
            "  Downloading nvidia_curand_cu12-10.3.5.147-py3-none-manylinux2014_x86_64.whl.metadata (1.5 kB)\n",
            "Collecting nvidia-cusolver-cu12==11.6.1.9 (from torch>=1.10.0->accelerate==0.31.0)\n",
            "  Downloading nvidia_cusolver_cu12-11.6.1.9-py3-none-manylinux2014_x86_64.whl.metadata (1.6 kB)\n",
            "Collecting nvidia-cusparse-cu12==12.3.1.170 (from torch>=1.10.0->accelerate==0.31.0)\n",
            "  Downloading nvidia_cusparse_cu12-12.3.1.170-py3-none-manylinux2014_x86_64.whl.metadata (1.6 kB)\n",
            "Requirement already satisfied: nvidia-nccl-cu12==2.21.5 in /usr/local/lib/python3.11/dist-packages (from torch>=1.10.0->accelerate==0.31.0) (2.21.5)\n",
            "Requirement already satisfied: nvidia-nvtx-cu12==12.4.127 in /usr/local/lib/python3.11/dist-packages (from torch>=1.10.0->accelerate==0.31.0) (12.4.127)\n",
            "Collecting nvidia-nvjitlink-cu12==12.4.127 (from torch>=1.10.0->accelerate==0.31.0)\n",
            "  Downloading nvidia_nvjitlink_cu12-12.4.127-py3-none-manylinux2014_x86_64.whl.metadata (1.5 kB)\n",
            "Requirement already satisfied: triton==3.1.0 in /usr/local/lib/python3.11/dist-packages (from torch>=1.10.0->accelerate==0.31.0) (3.1.0)\n",
            "Requirement already satisfied: sympy==1.13.1 in /usr/local/lib/python3.11/dist-packages (from torch>=1.10.0->accelerate==0.31.0) (1.13.1)\n",
            "Requirement already satisfied: mpmath<1.4,>=1.1.0 in /usr/local/lib/python3.11/dist-packages (from sympy==1.13.1->torch>=1.10.0->accelerate==0.31.0) (1.3.0)\n",
            "Requirement already satisfied: joblib>=1.2.0 in /usr/local/lib/python3.11/dist-packages (from scikit-learn->sentence-transformers==2.6.1) (1.4.2)\n",
            "Requirement already satisfied: threadpoolctl>=3.1.0 in /usr/local/lib/python3.11/dist-packages (from scikit-learn->sentence-transformers==2.6.1) (3.5.0)\n",
            "Requirement already satisfied: anyio in /usr/local/lib/python3.11/dist-packages (from httpx<1,>=0.23.0->langsmith<0.2.0,>=0.1.17->langchain==0.1.14) (3.7.1)\n",
            "Requirement already satisfied: httpcore==1.* in /usr/local/lib/python3.11/dist-packages (from httpx<1,>=0.23.0->langsmith<0.2.0,>=0.1.17->langchain==0.1.14) (1.0.7)\n",
            "Requirement already satisfied: h11<0.15,>=0.13 in /usr/local/lib/python3.11/dist-packages (from httpcore==1.*->httpx<1,>=0.23.0->langsmith<0.2.0,>=0.1.17->langchain==0.1.14) (0.14.0)\n",
            "Collecting mypy-extensions>=0.3.0 (from typing-inspect<1,>=0.4.0->dataclasses-json<0.7,>=0.5.7->langchain==0.1.14)\n",
            "  Downloading mypy_extensions-1.1.0-py3-none-any.whl.metadata (1.1 kB)\n",
            "Requirement already satisfied: MarkupSafe>=2.0 in /usr/local/lib/python3.11/dist-packages (from jinja2->torch>=1.10.0->accelerate==0.31.0) (3.0.2)\n",
            "Requirement already satisfied: sniffio>=1.1 in /usr/local/lib/python3.11/dist-packages (from anyio->httpx<1,>=0.23.0->langsmith<0.2.0,>=0.1.17->langchain==0.1.14) (1.3.1)\n",
            "Downloading huggingface_hub-0.23.0-py3-none-any.whl (401 kB)\n",
            "\u001b[2K   \u001b[90m━━━━━━━━━━━━━━━━━━━━━━━━━━━━━━━━━━━━━━━━\u001b[0m \u001b[32m401.2/401.2 kB\u001b[0m \u001b[31m35.7 MB/s\u001b[0m eta \u001b[36m0:00:00\u001b[0m\n",
            "\u001b[?25hDownloading accelerate-0.31.0-py3-none-any.whl (309 kB)\n",
            "\u001b[2K   \u001b[90m━━━━━━━━━━━━━━━━━━━━━━━━━━━━━━━━━━━━━━━━\u001b[0m \u001b[32m309.4/309.4 kB\u001b[0m \u001b[31m24.7 MB/s\u001b[0m eta \u001b[36m0:00:00\u001b[0m\n",
            "\u001b[?25hDownloading PyMuPDF-1.23.22-cp311-none-manylinux2014_x86_64.whl (4.4 MB)\n",
            "\u001b[2K   \u001b[90m━━━━━━━━━━━━━━━━━━━━━━━━━━━━━━━━━━━━━━━━\u001b[0m \u001b[32m4.4/4.4 MB\u001b[0m \u001b[31m11.1 MB/s\u001b[0m eta \u001b[36m0:00:00\u001b[0m\n",
            "\u001b[?25hDownloading langchain-0.1.14-py3-none-any.whl (812 kB)\n",
            "\u001b[2K   \u001b[90m━━━━━━━━━━━━━━━━━━━━━━━━━━━━━━━━━━━━━━━━\u001b[0m \u001b[32m812.8/812.8 kB\u001b[0m \u001b[31m51.6 MB/s\u001b[0m eta \u001b[36m0:00:00\u001b[0m\n",
            "\u001b[?25hDownloading langchain_community-0.0.35-py3-none-any.whl (2.0 MB)\n",
            "\u001b[2K   \u001b[90m━━━━━━━━━━━━━━━━━━━━━━━━━━━━━━━━━━━━━━━━\u001b[0m \u001b[32m2.0/2.0 MB\u001b[0m \u001b[31m83.1 MB/s\u001b[0m eta \u001b[36m0:00:00\u001b[0m\n",
            "\u001b[?25hDownloading langchain_text_splitters-0.0.1-py3-none-any.whl (21 kB)\n",
            "Downloading sentence_transformers-2.6.1-py3-none-any.whl (163 kB)\n",
            "\u001b[2K   \u001b[90m━━━━━━━━━━━━━━━━━━━━━━━━━━━━━━━━━━━━━━━━\u001b[0m \u001b[32m163.3/163.3 kB\u001b[0m \u001b[31m17.3 MB/s\u001b[0m eta \u001b[36m0:00:00\u001b[0m\n",
            "\u001b[?25hDownloading numpy-1.26.4-cp311-cp311-manylinux_2_17_x86_64.manylinux2014_x86_64.whl (18.3 MB)\n",
            "\u001b[2K   \u001b[90m━━━━━━━━━━━━━━━━━━━━━━━━━━━━━━━━━━━━━━━━\u001b[0m \u001b[32m18.3/18.3 MB\u001b[0m \u001b[31m57.8 MB/s\u001b[0m eta \u001b[36m0:00:00\u001b[0m\n",
            "\u001b[?25hDownloading transformers-4.40.2-py3-none-any.whl (9.0 MB)\n",
            "\u001b[2K   \u001b[90m━━━━━━━━━━━━━━━━━━━━━━━━━━━━━━━━━━━━━━━━\u001b[0m \u001b[32m9.0/9.0 MB\u001b[0m \u001b[31m88.2 MB/s\u001b[0m eta \u001b[36m0:00:00\u001b[0m\n",
            "\u001b[?25hDownloading PyMuPDFb-1.23.22-py3-none-manylinux2014_x86_64.manylinux_2_17_x86_64.whl (30.6 MB)\n",
            "\u001b[2K   \u001b[90m━━━━━━━━━━━━━━━━━━━━━━━━━━━━━━━━━━━━━━━━\u001b[0m \u001b[32m30.6/30.6 MB\u001b[0m \u001b[31m27.4 MB/s\u001b[0m eta \u001b[36m0:00:00\u001b[0m\n",
            "\u001b[?25hDownloading dataclasses_json-0.6.7-py3-none-any.whl (28 kB)\n",
            "Downloading langchain_core-0.1.53-py3-none-any.whl (303 kB)\n",
            "\u001b[2K   \u001b[90m━━━━━━━━━━━━━━━━━━━━━━━━━━━━━━━━━━━━━━━━\u001b[0m \u001b[32m303.1/303.1 kB\u001b[0m \u001b[31m30.1 MB/s\u001b[0m eta \u001b[36m0:00:00\u001b[0m\n",
            "\u001b[?25hDownloading langsmith-0.1.147-py3-none-any.whl (311 kB)\n",
            "\u001b[2K   \u001b[90m━━━━━━━━━━━━━━━━━━━━━━━━━━━━━━━━━━━━━━━━\u001b[0m \u001b[32m311.8/311.8 kB\u001b[0m \u001b[31m29.9 MB/s\u001b[0m eta \u001b[36m0:00:00\u001b[0m\n",
            "\u001b[?25hDownloading packaging-23.2-py3-none-any.whl (53 kB)\n",
            "\u001b[2K   \u001b[90m━━━━━━━━━━━━━━━━━━━━━━━━━━━━━━━━━━━━━━━━\u001b[0m \u001b[32m53.0/53.0 kB\u001b[0m \u001b[31m4.8 MB/s\u001b[0m eta \u001b[36m0:00:00\u001b[0m\n",
            "\u001b[?25hDownloading tenacity-8.5.0-py3-none-any.whl (28 kB)\n",
            "Downloading tokenizers-0.19.1-cp311-cp311-manylinux_2_17_x86_64.manylinux2014_x86_64.whl (3.6 MB)\n",
            "\u001b[2K   \u001b[90m━━━━━━━━━━━━━━━━━━━━━━━━━━━━━━━━━━━━━━━━\u001b[0m \u001b[32m3.6/3.6 MB\u001b[0m \u001b[31m116.5 MB/s\u001b[0m eta \u001b[36m0:00:00\u001b[0m\n",
            "\u001b[?25hDownloading nvidia_cublas_cu12-12.4.5.8-py3-none-manylinux2014_x86_64.whl (363.4 MB)\n",
            "\u001b[2K   \u001b[90m━━━━━━━━━━━━━━━━━━━━━━━━━━━━━━━━━━━━━━━━\u001b[0m \u001b[32m363.4/363.4 MB\u001b[0m \u001b[31m4.8 MB/s\u001b[0m eta \u001b[36m0:00:00\u001b[0m\n",
            "\u001b[?25hDownloading nvidia_cuda_cupti_cu12-12.4.127-py3-none-manylinux2014_x86_64.whl (13.8 MB)\n",
            "\u001b[2K   \u001b[90m━━━━━━━━━━━━━━━━━━━━━━━━━━━━━━━━━━━━━━━━\u001b[0m \u001b[32m13.8/13.8 MB\u001b[0m \u001b[31m127.2 MB/s\u001b[0m eta \u001b[36m0:00:00\u001b[0m\n",
            "\u001b[?25hDownloading nvidia_cuda_nvrtc_cu12-12.4.127-py3-none-manylinux2014_x86_64.whl (24.6 MB)\n",
            "\u001b[2K   \u001b[90m━━━━━━━━━━━━━━━━━━━━━━━━━━━━━━━━━━━━━━━━\u001b[0m \u001b[32m24.6/24.6 MB\u001b[0m \u001b[31m93.0 MB/s\u001b[0m eta \u001b[36m0:00:00\u001b[0m\n",
            "\u001b[?25hDownloading nvidia_cuda_runtime_cu12-12.4.127-py3-none-manylinux2014_x86_64.whl (883 kB)\n",
            "\u001b[2K   \u001b[90m━━━━━━━━━━━━━━━━━━━━━━━━━━━━━━━━━━━━━━━━\u001b[0m \u001b[32m883.7/883.7 kB\u001b[0m \u001b[31m48.2 MB/s\u001b[0m eta \u001b[36m0:00:00\u001b[0m\n",
            "\u001b[?25hDownloading nvidia_cudnn_cu12-9.1.0.70-py3-none-manylinux2014_x86_64.whl (664.8 MB)\n",
            "\u001b[2K   \u001b[90m━━━━━━━━━━━━━━━━━━━━━━━━━━━━━━━━━━━━━━━━\u001b[0m \u001b[32m664.8/664.8 MB\u001b[0m \u001b[31m3.4 MB/s\u001b[0m eta \u001b[36m0:00:00\u001b[0m\n",
            "\u001b[?25hDownloading nvidia_cufft_cu12-11.2.1.3-py3-none-manylinux2014_x86_64.whl (211.5 MB)\n",
            "\u001b[2K   \u001b[90m━━━━━━━━━━━━━━━━━━━━━━━━━━━━━━━━━━━━━━━━\u001b[0m \u001b[32m211.5/211.5 MB\u001b[0m \u001b[31m5.2 MB/s\u001b[0m eta \u001b[36m0:00:00\u001b[0m\n",
            "\u001b[?25hDownloading nvidia_curand_cu12-10.3.5.147-py3-none-manylinux2014_x86_64.whl (56.3 MB)\n",
            "\u001b[2K   \u001b[90m━━━━━━━━━━━━━━━━━━━━━━━━━━━━━━━━━━━━━━━━\u001b[0m \u001b[32m56.3/56.3 MB\u001b[0m \u001b[31m11.9 MB/s\u001b[0m eta \u001b[36m0:00:00\u001b[0m\n",
            "\u001b[?25hDownloading nvidia_cusolver_cu12-11.6.1.9-py3-none-manylinux2014_x86_64.whl (127.9 MB)\n",
            "\u001b[2K   \u001b[90m━━━━━━━━━━━━━━━━━━━━━━━━━━━━━━━━━━━━━━━━\u001b[0m \u001b[32m127.9/127.9 MB\u001b[0m \u001b[31m7.7 MB/s\u001b[0m eta \u001b[36m0:00:00\u001b[0m\n",
            "\u001b[?25hDownloading nvidia_cusparse_cu12-12.3.1.170-py3-none-manylinux2014_x86_64.whl (207.5 MB)\n",
            "\u001b[2K   \u001b[90m━━━━━━━━━━━━━━━━━━━━━━━━━━━━━━━━━━━━━━━━\u001b[0m \u001b[32m207.5/207.5 MB\u001b[0m \u001b[31m5.4 MB/s\u001b[0m eta \u001b[36m0:00:00\u001b[0m\n",
            "\u001b[?25hDownloading nvidia_nvjitlink_cu12-12.4.127-py3-none-manylinux2014_x86_64.whl (21.1 MB)\n",
            "\u001b[2K   \u001b[90m━━━━━━━━━━━━━━━━━━━━━━━━━━━━━━━━━━━━━━━━\u001b[0m \u001b[32m21.1/21.1 MB\u001b[0m \u001b[31m90.6 MB/s\u001b[0m eta \u001b[36m0:00:00\u001b[0m\n",
            "\u001b[?25hDownloading marshmallow-3.26.1-py3-none-any.whl (50 kB)\n",
            "\u001b[2K   \u001b[90m━━━━━━━━━━━━━━━━━━━━━━━━━━━━━━━━━━━━━━━━\u001b[0m \u001b[32m50.9/50.9 kB\u001b[0m \u001b[31m4.7 MB/s\u001b[0m eta \u001b[36m0:00:00\u001b[0m\n",
            "\u001b[?25hDownloading typing_inspect-0.9.0-py3-none-any.whl (8.8 kB)\n",
            "Downloading mypy_extensions-1.1.0-py3-none-any.whl (5.0 kB)\n",
            "Installing collected packages: tenacity, PyMuPDFb, packaging, nvidia-nvjitlink-cu12, nvidia-curand-cu12, nvidia-cufft-cu12, nvidia-cuda-runtime-cu12, nvidia-cuda-nvrtc-cu12, nvidia-cuda-cupti-cu12, nvidia-cublas-cu12, numpy, mypy-extensions, typing-inspect, pymupdf, nvidia-cusparse-cu12, nvidia-cudnn-cu12, marshmallow, huggingface_hub, tokenizers, nvidia-cusolver-cu12, langsmith, dataclasses-json, transformers, langchain-core, sentence-transformers, langchain_text_splitters, langchain-community, accelerate, langchain\n",
            "  Attempting uninstall: tenacity\n",
            "    Found existing installation: tenacity 9.0.0\n",
            "    Uninstalling tenacity-9.0.0:\n",
            "      Successfully uninstalled tenacity-9.0.0\n",
            "  Attempting uninstall: packaging\n",
            "    Found existing installation: packaging 24.2\n",
            "    Uninstalling packaging-24.2:\n",
            "      Successfully uninstalled packaging-24.2\n",
            "  Attempting uninstall: nvidia-nvjitlink-cu12\n",
            "    Found existing installation: nvidia-nvjitlink-cu12 12.5.82\n",
            "    Uninstalling nvidia-nvjitlink-cu12-12.5.82:\n",
            "      Successfully uninstalled nvidia-nvjitlink-cu12-12.5.82\n",
            "  Attempting uninstall: nvidia-curand-cu12\n",
            "    Found existing installation: nvidia-curand-cu12 10.3.6.82\n",
            "    Uninstalling nvidia-curand-cu12-10.3.6.82:\n",
            "      Successfully uninstalled nvidia-curand-cu12-10.3.6.82\n",
            "  Attempting uninstall: nvidia-cufft-cu12\n",
            "    Found existing installation: nvidia-cufft-cu12 11.2.3.61\n",
            "    Uninstalling nvidia-cufft-cu12-11.2.3.61:\n",
            "      Successfully uninstalled nvidia-cufft-cu12-11.2.3.61\n",
            "  Attempting uninstall: nvidia-cuda-runtime-cu12\n",
            "    Found existing installation: nvidia-cuda-runtime-cu12 12.5.82\n",
            "    Uninstalling nvidia-cuda-runtime-cu12-12.5.82:\n",
            "      Successfully uninstalled nvidia-cuda-runtime-cu12-12.5.82\n",
            "  Attempting uninstall: nvidia-cuda-nvrtc-cu12\n",
            "    Found existing installation: nvidia-cuda-nvrtc-cu12 12.5.82\n",
            "    Uninstalling nvidia-cuda-nvrtc-cu12-12.5.82:\n",
            "      Successfully uninstalled nvidia-cuda-nvrtc-cu12-12.5.82\n",
            "  Attempting uninstall: nvidia-cuda-cupti-cu12\n",
            "    Found existing installation: nvidia-cuda-cupti-cu12 12.5.82\n",
            "    Uninstalling nvidia-cuda-cupti-cu12-12.5.82:\n",
            "      Successfully uninstalled nvidia-cuda-cupti-cu12-12.5.82\n",
            "  Attempting uninstall: nvidia-cublas-cu12\n",
            "    Found existing installation: nvidia-cublas-cu12 12.5.3.2\n",
            "    Uninstalling nvidia-cublas-cu12-12.5.3.2:\n",
            "      Successfully uninstalled nvidia-cublas-cu12-12.5.3.2\n",
            "  Attempting uninstall: numpy\n",
            "    Found existing installation: numpy 2.2.5\n",
            "    Uninstalling numpy-2.2.5:\n",
            "      Successfully uninstalled numpy-2.2.5\n",
            "  Attempting uninstall: nvidia-cusparse-cu12\n",
            "    Found existing installation: nvidia-cusparse-cu12 12.5.1.3\n",
            "    Uninstalling nvidia-cusparse-cu12-12.5.1.3:\n",
            "      Successfully uninstalled nvidia-cusparse-cu12-12.5.1.3\n",
            "  Attempting uninstall: nvidia-cudnn-cu12\n",
            "    Found existing installation: nvidia-cudnn-cu12 9.3.0.75\n",
            "    Uninstalling nvidia-cudnn-cu12-9.3.0.75:\n",
            "      Successfully uninstalled nvidia-cudnn-cu12-9.3.0.75\n",
            "  Attempting uninstall: huggingface_hub\n",
            "    Found existing installation: huggingface-hub 0.28.1\n",
            "    Uninstalling huggingface-hub-0.28.1:\n",
            "      Successfully uninstalled huggingface-hub-0.28.1\n",
            "  Attempting uninstall: tokenizers\n",
            "    Found existing installation: tokenizers 0.21.0\n",
            "    Uninstalling tokenizers-0.21.0:\n",
            "      Successfully uninstalled tokenizers-0.21.0\n",
            "  Attempting uninstall: nvidia-cusolver-cu12\n",
            "    Found existing installation: nvidia-cusolver-cu12 11.6.3.83\n",
            "    Uninstalling nvidia-cusolver-cu12-11.6.3.83:\n",
            "      Successfully uninstalled nvidia-cusolver-cu12-11.6.3.83\n",
            "  Attempting uninstall: langsmith\n",
            "    Found existing installation: langsmith 0.3.11\n",
            "    Uninstalling langsmith-0.3.11:\n",
            "      Successfully uninstalled langsmith-0.3.11\n",
            "  Attempting uninstall: transformers\n",
            "    Found existing installation: transformers 4.48.3\n",
            "    Uninstalling transformers-4.48.3:\n",
            "      Successfully uninstalled transformers-4.48.3\n",
            "  Attempting uninstall: langchain-core\n",
            "    Found existing installation: langchain-core 0.3.40\n",
            "    Uninstalling langchain-core-0.3.40:\n",
            "      Successfully uninstalled langchain-core-0.3.40\n",
            "  Attempting uninstall: sentence-transformers\n",
            "    Found existing installation: sentence-transformers 3.4.1\n",
            "    Uninstalling sentence-transformers-3.4.1:\n",
            "      Successfully uninstalled sentence-transformers-3.4.1\n",
            "  Attempting uninstall: langchain_text_splitters\n",
            "    Found existing installation: langchain-text-splitters 0.3.6\n",
            "    Uninstalling langchain-text-splitters-0.3.6:\n",
            "      Successfully uninstalled langchain-text-splitters-0.3.6\n",
            "  Attempting uninstall: accelerate\n",
            "    Found existing installation: accelerate 1.3.0\n",
            "    Uninstalling accelerate-1.3.0:\n",
            "      Successfully uninstalled accelerate-1.3.0\n",
            "  Attempting uninstall: langchain\n",
            "    Found existing installation: langchain 0.3.19\n",
            "    Uninstalling langchain-0.3.19:\n",
            "      Successfully uninstalled langchain-0.3.19\n",
            "\u001b[31mERROR: pip's dependency resolver does not currently take into account all the packages that are installed. This behaviour is the source of the following dependency conflicts.\n",
            "diffusers 0.32.2 requires huggingface-hub>=0.23.2, but you have huggingface-hub 0.23.0 which is incompatible.\n",
            "peft 0.14.0 requires huggingface-hub>=0.25.0, but you have huggingface-hub 0.23.0 which is incompatible.\u001b[0m\u001b[31m\n",
            "\u001b[0mSuccessfully installed PyMuPDFb-1.23.22 accelerate-0.31.0 dataclasses-json-0.6.7 huggingface_hub-0.23.0 langchain-0.1.14 langchain-community-0.0.35 langchain-core-0.1.53 langchain_text_splitters-0.0.1 langsmith-0.1.147 marshmallow-3.26.1 mypy-extensions-1.1.0 numpy-1.26.4 nvidia-cublas-cu12-12.4.5.8 nvidia-cuda-cupti-cu12-12.4.127 nvidia-cuda-nvrtc-cu12-12.4.127 nvidia-cuda-runtime-cu12-12.4.127 nvidia-cudnn-cu12-9.1.0.70 nvidia-cufft-cu12-11.2.1.3 nvidia-curand-cu12-10.3.5.147 nvidia-cusolver-cu12-11.6.1.9 nvidia-cusparse-cu12-12.3.1.170 nvidia-nvjitlink-cu12-12.4.127 packaging-23.2 pymupdf-1.23.22 sentence-transformers-2.6.1 tenacity-8.5.0 tokenizers-0.19.1 transformers-4.40.2 typing-inspect-0.9.0\n"
          ]
        }
      ],
      "source": [
        "# ---\n",
        "# ? After lots of trial and error deduce compatible versions between packages that worked out !!\n",
        "# ---\n",
        "!pip install huggingface_hub==0.23.0 accelerate==0.31.0 pymupdf==1.23.22 langchain==0.1.14 langchain-community==0.0.35 langchain_text_splitters==0.0.1 sentence-transformers==2.6.1 numpy==1.26.4 pandas==2.2.2 transformers==4.40.2"
      ]
    },
    {
      "cell_type": "code",
      "source": [
        "# ?? --\n",
        "# Earlier this was not needed (to install seprately)\n",
        "# But as later on due to version mismatch, we put specific version to each library (ie not using latest versions)\n",
        "# In which case (might be langchain community packages in older days wont be shipping `faiss-cpu` together with it so we may need to dodwnload manually)\n",
        "# But whilst using latest version it may not required to download it manually !!\n",
        "# -----\n",
        "!pip install faiss-cpu"
      ],
      "metadata": {
        "colab": {
          "base_uri": "https://localhost:8080/"
        },
        "id": "3t2VxJrsP0YN",
        "outputId": "35cbb872-849e-4b42-d95e-f520fdece1b2"
      },
      "execution_count": 1,
      "outputs": [
        {
          "output_type": "stream",
          "name": "stdout",
          "text": [
            "Collecting faiss-cpu\n",
            "  Downloading faiss_cpu-1.11.0-cp311-cp311-manylinux_2_28_x86_64.whl.metadata (4.8 kB)\n",
            "Requirement already satisfied: numpy<3.0,>=1.25.0 in /usr/local/lib/python3.11/dist-packages (from faiss-cpu) (2.0.2)\n",
            "Requirement already satisfied: packaging in /usr/local/lib/python3.11/dist-packages (from faiss-cpu) (24.2)\n",
            "Downloading faiss_cpu-1.11.0-cp311-cp311-manylinux_2_28_x86_64.whl (31.3 MB)\n",
            "\u001b[2K   \u001b[90m━━━━━━━━━━━━━━━━━━━━━━━━━━━━━━━━━━━━━━━━\u001b[0m \u001b[32m31.3/31.3 MB\u001b[0m \u001b[31m15.5 MB/s\u001b[0m eta \u001b[36m0:00:00\u001b[0m\n",
            "\u001b[?25hInstalling collected packages: faiss-cpu\n",
            "Successfully installed faiss-cpu-1.11.0\n"
          ]
        }
      ]
    },
    {
      "cell_type": "code",
      "source": [
        "import numpy\n",
        "print(numpy.__version__)"
      ],
      "metadata": {
        "colab": {
          "base_uri": "https://localhost:8080/"
        },
        "id": "lBAYpUphKfFg",
        "outputId": "b6d5b956-6070-455b-f770-aefd1acc9027"
      },
      "execution_count": 8,
      "outputs": [
        {
          "output_type": "stream",
          "name": "stdout",
          "text": [
            "1.26.4\n"
          ]
        }
      ]
    },
    {
      "cell_type": "code",
      "source": [
        "import transformers\n",
        "print(transformers.__version__)"
      ],
      "metadata": {
        "colab": {
          "base_uri": "https://localhost:8080/"
        },
        "id": "p5qhDkzyP9WH",
        "outputId": "82ec3440-54b8-49ef-c4ad-50ac8551d85c"
      },
      "execution_count": 9,
      "outputs": [
        {
          "output_type": "stream",
          "name": "stdout",
          "text": [
            "4.40.2\n"
          ]
        }
      ]
    },
    {
      "cell_type": "code",
      "source": [
        "# THis block is for debug and identify trace of numpy version ambiguity (because installed was 1.26.4 but showing 2.0.2)\n",
        "import sys\n",
        "\n",
        "print(\"NumPy version:\", numpy.__version__)\n",
        "print(\"Imported from:\", numpy.__file__)\n",
        "print(\"Python executable:\", sys.executable)\n",
        "print(\"Environment paths:\")\n",
        "for path in sys.path:\n",
        "    print(\" -\", path)"
      ],
      "metadata": {
        "colab": {
          "base_uri": "https://localhost:8080/"
        },
        "id": "SYKpmQGjMfYx",
        "outputId": "a07f190d-7c1e-4214-937d-bc1bfabe280b"
      },
      "execution_count": 10,
      "outputs": [
        {
          "output_type": "stream",
          "name": "stdout",
          "text": [
            "NumPy version: 1.26.4\n",
            "Imported from: /usr/local/lib/python3.11/dist-packages/numpy/__init__.py\n",
            "Python executable: /usr/bin/python3\n",
            "Environment paths:\n",
            " - /content\n",
            " - /env/python\n",
            " - /usr/lib/python311.zip\n",
            " - /usr/lib/python3.11\n",
            " - /usr/lib/python3.11/lib-dynload\n",
            " - \n",
            " - /usr/local/lib/python3.11/dist-packages\n",
            " - /usr/lib/python3/dist-packages\n",
            " - /usr/local/lib/python3.11/dist-packages/IPython/extensions\n",
            " - /root/.ipython\n"
          ]
        }
      ]
    },
    {
      "cell_type": "markdown",
      "metadata": {
        "id": "8O7iTiRrDuHB"
      },
      "source": [
        "#### Imports"
      ]
    },
    {
      "cell_type": "code",
      "execution_count": 90,
      "metadata": {
        "id": "Go7JMvYVLj4d"
      },
      "outputs": [],
      "source": [
        "import os\n",
        "import pickle\n",
        "import time\n",
        "import json"
      ]
    },
    {
      "cell_type": "code",
      "execution_count": 12,
      "metadata": {
        "id": "Rem7wQUHDpsI"
      },
      "outputs": [],
      "source": [
        "from huggingface_hub import hf_hub_download, list_repo_files\n",
        "from llama_cpp import Llama"
      ]
    },
    {
      "cell_type": "code",
      "execution_count": 13,
      "metadata": {
        "id": "K3vwK5a74VCu"
      },
      "outputs": [],
      "source": [
        "from langchain_community.document_loaders import PyMuPDFLoader\n",
        "import re"
      ]
    },
    {
      "cell_type": "code",
      "execution_count": 14,
      "metadata": {
        "id": "Dxx5LJzy2B_5"
      },
      "outputs": [],
      "source": [
        "# Import libraries for text chunking\n",
        "from langchain_text_splitters import RecursiveCharacterTextSplitter\n",
        "from langchain_text_splitters import MarkdownHeaderTextSplitter"
      ]
    },
    {
      "cell_type": "code",
      "execution_count": 15,
      "metadata": {
        "id": "FD2QnCIlbSBN"
      },
      "outputs": [],
      "source": [
        "# Import libraries for embeddings\n",
        "from langchain_community.embeddings import HuggingFaceEmbeddings\n",
        "import torch\n",
        "import time"
      ]
    },
    {
      "cell_type": "code",
      "execution_count": 16,
      "metadata": {
        "id": "EAETSDyHndWz"
      },
      "outputs": [],
      "source": [
        "from typing import List"
      ]
    },
    {
      "cell_type": "code",
      "execution_count": 17,
      "metadata": {
        "id": "p2I6ptQz5m6-"
      },
      "outputs": [],
      "source": [
        "from langchain_community.vectorstores import FAISS"
      ]
    },
    {
      "cell_type": "markdown",
      "metadata": {
        "id": "2L7mNTzfbTPV"
      },
      "source": [
        "---"
      ]
    },
    {
      "cell_type": "code",
      "source": [
        "# Test questions from the problem statement\n",
        "questions = [\n",
        "    \"What is the protocol for managing sepsis in a critical care unit?\",\n",
        "    \"What are the common symptoms of appendicitis, and can it be cured via medicine? If not, what surgical procedure should be followed to treat it?\",\n",
        "    \"What are the effective treatments or solutions for addressing sudden patchy hair loss, commonly seen as localized bald spots on the scalp, and what could be the possible causes behind it?\",\n",
        "    \"What treatments are recommended for a person who has sustained a physical injury to brain tissue, resulting in temporary or permanent impairment of brain function?\",\n",
        "    \"What are the necessary precautions and treatment steps for a person who has fractured their leg during a hiking trip, and what should be considered for their care and recovery?\"\n",
        "]"
      ],
      "metadata": {
        "id": "hYkBtsKB8uo9"
      },
      "execution_count": 18,
      "outputs": []
    },
    {
      "cell_type": "code",
      "execution_count": null,
      "metadata": {
        "colab": {
          "base_uri": "https://localhost:8080/"
        },
        "id": "SoFuppZ5FlPr",
        "outputId": "96e9ad93-9fcb-4351-b88e-ba851563577f"
      },
      "outputs": [
        {
          "name": "stderr",
          "output_type": "stream",
          "text": [
            "/usr/local/lib/python3.11/dist-packages/huggingface_hub/utils/_token.py:88: UserWarning: \n",
            "The secret `HF_TOKEN` does not exist in your Colab secrets.\n",
            "To authenticate with the Hugging Face Hub, create a token in your settings tab (https://huggingface.co/settings/tokens), set it as secret in your Google Colab and restart your session.\n",
            "You will be able to reuse this secret in all of your notebooks.\n",
            "Please note that authentication is recommended but still optional to access public models or datasets.\n",
            "  warnings.warn(\n"
          ]
        },
        {
          "name": "stdout",
          "output_type": "stream",
          "text": [
            "Available GGUF files:\n",
            "Phi-3-mini-4k-instruct-fp16.gguf\n",
            "Phi-3-mini-4k-instruct-q4.gguf\n"
          ]
        }
      ],
      "source": [
        "# List available files to get the correct filename\n",
        "files = list_repo_files(\"microsoft/Phi-3-mini-4k-instruct-GGUF\")\n",
        "gguf_files = [f for f in files if f.endswith('.gguf')]\n",
        "print(\"Available GGUF files:\")\n",
        "for f in gguf_files:\n",
        "    print(f)"
      ]
    },
    {
      "cell_type": "markdown",
      "metadata": {
        "id": "Td5RrOTNGET7"
      },
      "source": [
        "⁉️ **Model Highlight**\n",
        "\n",
        "We will use **Phi-3-mini-4k-instruct-q4**\n",
        "> Phi-3-mini-4k-instruct-q4.gguf\n",
        "\n",
        "\n",
        "✅ **`phi-3-mini-4k-instruct-q4.gguf` is much faster**, especially on:\n",
        "\n",
        "* CPUs (with `llama.cpp`)\n",
        "* GPUs with limited memory (e.g., T4, RTX 3050, etc.)\n",
        "* Google Colab Free (RAM or VRAM limited)\n",
        "\n",
        "---\n",
        "\n",
        "### ✅ Recommendation\n",
        "\n",
        "For **RAG and general inference**, use:\n",
        "\n",
        "> **`phi-3-mini-4k-instruct-q4.gguf`**\n",
        "\n",
        "It's **fast**, **efficient**, and retains **most of the accuracy** — ideal for local or Colab usage.\n"
      ]
    },
    {
      "cell_type": "markdown",
      "metadata": {
        "id": "avtK9fnWGY6_"
      },
      "source": [
        "**Lets create directory for storing the model (above one)**"
      ]
    },
    {
      "cell_type": "code",
      "execution_count": null,
      "metadata": {
        "id": "ZbSsJwvzGUhR"
      },
      "outputs": [],
      "source": [
        "# Create directory for llm-models\n",
        "# ? The -p flag ensures that no error is thrown if the directory already exists.\n",
        "!mkdir -p /content/drive/MyDrive/llm_models"
      ]
    },
    {
      "cell_type": "code",
      "execution_count": 19,
      "metadata": {
        "id": "oMZQPbo3EtYv"
      },
      "outputs": [],
      "source": [
        "llm_models_dir_path = '/content/drive/MyDrive/llm_models'"
      ]
    },
    {
      "cell_type": "code",
      "execution_count": 20,
      "metadata": {
        "id": "G7QvSguIOpWR"
      },
      "outputs": [],
      "source": [
        "phi3_mini_local_path = f\"{llm_models_dir_path}/Phi-3-mini-4k-instruct-q4.gguf\""
      ]
    },
    {
      "cell_type": "code",
      "execution_count": 21,
      "metadata": {
        "id": "fbp4F-4-D2oW"
      },
      "outputs": [],
      "source": [
        "# Download pre-quantized model if it doesn't exist\n",
        "if not os.path.exists(phi3_mini_local_path):\n",
        "    print(\"Downloading pre-quantized model...\")\n",
        "    hf_hub_download(\n",
        "        repo_id=\"microsoft/Phi-3-mini-4k-instruct-GGUF\",\n",
        "        filename=\"Phi-3-mini-4k-instruct-q4.gguf\",\n",
        "        local_dir=llm_models_dir_path,\n",
        "\n",
        "        # Colab doesn't always support symlinks well esp. when\n",
        "        # - Writing to mounted paths (e.g. Google Drive)\n",
        "        # Using False ensures the model files are copied instead of symlinked\n",
        "        local_dir_use_symlinks=False\n",
        "    )"
      ]
    },
    {
      "cell_type": "markdown",
      "metadata": {
        "id": "eUM9ixJnJ9OF"
      },
      "source": [
        "## Question Answering using LLM"
      ]
    },
    {
      "cell_type": "markdown",
      "metadata": {
        "id": "BkPNBt86Kw5A"
      },
      "source": [
        "💡**REMEMBER**:\n",
        "\n",
        "the structure `response[\"choices\"][0][\"text\"]` is consistent across models when using the **llama-cpp-python** library. This is because llama.cpp follows the OpenAI API response format.\n",
        "\n",
        "When you call the model with a prompt, it returns a dictionary with this structure:\n",
        "\n",
        "```\n",
        "{\n",
        "  \"id\": \"...\",\n",
        "  \"object\": \"text_completion\",\n",
        "  \"created\": timestamp,\n",
        "  \"model\": \"...\",\n",
        "  \"choices\": [\n",
        "    {\n",
        "      \"text\": \"The generated text response\",\n",
        "      \"index\": 0,\n",
        "      \"logprobs\": null,\n",
        "      \"finish_reason\": \"length\" or \"stop\"\n",
        "    }\n",
        "  ],\n",
        "  \"usage\": {\n",
        "    \"prompt_tokens\": number,\n",
        "    \"completion_tokens\": number,\n",
        "    \"total_tokens\": number\n",
        "  }\n",
        "}\n",
        "```\n",
        "\n",
        "So `response[\"choices\"][0][\"text\"]` will consistently give you the generated text output regardless of which model you're using with llama-cpp-python."
      ]
    },
    {
      "cell_type": "markdown",
      "metadata": {
        "id": "mO-2-jqmMb0x"
      },
      "source": [
        "\n",
        "**Phi 3 Mini 4K Info**\n",
        "\n",
        "Phi-3-mini-4k-instruct has a **total context window** of 4096 tokens. This means the combined length of:\n",
        "- Your input prompt\n",
        "- The model's generated response\n",
        "\n",
        "cannot exceed 4096 tokens.\n",
        "\n",
        "For example:\n",
        "- If your prompt is 1000 tokens\n",
        "- You could generate up to 3096 tokens in response\n",
        "\n",
        "The `max_tokens` parameter (set to 1024 in our code) limits how many tokens the model will generate in its response, regardless of how much room is left in the context window.\n",
        "\n",
        "So while the model *could* theoretically generate up to ~4000 tokens (if your prompt is very short), setting `max_tokens=1024` is a practical limit that:\n",
        "1. Keeps response times reasonable\n",
        "2. Provides sufficient detail for medical answers\n",
        "3. Prevents excessively long outputs\n",
        "\n",
        "You can adjust this value based on your needs, but 1024 is a good starting point.\n"
      ]
    },
    {
      "cell_type": "markdown",
      "metadata": {
        "id": "Cj7ZHrF5KiLt"
      },
      "source": [
        "#### Loading the model"
      ]
    },
    {
      "cell_type": "code",
      "execution_count": 22,
      "metadata": {
        "id": "RsRCFfcDJZo8"
      },
      "outputs": [],
      "source": [
        "# Function to load the model\n",
        "def load_model(model_path):\n",
        "    \"\"\"\n",
        "    Load the llm model (quantized) to be used eith llama.cpp\n",
        "    \"\"\"\n",
        "    print(f'checking model at {model_path} ...')\n",
        "    if not os.path.exists(model_path):\n",
        "        print(f\"Model not found at {model_path} Please check !.\")\n",
        "        return None\n",
        "\n",
        "    # Load the model with appropriate parameters\n",
        "    llm = Llama(\n",
        "        model_path=model_path,\n",
        "        n_ctx=4096,  # Context window size - use the full 4K that the model supports\n",
        "        n_gpu_layers=-1,  # Use all GPU layers\n",
        "        verbose=False\n",
        "    )\n",
        "\n",
        "    return llm"
      ]
    },
    {
      "cell_type": "code",
      "execution_count": 23,
      "metadata": {
        "id": "r6J1zksHLqK9"
      },
      "outputs": [],
      "source": [
        "# max tokens - 1024 is good starting point // should be sufficient for comprehensive answers\n",
        "# temperature - A temperature of 0.2-0.4 would be more appropriate for medical question answering\n",
        "# - for medical applications, leaning toward more deterministic outputs is generally preferred\n",
        "\n",
        "# Function to define model parameters\n",
        "def get_model_parameters(temperature=0.3, top_p=0.9, max_tokens=1024):\n",
        "    \"\"\"\n",
        "    Define parameters for model inference\n",
        "    \"\"\"\n",
        "    return {\n",
        "        \"temperature\": temperature,\n",
        "        \"top_p\": top_p,\n",
        "        \"max_tokens\": max_tokens,\n",
        "        # todo: decide\n",
        "        # \"top_k\": 40,\n",
        "    }"
      ]
    },
    {
      "cell_type": "code",
      "execution_count": 24,
      "metadata": {
        "colab": {
          "base_uri": "https://localhost:8080/"
        },
        "id": "4fZrEQJWO0Ez",
        "outputId": "f1960cfb-ba22-4d38-f968-8e8b6ca6638e"
      },
      "outputs": [
        {
          "output_type": "stream",
          "name": "stdout",
          "text": [
            "model path:  /content/drive/MyDrive/llm_models/Phi-3-mini-4k-instruct-q4.gguf\n"
          ]
        }
      ],
      "source": [
        "# model path\n",
        "print('model path: ', phi3_mini_local_path)"
      ]
    },
    {
      "cell_type": "code",
      "execution_count": 25,
      "metadata": {
        "colab": {
          "base_uri": "https://localhost:8080/"
        },
        "id": "nm6daJ-_QKgF",
        "outputId": "1c38c746-2a03-480e-ade9-a7e9584700bf"
      },
      "outputs": [
        {
          "output_type": "stream",
          "name": "stdout",
          "text": [
            "total 2337140\n",
            "-rw------- 1 root root 2393231072 May 11 06:34 Phi-3-mini-4k-instruct-q4.gguf\n"
          ]
        }
      ],
      "source": [
        "!ls -l \"/content/drive/MyDrive/llm_models\""
      ]
    },
    {
      "cell_type": "code",
      "execution_count": 26,
      "metadata": {
        "colab": {
          "base_uri": "https://localhost:8080/"
        },
        "id": "qv28fGAXPuOM",
        "outputId": "46386374-e1ec-47ab-e0e7-00d29031a584"
      },
      "outputs": [
        {
          "output_type": "stream",
          "name": "stdout",
          "text": [
            "True\n"
          ]
        }
      ],
      "source": [
        "print(os.path.exists(phi3_mini_local_path))"
      ]
    },
    {
      "cell_type": "code",
      "execution_count": 27,
      "metadata": {
        "colab": {
          "base_uri": "https://localhost:8080/"
        },
        "id": "wGcYDGyfNUb9",
        "outputId": "e4b1d6d9-7ce9-4076-861f-e8312ed39e62"
      },
      "outputs": [
        {
          "output_type": "stream",
          "name": "stdout",
          "text": [
            "checking model at /content/drive/MyDrive/llm_models/Phi-3-mini-4k-instruct-q4.gguf ...\n"
          ]
        }
      ],
      "source": [
        "# Test the model loading\n",
        "model = load_model(phi3_mini_local_path)"
      ]
    },
    {
      "cell_type": "markdown",
      "metadata": {
        "id": "f9K-4EbEW8Bs"
      },
      "source": [
        "**Helper python function**"
      ]
    },
    {
      "cell_type": "code",
      "execution_count": 29,
      "metadata": {
        "id": "l4N6W1RiW7V_"
      },
      "outputs": [],
      "source": [
        "def response(query, llm, max_tokens=128,temperature=0,top_p=0.95,top_k=50):\n",
        "    # * ! this method is provided by academic\n",
        "    model_output = llm(\n",
        "      prompt=query,\n",
        "      max_tokens=max_tokens,\n",
        "      temperature=temperature,\n",
        "      top_p=top_p,\n",
        "      top_k=top_k\n",
        "    )\n",
        "\n",
        "    return model_output['choices'][0]['text']\n",
        "\n",
        "# TODO: make this method to return (answer, response)\n",
        "def get_response(query, model, params=dict()):\n",
        "    \"\"\"\n",
        "    Get answer to query\n",
        "    \"\"\"\n",
        "    try:\n",
        "\n",
        "      prompt = 'N/A'\n",
        "\n",
        "      pt = params.get('prompt_template')\n",
        "      if pt:\n",
        "        prompt = pt(query)\n",
        "      else:\n",
        "        # Create the properly formatted prompt\n",
        "        prompt = create_prompt(query)\n",
        "\n",
        "      # Get response from model\n",
        "      response = model(\n",
        "          prompt,\n",
        "          # because 512 or 1024 was consuming considerable amount of time so going with what academic takes as default (ie 128)\n",
        "          max_tokens=params.get(\"max_tokens\", 128),\n",
        "          temperature=params.get(\"temperature\", 0.2),\n",
        "          top_p=params.get(\"top_p\", 0.9),\n",
        "          top_k=params.get(\"top_k\", 50)\n",
        "          #top_k=params.get(\"top_k\")\n",
        "      )\n",
        "      # TODO: comment below print statement (if not needed to trace !...)\n",
        "      # print('got response', response)\n",
        "      return response['choices'][0]['text']\n",
        "    except Exception as e:\n",
        "      print('Error whilst getting the response', e)\n",
        "      return 'Error'\n",
        "\n",
        "def create_prompt(query):\n",
        "    \"\"\"\n",
        "    Creates a properly formatted prompt for the Phi-3-mini-4k-instruct model\n",
        "\n",
        "    Args:\n",
        "        query: The user's question or query\n",
        "\n",
        "    Returns:\n",
        "        A formatted prompt string that follows the model's expected format\n",
        "    \"\"\"\n",
        "    # Format following Phi-3 chat template\n",
        "    formatted_prompt = f\"\"\"<|user|>\n",
        "{query}\n",
        "<|assistant|>\"\"\"\n",
        "\n",
        "    # ! NOTE: not using `pipeline()` or `pipe()`\n",
        "    # We're using llama.cpp via the llama-cpp-python binding rather than the Hugging Face Transformers library\n",
        "    # The Transformers pipeline would be useful if we were using the full HF implementation\n",
        "    # but for our quantized model with llama.cpp, the direct approach we're using is more appropriate\n",
        "\n",
        "    return formatted_prompt"
      ]
    },
    {
      "cell_type": "code",
      "execution_count": 30,
      "metadata": {
        "id": "ZUAuCKN8bm5l"
      },
      "outputs": [],
      "source": [
        "def display_response(question, answer, verbose=False, response=None):\n",
        "    \"\"\"\n",
        "    Display the question and model response in a clean, formatted way\n",
        "\n",
        "    Args:\n",
        "        question: The question asked to the model\n",
        "        answer: text response to question\n",
        "        verbose: Whether to show additional details like token counts\n",
        "        response: The full response object from the model\n",
        "    \"\"\"\n",
        "    # Print with clear formatting\n",
        "    print(\"\\n\" + \"=\"*80)\n",
        "    print(\"📋 QUESTION:\")\n",
        "    print(\"-\"*80)\n",
        "    print(question)\n",
        "    print(\"\\n\" + \"🩺 ANSWER:\")\n",
        "    print(\"-\"*80)\n",
        "    print(answer)\n",
        "    print(\"=\"*80)\n",
        "\n",
        "    # Optional verbose output with token information\n",
        "    if verbose and response:\n",
        "        usage = response.get(\"usage\", {})\n",
        "        prompt_tokens = usage.get(\"prompt_tokens\", \"N/A\")\n",
        "        completion_tokens = usage.get(\"completion_tokens\", \"N/A\")\n",
        "        total_tokens = usage.get(\"total_tokens\", \"N/A\")\n",
        "\n",
        "        print(\"\\n📊 STATS:\")\n",
        "        print(f\"  • Prompt tokens: {prompt_tokens}\")\n",
        "        print(f\"  • Completion tokens: {completion_tokens}\")\n",
        "        print(f\"  • Total tokens: {total_tokens}\")"
      ]
    },
    {
      "cell_type": "code",
      "execution_count": 31,
      "metadata": {
        "colab": {
          "base_uri": "https://localhost:8080/"
        },
        "id": "oh6ipD93YOq2",
        "outputId": "978646eb-a1f0-49a0-8ad2-6df6799b1bd8"
      },
      "outputs": [
        {
          "output_type": "stream",
          "name": "stdout",
          "text": [
            "Model loaded successfully!\n"
          ]
        }
      ],
      "source": [
        "if model:\n",
        "    print(\"Model loaded successfully!\")"
      ]
    },
    {
      "cell_type": "code",
      "execution_count": 32,
      "metadata": {
        "id": "kAC0pskTamY_"
      },
      "outputs": [],
      "source": [
        "llm = model"
      ]
    },
    {
      "cell_type": "markdown",
      "metadata": {
        "id": "43AP0Ux8aToa"
      },
      "source": [
        "### Query 1: What is the protocol for managing sepsis in a critical care unit?"
      ]
    },
    {
      "cell_type": "code",
      "execution_count": null,
      "metadata": {
        "colab": {
          "base_uri": "https://localhost:8080/"
        },
        "id": "hpVZAO8IaU-2",
        "outputId": "f7497337-e335-4ceb-8a41-8442f983305b"
      },
      "outputs": [
        {
          "name": "stdout",
          "output_type": "stream",
          "text": [
            "got respoonse {'id': 'cmpl-6ea31136-c85e-4ee5-91e1-1634efd91b43', 'object': 'text_completion', 'created': 1746886655, 'model': '/content/drive/MyDrive/llm_models/Phi-3-mini-4k-instruct-q4.gguf', 'choices': [{'text': \" The management of sepsis in a critical care unit follows the Surviving Sepsis Campaign (SSC) guidelines, which are periodically updated. The protocol generally includes the following steps:\\n\\n1. Early recognition and assessment: Identify patients with suspected sepsis, septic shock, or severe sepsis based on clinical signs, symptoms, and laboratory findings.\\n\\n2. Immediate resuscitation: Initiate aggressive fluid resuscitation with crystalloids, aiming for a 30 mL/kg bolus within the first 3 hours.\\n\\n3. Antibiotic therapy: Administer broad-spectrum antibiotics within one hour of recognition, and then de-escalate based on culture results and clinical response.\\n\\n4. Source control: Identify and treat the source of infection, such as draining abscesses, removing infected devices, or performing surgical interventions.\\n\\n5. Hemodynamic support: Optimize blood pressure and tissue perfusion using vasopressors (e.g., norepinephrine) if hypotension persists despite fluid resuscitation.\\n\\n6. Organ support: Provide supportive care for organ dysfunction, such as mechanical ventilation for respiratory failure, renal replacement therapy for acute kidney injury, or inotropic support for cardiac dysfunction.\\n\\n7. Monitoring and reassessment: Continuously monitor vital signs, laboratory parameters, and organ function, and adjust the treatment plan accordingly.\\n\\n8. Prevention and infection control: Implement strict infection control measures to prevent the spread of infection and reduce the risk of sepsis in vulnerable patients.\\n\\n9. Multidisciplinary care: Involve a multidisciplinary team, including critical care physicians, nurses, pharmacists, and infectious disease specialists, to provide comprehensive care for patients with sepsis.\\n\\n10. Education and training: Ensure that all healthcare providers in the critical care unit are familiar with the SSC guidelines and regularly participate in sepsis education and training programs.\\n\\nRemember that the management of sepsis may vary depending on the patient's condition, comorbitations\", 'index': 0, 'logprobs': None, 'finish_reason': 'length'}], 'usage': {'prompt_tokens': 20, 'completion_tokens': 512, 'total_tokens': 532}}\n",
            "\n",
            "================================================================================\n",
            "📋 QUESTION:\n",
            "--------------------------------------------------------------------------------\n",
            "What is the protocol for managing sepsis in a critical care unit?\n",
            "\n",
            "🩺 ANSWER:\n",
            "--------------------------------------------------------------------------------\n",
            " The management of sepsis in a critical care unit follows the Surviving Sepsis Campaign (SSC) guidelines, which are periodically updated. The protocol generally includes the following steps:\n",
            "\n",
            "1. Early recognition and assessment: Identify patients with suspected sepsis, septic shock, or severe sepsis based on clinical signs, symptoms, and laboratory findings.\n",
            "\n",
            "2. Immediate resuscitation: Initiate aggressive fluid resuscitation with crystalloids, aiming for a 30 mL/kg bolus within the first 3 hours.\n",
            "\n",
            "3. Antibiotic therapy: Administer broad-spectrum antibiotics within one hour of recognition, and then de-escalate based on culture results and clinical response.\n",
            "\n",
            "4. Source control: Identify and treat the source of infection, such as draining abscesses, removing infected devices, or performing surgical interventions.\n",
            "\n",
            "5. Hemodynamic support: Optimize blood pressure and tissue perfusion using vasopressors (e.g., norepinephrine) if hypotension persists despite fluid resuscitation.\n",
            "\n",
            "6. Organ support: Provide supportive care for organ dysfunction, such as mechanical ventilation for respiratory failure, renal replacement therapy for acute kidney injury, or inotropic support for cardiac dysfunction.\n",
            "\n",
            "7. Monitoring and reassessment: Continuously monitor vital signs, laboratory parameters, and organ function, and adjust the treatment plan accordingly.\n",
            "\n",
            "8. Prevention and infection control: Implement strict infection control measures to prevent the spread of infection and reduce the risk of sepsis in vulnerable patients.\n",
            "\n",
            "9. Multidisciplinary care: Involve a multidisciplinary team, including critical care physicians, nurses, pharmacists, and infectious disease specialists, to provide comprehensive care for patients with sepsis.\n",
            "\n",
            "10. Education and training: Ensure that all healthcare providers in the critical care unit are familiar with the SSC guidelines and regularly participate in sepsis education and training programs.\n",
            "\n",
            "Remember that the management of sepsis may vary depending on the patient's condition, comorbitations\n",
            "================================================================================\n"
          ]
        }
      ],
      "source": [
        "response0 = get_response(questions[0], llm)\n",
        "display_response(questions[0], response0)"
      ]
    },
    {
      "cell_type": "markdown",
      "metadata": {
        "id": "7v9CjbZolt7G"
      },
      "source": [
        "### Query 2: What are the common symptoms for appendicitis, and can it be cured via medicine? If not, what surgical procedure should be followed to treat it?"
      ]
    },
    {
      "cell_type": "code",
      "execution_count": null,
      "metadata": {
        "colab": {
          "base_uri": "https://localhost:8080/"
        },
        "id": "AhN2xMu5lPxm",
        "outputId": "5e3cbe14-449c-4220-a3d0-0b1ea3829bff"
      },
      "outputs": [
        {
          "name": "stdout",
          "output_type": "stream",
          "text": [
            "got respoonse {'id': 'cmpl-439199b1-d299-4347-9701-6533f3d6a890', 'object': 'text_completion', 'created': 1746887080, 'model': '/content/drive/MyDrive/llm_models/Phi-3-mini-4k-instruct-q4.gguf', 'choices': [{'text': ' Appendicitis is an inflammation of the appendix, a small pouch-like organ located in the lower right abdomen. The common symptoms of appendicitis include:\\n\\n1. Abdominal pain: The pain usually starts around the navel and then moves to the lower right abdomen. The pain tends to worsen over time and may become severe.\\n2. Loss of appetite\\n3. Nausea and vomiting\\n4. Fever\\n5. Abdominal bloating\\n6. Constipation or diarrhea\\n\\nAppendicitis', 'index': 0, 'logprobs': None, 'finish_reason': 'length'}], 'usage': {'prompt_tokens': 38, 'completion_tokens': 128, 'total_tokens': 166}}\n",
            "\n",
            "================================================================================\n",
            "📋 QUESTION:\n",
            "--------------------------------------------------------------------------------\n",
            "What are the common symptoms of appendicitis, and can it be cured via medicine? If not, what surgical procedure should be followed to treat it?\n",
            "\n",
            "🩺 ANSWER:\n",
            "--------------------------------------------------------------------------------\n",
            " Appendicitis is an inflammation of the appendix, a small pouch-like organ located in the lower right abdomen. The common symptoms of appendicitis include:\n",
            "\n",
            "1. Abdominal pain: The pain usually starts around the navel and then moves to the lower right abdomen. The pain tends to worsen over time and may become severe.\n",
            "2. Loss of appetite\n",
            "3. Nausea and vomiting\n",
            "4. Fever\n",
            "5. Abdominal bloating\n",
            "6. Constipation or diarrhea\n",
            "\n",
            "Appendicitis\n",
            "================================================================================\n"
          ]
        }
      ],
      "source": [
        "i = 1\n",
        "response1 = get_response(questions[i], llm)\n",
        "display_response(questions[i], response1)"
      ]
    },
    {
      "cell_type": "markdown",
      "metadata": {
        "id": "xCJ4m2ZilwyN"
      },
      "source": [
        "### Query 3: What are the effective treatments or solutions for addressing sudden patchy hair loss, commonly seen as localized bald spots on the scalp, and what could be the possible causes behind it?"
      ]
    },
    {
      "cell_type": "code",
      "execution_count": null,
      "metadata": {
        "colab": {
          "base_uri": "https://localhost:8080/"
        },
        "id": "ak0yp_Y4lnCq",
        "outputId": "8837b9ae-bded-46fe-eeba-46f8e610930c"
      },
      "outputs": [
        {
          "name": "stdout",
          "output_type": "stream",
          "text": [
            "got respoonse {'id': 'cmpl-6288221f-0323-458e-8d79-9a07e6aeca28', 'object': 'text_completion', 'created': 1746887208, 'model': '/content/drive/MyDrive/llm_models/Phi-3-mini-4k-instruct-q4.gguf', 'choices': [{'text': ' Sudden patchy hair loss, also known as alopecia areata, can be caused by various factors, including genetics, autoimmune disorders, and stress. Here are some effective treatments and solutions for addressing this condition:\\n\\n1. Medications:\\n   a. Corticosteroids: Injectable or topical corticosteroids can help reduce inflammation and promote hair regrowth.\\n   b. Minoxidil: This is a topical solution that can help stimulate hair growth.\\n   c. Immunomodulatory agents:', 'index': 0, 'logprobs': None, 'finish_reason': 'length'}], 'usage': {'prompt_tokens': 44, 'completion_tokens': 128, 'total_tokens': 172}}\n",
            "\n",
            "================================================================================\n",
            "📋 QUESTION:\n",
            "--------------------------------------------------------------------------------\n",
            "What are the effective treatments or solutions for addressing sudden patchy hair loss, commonly seen as localized bald spots on the scalp, and what could be the possible causes behind it?\n",
            "\n",
            "🩺 ANSWER:\n",
            "--------------------------------------------------------------------------------\n",
            " Sudden patchy hair loss, also known as alopecia areata, can be caused by various factors, including genetics, autoimmune disorders, and stress. Here are some effective treatments and solutions for addressing this condition:\n",
            "\n",
            "1. Medications:\n",
            "   a. Corticosteroids: Injectable or topical corticosteroids can help reduce inflammation and promote hair regrowth.\n",
            "   b. Minoxidil: This is a topical solution that can help stimulate hair growth.\n",
            "   c. Immunomodulatory agents:\n",
            "================================================================================\n"
          ]
        }
      ],
      "source": [
        "i = 2\n",
        "response2 = get_response(questions[i], llm)\n",
        "display_response(questions[i], response2)"
      ]
    },
    {
      "cell_type": "markdown",
      "metadata": {
        "id": "UhhrIT5ImLkK"
      },
      "source": [
        "### Query 4:  What treatments are recommended for a person who has sustained a physical injury to brain tissue, resulting in temporary or permanent impairment of brain function?"
      ]
    },
    {
      "cell_type": "code",
      "execution_count": null,
      "metadata": {
        "colab": {
          "base_uri": "https://localhost:8080/"
        },
        "id": "25DdgAIUmF8T",
        "outputId": "0c1dd00f-d7ba-4e26-bf6c-67cc55ef07aa"
      },
      "outputs": [
        {
          "name": "stdout",
          "output_type": "stream",
          "text": [
            "got respoonse {'id': 'cmpl-f7b91398-3fc6-45ec-9c1d-fbe3f66fbd1d', 'object': 'text_completion', 'created': 1746887284, 'model': '/content/drive/MyDrive/llm_models/Phi-3-mini-4k-instruct-q4.gguf', 'choices': [{'text': \" I am not able to diagnose or provide specific treatment recommendations. It is crucial to consult with a qualified healthcare professional for an accurate diagnosis and appropriate treatment plan. However, I can provide you with some general information about potential treatments for brain injuries.\\n\\nTreatment for brain injuries depends on the severity and type of injury, as well as the individual's overall health. Some common approaches to treating brain injuries include:\\n\\n1. Medical management: This involves monitoring the patient's vital signs, managing pain, and addressing any immediate medical issues related to the injury\", 'index': 0, 'logprobs': None, 'finish_reason': 'length'}], 'usage': {'prompt_tokens': 36, 'completion_tokens': 128, 'total_tokens': 164}}\n",
            "\n",
            "================================================================================\n",
            "📋 QUESTION:\n",
            "--------------------------------------------------------------------------------\n",
            "What treatments are recommended for a person who has sustained a physical injury to brain tissue, resulting in temporary or permanent impairment of brain function?\n",
            "\n",
            "🩺 ANSWER:\n",
            "--------------------------------------------------------------------------------\n",
            " I am not able to diagnose or provide specific treatment recommendations. It is crucial to consult with a qualified healthcare professional for an accurate diagnosis and appropriate treatment plan. However, I can provide you with some general information about potential treatments for brain injuries.\n",
            "\n",
            "Treatment for brain injuries depends on the severity and type of injury, as well as the individual's overall health. Some common approaches to treating brain injuries include:\n",
            "\n",
            "1. Medical management: This involves monitoring the patient's vital signs, managing pain, and addressing any immediate medical issues related to the injury\n",
            "================================================================================\n"
          ]
        }
      ],
      "source": [
        "i = 3\n",
        "response3 = get_response(questions[i], llm)\n",
        "display_response(questions[i], response3)"
      ]
    },
    {
      "cell_type": "markdown",
      "metadata": {
        "id": "E7JuhIovmMPh"
      },
      "source": [
        "### Query 5: What are the necessary precautions and treatment steps for a person who has fractured their leg during a hiking trip, and what should be considered for their care and recovery?"
      ]
    },
    {
      "cell_type": "code",
      "execution_count": null,
      "metadata": {
        "colab": {
          "base_uri": "https://localhost:8080/"
        },
        "id": "JYNooJu_mmo-",
        "outputId": "ea94d2c8-8aa4-4c0c-eb7e-799856a48763"
      },
      "outputs": [
        {
          "name": "stdout",
          "output_type": "stream",
          "text": [
            "got respoonse {'id': 'cmpl-284cbf05-074c-4dd5-bc93-5ee1e876e325', 'object': 'text_completion', 'created': 1746887421, 'model': '/content/drive/MyDrive/llm_models/Phi-3-mini-4k-instruct-q4.gguf', 'choices': [{'text': ' If a person has fractured their leg during a hiking trip, it is crucial to take the following precautions and treatment steps:\\n\\n1. Safety first:\\n   - Ensure the injured person is in a safe location, away from any potential hazards.\\n   - If possible, help the person to a stable, flat surface.\\n\\n2. Call for help:\\n   - Contact emergency services or a local rescue team to provide professional medical assistance.\\n   - If cell phone service is available, call for help immediately.\\n\\n3. Immobilize the leg', 'index': 0, 'logprobs': None, 'finish_reason': 'length'}], 'usage': {'prompt_tokens': 42, 'completion_tokens': 128, 'total_tokens': 170}}\n",
            "\n",
            "================================================================================\n",
            "📋 QUESTION:\n",
            "--------------------------------------------------------------------------------\n",
            "What are the necessary precautions and treatment steps for a person who has fractured their leg during a hiking trip, and what should be considered for their care and recovery?\n",
            "\n",
            "🩺 ANSWER:\n",
            "--------------------------------------------------------------------------------\n",
            " If a person has fractured their leg during a hiking trip, it is crucial to take the following precautions and treatment steps:\n",
            "\n",
            "1. Safety first:\n",
            "   - Ensure the injured person is in a safe location, away from any potential hazards.\n",
            "   - If possible, help the person to a stable, flat surface.\n",
            "\n",
            "2. Call for help:\n",
            "   - Contact emergency services or a local rescue team to provide professional medical assistance.\n",
            "   - If cell phone service is available, call for help immediately.\n",
            "\n",
            "3. Immobilize the leg\n",
            "================================================================================\n"
          ]
        }
      ],
      "source": [
        "i = 4\n",
        "response4 = get_response(questions[i], llm)\n",
        "display_response(questions[i], response4)"
      ]
    },
    {
      "cell_type": "markdown",
      "source": [
        "👀 **Quick Look (Phi-3-Mini)**\n",
        "\n",
        "* Responses were generated in \\~2 minutes per question.\n",
        "* The model consistently returned well-structured, point-wise answers resembling medical prescriptions — without being explicitly instructed to do so\n",
        "* Token limits occasionally constrained answer completeness\n",
        "* Responses resembled clinical documentation - concise bullet points rather than narrative paragraphs\n",
        "* Despite the compact setting, responses demonstrated strong domain alignment, resembling doctor-style advisories. All answers maintained consistent numbered format across different medical topics\n",
        "* Temperature settings below 0.2 produced overly generic responses lacking specific medical details\n",
        "* Response quality varied significantly between simple symptom questions and complex treatment protocols\n",
        "* Surprisingly, the model inferred appropriate tone and format for medical Q\\&A without heavy prompt engineering.\n",
        "\n",
        "🤖 These observations highlight *Phi-3 Mini's* surprising capability to mimic clinical communication patterns, though with limitations in handling complex medical reasoning within token constraints ❗\n",
        "\n",
        "\n"
      ],
      "metadata": {
        "id": "Im2skBpr0Ebo"
      }
    },
    {
      "cell_type": "markdown",
      "metadata": {
        "id": "srD7mZOIogto"
      },
      "source": [
        "## Question Answering using LLM with Prompt Engineering"
      ]
    },
    {
      "cell_type": "code",
      "execution_count": null,
      "metadata": {
        "id": "9rUlIQARon0j"
      },
      "outputs": [],
      "source": [
        "combinations = [\n",
        "    # Combination 1: Highly deterministic (factual focus)\n",
        "    {\n",
        "        \"name\": \"Highly Deterministic\",\n",
        "        \"temperature\": 0.1,\n",
        "        \"top_p\": 0.5,\n",
        "        \"max_tokens\": 150,\n",
        "        \"prompt_template\": lambda q: f\"<|user|>\\nAnswer this medical question with precise, factual information: {q}\\n<|assistant|>\"\n",
        "    },\n",
        "\n",
        "    # Combination 2: Balanced approach\n",
        "    {\n",
        "        \"name\": \"Balanced Approach\",\n",
        "        \"temperature\": 0.4,\n",
        "        \"top_p\": 0.8,\n",
        "        \"max_tokens\": 160,\n",
        "        \"prompt_template\": lambda q: f\"<|user|>\\nProvide a comprehensive medical answer to this question: {q}\\n<|assistant|>\"\n",
        "    },\n",
        "\n",
        "    # Combination 3: Step-by-step reasoning\n",
        "    {\n",
        "        \"name\": \"Step-by-Step Reasoning\",\n",
        "        \"temperature\": 0.3,\n",
        "        \"top_p\": 0.7,\n",
        "        \"max_tokens\": 150,\n",
        "        \"prompt_template\": lambda q: f\"<|user|>\\nAnswer this medical question step-by-step with clear reasoning: {q}\\n<|assistant|>\"\n",
        "    },\n",
        "\n",
        "    # Combination 4: Concise summary\n",
        "    {\n",
        "        \"name\": \"Concise Summary\",\n",
        "        \"temperature\": 0.2,\n",
        "        \"top_p\": 0.9,\n",
        "        \"max_tokens\": 132,\n",
        "        \"prompt_template\": lambda q: f\"<|user|>\\nProvide a brief, concise answer to this medical question: {q}\\n<|assistant|>\"\n",
        "    },\n",
        "\n",
        "    # Combination 5: Medical expert persona\n",
        "    {\n",
        "        \"name\": \"Medical Expert Persona\",\n",
        "        \"temperature\": 0.3,\n",
        "        \"top_p\": 0.85,\n",
        "        \"max_tokens\": 135,\n",
        "        \"prompt_template\": lambda q: f\"<|user|>\\nAs an experienced medical specialist, answer this question with your expert knowledge: {q}\\n<|assistant|>\"\n",
        "    }\n",
        "]"
      ]
    },
    {
      "cell_type": "code",
      "execution_count": null,
      "metadata": {
        "id": "e2yA_n3EpQJu"
      },
      "outputs": [],
      "source": [
        "def test_combinations(question_index):\n",
        "  query = questions[question_index]\n",
        "  for e in combinations:\n",
        "    ans = get_response(query, llm, params=e)\n",
        "    display_response(query, ans)\n",
        "    print('---\\n')"
      ]
    },
    {
      "cell_type": "markdown",
      "metadata": {
        "id": "1xsEI4bSolse"
      },
      "source": [
        "### Query 1: What is the protocol for managing sepsis in a critical care unit?"
      ]
    },
    {
      "cell_type": "code",
      "execution_count": null,
      "metadata": {
        "colab": {
          "base_uri": "https://localhost:8080/"
        },
        "id": "Ra6zhkYvodau",
        "outputId": "5fe469b9-79c9-43d9-f49a-c56facfd3b68"
      },
      "outputs": [
        {
          "name": "stdout",
          "output_type": "stream",
          "text": [
            "got respoonse {'id': 'cmpl-44cfbe41-f337-4ff0-be9f-603d6e1f902b', 'object': 'text_completion', 'created': 1746888719, 'model': '/content/drive/MyDrive/llm_models/Phi-3-mini-4k-instruct-q4.gguf', 'choices': [{'text': ' The protocol for managing sepsis in a critical care unit is based on the Surviving Sepsis Campaign (SSC) guidelines, which emphasize early recognition, prompt administration of antibiotics, and aggressive fluid resuscitation. The following steps are typically followed:\\n\\n1. Early recognition: Identify patients with suspected sepsis by assessing for signs and symptoms, such as fever, elevated heart rate, altered mental status, and hypotension.\\n\\n2. Immediate interventions:\\n   a. Administer broad-spectrum antibiotics within one hour of recognition.\\n   b. Initiate fluid resuscitation with', 'index': 0, 'logprobs': None, 'finish_reason': 'length'}], 'usage': {'prompt_tokens': 31, 'completion_tokens': 150, 'total_tokens': 181}}\n",
            "\n",
            "================================================================================\n",
            "📋 QUESTION:\n",
            "--------------------------------------------------------------------------------\n",
            "What is the protocol for managing sepsis in a critical care unit?\n",
            "\n",
            "🩺 ANSWER:\n",
            "--------------------------------------------------------------------------------\n",
            " The protocol for managing sepsis in a critical care unit is based on the Surviving Sepsis Campaign (SSC) guidelines, which emphasize early recognition, prompt administration of antibiotics, and aggressive fluid resuscitation. The following steps are typically followed:\n",
            "\n",
            "1. Early recognition: Identify patients with suspected sepsis by assessing for signs and symptoms, such as fever, elevated heart rate, altered mental status, and hypotension.\n",
            "\n",
            "2. Immediate interventions:\n",
            "   a. Administer broad-spectrum antibiotics within one hour of recognition.\n",
            "   b. Initiate fluid resuscitation with\n",
            "================================================================================\n",
            "---\n",
            "\n",
            "got respoonse {'id': 'cmpl-10808ac6-749c-4280-b90a-87dee37ab24a', 'object': 'text_completion', 'created': 1746888783, 'model': '/content/drive/MyDrive/llm_models/Phi-3-mini-4k-instruct-q4.gguf', 'choices': [{'text': \" Sepsis is a life-threatening condition that arises when the body's response to an infection injures its own tissues and organs. It is a medical emergency that requires immediate attention and intervention. The management of sepsis in a critical care unit follows a structured protocol, often based on the Surviving Sepsis Campaign (SSC) guidelines. Here is a comprehensive overview of the protocol:\\n\\n1. Early recognition and diagnosis:\\n   - Identify patients at risk of sepsis, such as those with suspected infections, immunocompromised individuals, or patients with comorbidities.\\n   - Recognize the signs and symptoms of sepsis\", 'index': 0, 'logprobs': None, 'finish_reason': 'length'}], 'usage': {'prompt_tokens': 31, 'completion_tokens': 160, 'total_tokens': 191}}\n",
            "\n",
            "================================================================================\n",
            "📋 QUESTION:\n",
            "--------------------------------------------------------------------------------\n",
            "What is the protocol for managing sepsis in a critical care unit?\n",
            "\n",
            "🩺 ANSWER:\n",
            "--------------------------------------------------------------------------------\n",
            " Sepsis is a life-threatening condition that arises when the body's response to an infection injures its own tissues and organs. It is a medical emergency that requires immediate attention and intervention. The management of sepsis in a critical care unit follows a structured protocol, often based on the Surviving Sepsis Campaign (SSC) guidelines. Here is a comprehensive overview of the protocol:\n",
            "\n",
            "1. Early recognition and diagnosis:\n",
            "   - Identify patients at risk of sepsis, such as those with suspected infections, immunocompromised individuals, or patients with comorbidities.\n",
            "   - Recognize the signs and symptoms of sepsis\n",
            "================================================================================\n",
            "---\n",
            "\n",
            "got respoonse {'id': 'cmpl-535497ef-3b65-422b-be5a-563ebb8544c0', 'object': 'text_completion', 'created': 1746888849, 'model': '/content/drive/MyDrive/llm_models/Phi-3-mini-4k-instruct-q4.gguf', 'choices': [{'text': ' Managing sepsis in a critical care unit involves a systematic approach that includes the following steps:\\n\\n1. Early recognition and diagnosis:\\n   a. Identify patients at risk: Patients with suspected infections, immunocompromised individuals, or those with comorbidities are at higher risk for sepsis.\\n   b. Recognize signs and symptoms: Look for systemic inflammatory response, hypotension, altered mental status, and signs of organ dysfunction.\\n   c. Obtain vital signs and perform initial assessment: Monitor vital signs, including heart rate, blood pressure, respiratory rate, and temperature.\\n\\n2.', 'index': 0, 'logprobs': None, 'finish_reason': 'length'}], 'usage': {'prompt_tokens': 33, 'completion_tokens': 150, 'total_tokens': 183}}\n",
            "\n",
            "================================================================================\n",
            "📋 QUESTION:\n",
            "--------------------------------------------------------------------------------\n",
            "What is the protocol for managing sepsis in a critical care unit?\n",
            "\n",
            "🩺 ANSWER:\n",
            "--------------------------------------------------------------------------------\n",
            " Managing sepsis in a critical care unit involves a systematic approach that includes the following steps:\n",
            "\n",
            "1. Early recognition and diagnosis:\n",
            "   a. Identify patients at risk: Patients with suspected infections, immunocompromised individuals, or those with comorbidities are at higher risk for sepsis.\n",
            "   b. Recognize signs and symptoms: Look for systemic inflammatory response, hypotension, altered mental status, and signs of organ dysfunction.\n",
            "   c. Obtain vital signs and perform initial assessment: Monitor vital signs, including heart rate, blood pressure, respiratory rate, and temperature.\n",
            "\n",
            "2.\n",
            "================================================================================\n",
            "---\n",
            "\n",
            "got respoonse {'id': 'cmpl-2bc1606d-4d6d-4e65-adcb-c169421491e0', 'object': 'text_completion', 'created': 1746888912, 'model': '/content/drive/MyDrive/llm_models/Phi-3-mini-4k-instruct-q4.gguf', 'choices': [{'text': ' The protocol for managing sepsis in a critical care unit typically follows the \"Sepsis Six\" or \"Surviving Sepsis Campaign\" guidelines, which include: 1) rapid identification and measurement of lactate levels, 2) immediate administration of broad-spectrum antibiotics, 3) fluid resuscitation with crystalloids, 4) vasopressors if hypotension persists, 5) source control of the infection, and 6) reassessment of hemodynamic status and organ function.', 'index': 0, 'logprobs': None, 'finish_reason': 'stop'}], 'usage': {'prompt_tokens': 33, 'completion_tokens': 122, 'total_tokens': 155}}\n",
            "\n",
            "================================================================================\n",
            "📋 QUESTION:\n",
            "--------------------------------------------------------------------------------\n",
            "What is the protocol for managing sepsis in a critical care unit?\n",
            "\n",
            "🩺 ANSWER:\n",
            "--------------------------------------------------------------------------------\n",
            " The protocol for managing sepsis in a critical care unit typically follows the \"Sepsis Six\" or \"Surviving Sepsis Campaign\" guidelines, which include: 1) rapid identification and measurement of lactate levels, 2) immediate administration of broad-spectrum antibiotics, 3) fluid resuscitation with crystalloids, 4) vasopressors if hypotension persists, 5) source control of the infection, and 6) reassessment of hemodynamic status and organ function.\n",
            "================================================================================\n",
            "---\n",
            "\n",
            "got respoonse {'id': 'cmpl-546886bf-400b-4312-93ce-7a397bc711ab', 'object': 'text_completion', 'created': 1746888964, 'model': '/content/drive/MyDrive/llm_models/Phi-3-mini-4k-instruct-q4.gguf', 'choices': [{'text': ' As an experienced medical specialist, I would outline the following protocol for managing sepsis in a critical care unit:\\n\\n1. Early recognition and diagnosis:\\n   - Monitor patients for signs and symptoms of sepsis, including fever, elevated heart rate, increased respiratory rate, and altered mental status.\\n   - Perform a thorough physical examination and obtain a detailed medical history.\\n   - Order blood cultures and other relevant laboratory tests to confirm the diagnosis.\\n\\n2. Immediate resuscitation:\\n   - Follow the Surviving Sepsis Campaign\\'s \"Seps', 'index': 0, 'logprobs': None, 'finish_reason': 'length'}], 'usage': {'prompt_tokens': 35, 'completion_tokens': 135, 'total_tokens': 170}}\n",
            "\n",
            "================================================================================\n",
            "📋 QUESTION:\n",
            "--------------------------------------------------------------------------------\n",
            "What is the protocol for managing sepsis in a critical care unit?\n",
            "\n",
            "🩺 ANSWER:\n",
            "--------------------------------------------------------------------------------\n",
            " As an experienced medical specialist, I would outline the following protocol for managing sepsis in a critical care unit:\n",
            "\n",
            "1. Early recognition and diagnosis:\n",
            "   - Monitor patients for signs and symptoms of sepsis, including fever, elevated heart rate, increased respiratory rate, and altered mental status.\n",
            "   - Perform a thorough physical examination and obtain a detailed medical history.\n",
            "   - Order blood cultures and other relevant laboratory tests to confirm the diagnosis.\n",
            "\n",
            "2. Immediate resuscitation:\n",
            "   - Follow the Surviving Sepsis Campaign's \"Seps\n",
            "================================================================================\n",
            "---\n",
            "\n"
          ]
        }
      ],
      "source": [
        "test_combinations(0)"
      ]
    },
    {
      "cell_type": "markdown",
      "metadata": {
        "id": "jOWBfZt_0-jD"
      },
      "source": [
        "### Query 2: What are the common symptoms for appendicitis, and can it be cured via medicine? If not, what surgical procedure should be followed to treat it?"
      ]
    },
    {
      "cell_type": "code",
      "execution_count": null,
      "metadata": {
        "colab": {
          "base_uri": "https://localhost:8080/"
        },
        "id": "D5x4mECCtDPo",
        "outputId": "a371c09c-4923-4f28-bbf6-5c3dfcfdeb98"
      },
      "outputs": [
        {
          "name": "stdout",
          "output_type": "stream",
          "text": [
            "got respoonse {'id': 'cmpl-5029667d-19d0-42b1-9168-99689acf86d1', 'object': 'text_completion', 'created': 1746889097, 'model': '/content/drive/MyDrive/llm_models/Phi-3-mini-4k-instruct-q4.gguf', 'choices': [{'text': ' Appendicitis is an inflammation of the appendix, a small, finger-like pouch that projects from the large intestine. The common symptoms of appendicitis include:\\n\\n1. Abdominal pain: The pain usually starts around the navel and then moves to the lower right side of the abdomen. The pain typically worsens over time and becomes more severe.\\n\\n2. Loss of appetite\\n\\n3. Nausea and vomiting\\n\\n4. Low-grade fever\\n\\n5. Constipation or diarrhea\\n\\n6. Abdominal bloating\\n\\n7. Inability to pass gas\\n\\n8. Abdominal', 'index': 0, 'logprobs': None, 'finish_reason': 'length'}], 'usage': {'prompt_tokens': 49, 'completion_tokens': 150, 'total_tokens': 199}}\n",
            "\n",
            "================================================================================\n",
            "📋 QUESTION:\n",
            "--------------------------------------------------------------------------------\n",
            "What are the common symptoms of appendicitis, and can it be cured via medicine? If not, what surgical procedure should be followed to treat it?\n",
            "\n",
            "🩺 ANSWER:\n",
            "--------------------------------------------------------------------------------\n",
            " Appendicitis is an inflammation of the appendix, a small, finger-like pouch that projects from the large intestine. The common symptoms of appendicitis include:\n",
            "\n",
            "1. Abdominal pain: The pain usually starts around the navel and then moves to the lower right side of the abdomen. The pain typically worsens over time and becomes more severe.\n",
            "\n",
            "2. Loss of appetite\n",
            "\n",
            "3. Nausea and vomiting\n",
            "\n",
            "4. Low-grade fever\n",
            "\n",
            "5. Constipation or diarrhea\n",
            "\n",
            "6. Abdominal bloating\n",
            "\n",
            "7. Inability to pass gas\n",
            "\n",
            "8. Abdominal\n",
            "================================================================================\n",
            "---\n",
            "\n",
            "got respoonse {'id': 'cmpl-acadbbed-cea0-4452-9ac8-414187460173', 'object': 'text_completion', 'created': 1746889164, 'model': '/content/drive/MyDrive/llm_models/Phi-3-mini-4k-instruct-q4.gguf', 'choices': [{'text': ' Appendicitis is an inflammation of the appendix, a small, finger-like pouch that projects from the large intestine on the lower right side of the abdomen. The common symptoms of appendicitis include:\\n\\n1. Abdominal pain: The most common symptom is pain in the lower right side of the abdomen. The pain usually starts near the navel and then moves to the lower right abdomen. The pain may become more severe over time and may be accompanied by a low-grade fever.\\n\\n2. Loss of appetite: Patients may experience a decreased desire to eat.\\n\\n3. Nausea and vomiting: These symptoms may occur as the inflammation w', 'index': 0, 'logprobs': None, 'finish_reason': 'length'}], 'usage': {'prompt_tokens': 49, 'completion_tokens': 160, 'total_tokens': 209}}\n",
            "\n",
            "================================================================================\n",
            "📋 QUESTION:\n",
            "--------------------------------------------------------------------------------\n",
            "What are the common symptoms of appendicitis, and can it be cured via medicine? If not, what surgical procedure should be followed to treat it?\n",
            "\n",
            "🩺 ANSWER:\n",
            "--------------------------------------------------------------------------------\n",
            " Appendicitis is an inflammation of the appendix, a small, finger-like pouch that projects from the large intestine on the lower right side of the abdomen. The common symptoms of appendicitis include:\n",
            "\n",
            "1. Abdominal pain: The most common symptom is pain in the lower right side of the abdomen. The pain usually starts near the navel and then moves to the lower right abdomen. The pain may become more severe over time and may be accompanied by a low-grade fever.\n",
            "\n",
            "2. Loss of appetite: Patients may experience a decreased desire to eat.\n",
            "\n",
            "3. Nausea and vomiting: These symptoms may occur as the inflammation w\n",
            "================================================================================\n",
            "---\n",
            "\n",
            "got respoonse {'id': 'cmpl-a6a1dad1-638a-40f4-8db7-f1cef78c2efa', 'object': 'text_completion', 'created': 1746889234, 'model': '/content/drive/MyDrive/llm_models/Phi-3-mini-4k-instruct-q4.gguf', 'choices': [{'text': ' Step 1: Identify the medical condition\\nThe medical condition in question is appendicitis, which is an inflammation of the appendix, a small pouch-like organ attached to the large intestine.\\n\\nStep 2: List common symptoms of appendicitis\\nThe common symptoms of appendicitis include:\\n1. Abdominal pain: The pain usually starts around the navel and then moves to the lower right side of the abdomen.\\n2. Loss of appetite\\n3. Nausea and vomiting\\n4. Low-grade fever\\n5. Constipation or diarrhea\\n6. Abdominal bloating\\n7. In', 'index': 0, 'logprobs': None, 'finish_reason': 'length'}], 'usage': {'prompt_tokens': 51, 'completion_tokens': 150, 'total_tokens': 201}}\n",
            "\n",
            "================================================================================\n",
            "📋 QUESTION:\n",
            "--------------------------------------------------------------------------------\n",
            "What are the common symptoms of appendicitis, and can it be cured via medicine? If not, what surgical procedure should be followed to treat it?\n",
            "\n",
            "🩺 ANSWER:\n",
            "--------------------------------------------------------------------------------\n",
            " Step 1: Identify the medical condition\n",
            "The medical condition in question is appendicitis, which is an inflammation of the appendix, a small pouch-like organ attached to the large intestine.\n",
            "\n",
            "Step 2: List common symptoms of appendicitis\n",
            "The common symptoms of appendicitis include:\n",
            "1. Abdominal pain: The pain usually starts around the navel and then moves to the lower right side of the abdomen.\n",
            "2. Loss of appetite\n",
            "3. Nausea and vomiting\n",
            "4. Low-grade fever\n",
            "5. Constipation or diarrhea\n",
            "6. Abdominal bloating\n",
            "7. In\n",
            "================================================================================\n",
            "---\n",
            "\n",
            "got respoonse {'id': 'cmpl-c2f95ea2-59aa-4837-a7de-d0654397af42', 'object': 'text_completion', 'created': 1746889300, 'model': '/content/drive/MyDrive/llm_models/Phi-3-mini-4k-instruct-q4.gguf', 'choices': [{'text': ' Common symptoms of appendicitis include abdominal pain, particularly in the lower right quadrant, nausea, vomiting, and fever. Appendicitis cannot be cured with medication; it typically requires surgical removal of the appendix, known as an appendectomy.', 'index': 0, 'logprobs': None, 'finish_reason': 'stop'}], 'usage': {'prompt_tokens': 51, 'completion_tokens': 62, 'total_tokens': 113}}\n",
            "\n",
            "================================================================================\n",
            "📋 QUESTION:\n",
            "--------------------------------------------------------------------------------\n",
            "What are the common symptoms of appendicitis, and can it be cured via medicine? If not, what surgical procedure should be followed to treat it?\n",
            "\n",
            "🩺 ANSWER:\n",
            "--------------------------------------------------------------------------------\n",
            " Common symptoms of appendicitis include abdominal pain, particularly in the lower right quadrant, nausea, vomiting, and fever. Appendicitis cannot be cured with medication; it typically requires surgical removal of the appendix, known as an appendectomy.\n",
            "================================================================================\n",
            "---\n",
            "\n",
            "got respoonse {'id': 'cmpl-cc9ca201-1a96-47fe-be15-ec7277d1701d', 'object': 'text_completion', 'created': 1746889332, 'model': '/content/drive/MyDrive/llm_models/Phi-3-mini-4k-instruct-q4.gguf', 'choices': [{'text': ' As an experienced medical specialist, I can tell you that appendicitis is an inflammation of the appendix, a small pouch connected to the large intestine. The common symptoms of appendicitis include:\\n\\n1. Abdominal pain: The initial pain usually starts around the navel and then shifts to the lower right side of the abdomen. The pain often intensifies over time and becomes more severe.\\n2. Loss of appetite\\n3. Nausea and vomiting\\n4. Low-grade fever\\n5. Abdominal bloating\\n6. Constipation or diarr', 'index': 0, 'logprobs': None, 'finish_reason': 'length'}], 'usage': {'prompt_tokens': 53, 'completion_tokens': 135, 'total_tokens': 188}}\n",
            "\n",
            "================================================================================\n",
            "📋 QUESTION:\n",
            "--------------------------------------------------------------------------------\n",
            "What are the common symptoms of appendicitis, and can it be cured via medicine? If not, what surgical procedure should be followed to treat it?\n",
            "\n",
            "🩺 ANSWER:\n",
            "--------------------------------------------------------------------------------\n",
            " As an experienced medical specialist, I can tell you that appendicitis is an inflammation of the appendix, a small pouch connected to the large intestine. The common symptoms of appendicitis include:\n",
            "\n",
            "1. Abdominal pain: The initial pain usually starts around the navel and then shifts to the lower right side of the abdomen. The pain often intensifies over time and becomes more severe.\n",
            "2. Loss of appetite\n",
            "3. Nausea and vomiting\n",
            "4. Low-grade fever\n",
            "5. Abdominal bloating\n",
            "6. Constipation or diarr\n",
            "================================================================================\n",
            "---\n",
            "\n"
          ]
        }
      ],
      "source": [
        "test_combinations(1)"
      ]
    },
    {
      "cell_type": "markdown",
      "metadata": {
        "id": "S8l35iMU1EQH"
      },
      "source": [
        "### Query 3: What are the effective treatments or solutions for addressing sudden patchy hair loss, commonly seen as localized bald spots on the scalp, and what could be the possible causes behind it?"
      ]
    },
    {
      "cell_type": "code",
      "execution_count": null,
      "metadata": {
        "colab": {
          "base_uri": "https://localhost:8080/"
        },
        "id": "UE85dpkEuXSZ",
        "outputId": "11f0c4f6-bb0b-449b-e42b-184da5e8cfee"
      },
      "outputs": [
        {
          "name": "stdout",
          "output_type": "stream",
          "text": [
            "got respoonse {'id': 'cmpl-ddf847b5-d0b0-458c-aea1-cc3e3692feeb', 'object': 'text_completion', 'created': 1746889448, 'model': '/content/drive/MyDrive/llm_models/Phi-3-mini-4k-instruct-q4.gguf', 'choices': [{'text': \" Sudden patchy hair loss, also known as alopecia areata, is an autoimmune condition where the body's immune system mistakenly attacks hair follicles, leading to localized bald spots on the scalp. The exact cause of alopecia areata is unknown, but it is believed to involve a combination of genetic and environmental factors.\\n\\nPossible causes of alopecia areata include:\\n\\n1. Genetic predisposition: A family history of alopecia areata or other autoimmune diseases may increase the risk of developing the condition.\\n2. Immune system dysfunction: An overactive immune system may attack hair follicles, causing\", 'index': 0, 'logprobs': None, 'finish_reason': 'length'}], 'usage': {'prompt_tokens': 55, 'completion_tokens': 150, 'total_tokens': 205}}\n",
            "\n",
            "================================================================================\n",
            "📋 QUESTION:\n",
            "--------------------------------------------------------------------------------\n",
            "What are the effective treatments or solutions for addressing sudden patchy hair loss, commonly seen as localized bald spots on the scalp, and what could be the possible causes behind it?\n",
            "\n",
            "🩺 ANSWER:\n",
            "--------------------------------------------------------------------------------\n",
            " Sudden patchy hair loss, also known as alopecia areata, is an autoimmune condition where the body's immune system mistakenly attacks hair follicles, leading to localized bald spots on the scalp. The exact cause of alopecia areata is unknown, but it is believed to involve a combination of genetic and environmental factors.\n",
            "\n",
            "Possible causes of alopecia areata include:\n",
            "\n",
            "1. Genetic predisposition: A family history of alopecia areata or other autoimmune diseases may increase the risk of developing the condition.\n",
            "2. Immune system dysfunction: An overactive immune system may attack hair follicles, causing\n",
            "================================================================================\n",
            "---\n",
            "\n",
            "got respoonse {'id': 'cmpl-92d20713-bd95-4162-b89f-7b80e58e919f', 'object': 'text_completion', 'created': 1746889515, 'model': '/content/drive/MyDrive/llm_models/Phi-3-mini-4k-instruct-q4.gguf', 'choices': [{'text': ' Sudden patchy hair loss, also known as alopecia areata, is an autoimmune condition that results in the loss of hair in small, round, and well-defined patches. The exact cause of alopecia areata is not fully understood, but it is believed to be a combination of genetic and environmental factors. Here are some possible causes:\\n\\n1. Genetic predisposition: Individuals with a family history of alopecia areata or other autoimmune diseases have a higher risk of developing the condition.\\n\\n2. Immune system dysfunction: The immune system may mistakenly attack hair follicles, leading to hair loss.\\n\\n3. Hormonal imbalances: Changes in h', 'index': 0, 'logprobs': None, 'finish_reason': 'length'}], 'usage': {'prompt_tokens': 55, 'completion_tokens': 160, 'total_tokens': 215}}\n",
            "\n",
            "================================================================================\n",
            "📋 QUESTION:\n",
            "--------------------------------------------------------------------------------\n",
            "What are the effective treatments or solutions for addressing sudden patchy hair loss, commonly seen as localized bald spots on the scalp, and what could be the possible causes behind it?\n",
            "\n",
            "🩺 ANSWER:\n",
            "--------------------------------------------------------------------------------\n",
            " Sudden patchy hair loss, also known as alopecia areata, is an autoimmune condition that results in the loss of hair in small, round, and well-defined patches. The exact cause of alopecia areata is not fully understood, but it is believed to be a combination of genetic and environmental factors. Here are some possible causes:\n",
            "\n",
            "1. Genetic predisposition: Individuals with a family history of alopecia areata or other autoimmune diseases have a higher risk of developing the condition.\n",
            "\n",
            "2. Immune system dysfunction: The immune system may mistakenly attack hair follicles, leading to hair loss.\n",
            "\n",
            "3. Hormonal imbalances: Changes in h\n",
            "================================================================================\n",
            "---\n",
            "\n",
            "got respoonse {'id': 'cmpl-9cf71636-034d-46f7-a7dd-eb9eb196af79', 'object': 'text_completion', 'created': 1746889586, 'model': '/content/drive/MyDrive/llm_models/Phi-3-mini-4k-instruct-q4.gguf', 'choices': [{'text': \" Step 1: Identify possible causes of sudden patchy hair loss\\n\\nSudden patchy hair loss, also known as alopecia areata, can be caused by various factors. Some possible causes include:\\n\\n1. Autoimmune disorders: The body's immune system mistakenly attacks hair follicles, leading to hair loss.\\n2. Genetic predisposition: A family history of alopecia areata or other autoimmune disorders can increase the risk of developing the condition.\\n3. Stress: Emotional or physical stress can trigger or exacerbate hair loss.\\n4. Hormonal changes: Hormonal fluctuations, such as those\", 'index': 0, 'logprobs': None, 'finish_reason': 'length'}], 'usage': {'prompt_tokens': 57, 'completion_tokens': 150, 'total_tokens': 207}}\n",
            "\n",
            "================================================================================\n",
            "📋 QUESTION:\n",
            "--------------------------------------------------------------------------------\n",
            "What are the effective treatments or solutions for addressing sudden patchy hair loss, commonly seen as localized bald spots on the scalp, and what could be the possible causes behind it?\n",
            "\n",
            "🩺 ANSWER:\n",
            "--------------------------------------------------------------------------------\n",
            " Step 1: Identify possible causes of sudden patchy hair loss\n",
            "\n",
            "Sudden patchy hair loss, also known as alopecia areata, can be caused by various factors. Some possible causes include:\n",
            "\n",
            "1. Autoimmune disorders: The body's immune system mistakenly attacks hair follicles, leading to hair loss.\n",
            "2. Genetic predisposition: A family history of alopecia areata or other autoimmune disorders can increase the risk of developing the condition.\n",
            "3. Stress: Emotional or physical stress can trigger or exacerbate hair loss.\n",
            "4. Hormonal changes: Hormonal fluctuations, such as those\n",
            "================================================================================\n",
            "---\n",
            "\n",
            "got respoonse {'id': 'cmpl-6f2c441c-dfbd-4636-b5c5-c62df2b08daa', 'object': 'text_completion', 'created': 1746889653, 'model': '/content/drive/MyDrive/llm_models/Phi-3-mini-4k-instruct-q4.gguf', 'choices': [{'text': \" Effective treatments for sudden patchy hair loss, also known as alopecia areata, include corticosteroid injections, topical minoxidil, and immunotherapy. Possible causes include autoimmune disorders, genetic predisposition, and stress. It's essential to consult a dermatologist for a proper diagnosis and personalized treatment plan.\", 'index': 0, 'logprobs': None, 'finish_reason': 'stop'}], 'usage': {'prompt_tokens': 57, 'completion_tokens': 81, 'total_tokens': 138}}\n",
            "\n",
            "================================================================================\n",
            "📋 QUESTION:\n",
            "--------------------------------------------------------------------------------\n",
            "What are the effective treatments or solutions for addressing sudden patchy hair loss, commonly seen as localized bald spots on the scalp, and what could be the possible causes behind it?\n",
            "\n",
            "🩺 ANSWER:\n",
            "--------------------------------------------------------------------------------\n",
            " Effective treatments for sudden patchy hair loss, also known as alopecia areata, include corticosteroid injections, topical minoxidil, and immunotherapy. Possible causes include autoimmune disorders, genetic predisposition, and stress. It's essential to consult a dermatologist for a proper diagnosis and personalized treatment plan.\n",
            "================================================================================\n",
            "---\n",
            "\n",
            "got respoonse {'id': 'cmpl-85a57a5b-7694-4925-9ca3-fead910690c2', 'object': 'text_completion', 'created': 1746889693, 'model': '/content/drive/MyDrive/llm_models/Phi-3-mini-4k-instruct-q4.gguf', 'choices': [{'text': ' As an experienced medical specialist, I can provide you with information on the effective treatments and potential causes of sudden patchy hair loss, also known as alopecia areata.\\n\\nPossible causes of alopecia areata include:\\n\\n1. Autoimmune disorders: In some cases, the immune system mistakenly attacks hair follicles, leading to hair loss.\\n2. Genetic predisposition: A family history of alopecia areata or other autoimmune disorders can increase the risk of developing the condition.\\n3. Stress: Emotional or physical stress can trigger or worsen alope', 'index': 0, 'logprobs': None, 'finish_reason': 'length'}], 'usage': {'prompt_tokens': 59, 'completion_tokens': 135, 'total_tokens': 194}}\n",
            "\n",
            "================================================================================\n",
            "📋 QUESTION:\n",
            "--------------------------------------------------------------------------------\n",
            "What are the effective treatments or solutions for addressing sudden patchy hair loss, commonly seen as localized bald spots on the scalp, and what could be the possible causes behind it?\n",
            "\n",
            "🩺 ANSWER:\n",
            "--------------------------------------------------------------------------------\n",
            " As an experienced medical specialist, I can provide you with information on the effective treatments and potential causes of sudden patchy hair loss, also known as alopecia areata.\n",
            "\n",
            "Possible causes of alopecia areata include:\n",
            "\n",
            "1. Autoimmune disorders: In some cases, the immune system mistakenly attacks hair follicles, leading to hair loss.\n",
            "2. Genetic predisposition: A family history of alopecia areata or other autoimmune disorders can increase the risk of developing the condition.\n",
            "3. Stress: Emotional or physical stress can trigger or worsen alope\n",
            "================================================================================\n",
            "---\n",
            "\n"
          ]
        }
      ],
      "source": [
        "test_combinations(2)"
      ]
    },
    {
      "cell_type": "markdown",
      "metadata": {
        "id": "4RAXAXDj1H1S"
      },
      "source": [
        "### Query 4:  What treatments are recommended for a person who has sustained a physical injury to brain tissue, resulting in temporary or permanent impairment of brain function?"
      ]
    },
    {
      "cell_type": "code",
      "execution_count": null,
      "metadata": {
        "colab": {
          "base_uri": "https://localhost:8080/"
        },
        "id": "IWUxLJypvnSo",
        "outputId": "a027315b-aecd-47d6-8c07-82cabdb80a6b"
      },
      "outputs": [
        {
          "name": "stdout",
          "output_type": "stream",
          "text": [
            "got respoonse {'id': 'cmpl-656cabf2-698f-4380-a037-2bcf4436b795', 'object': 'text_completion', 'created': 1746889776, 'model': '/content/drive/MyDrive/llm_models/Phi-3-mini-4k-instruct-q4.gguf', 'choices': [{'text': \" Treatment for a physical injury to brain tissue, resulting in temporary or permanent impairment of brain function, depends on the severity and location of the injury, as well as the specific symptoms and complications experienced by the individual. Here are some general treatment options:\\n\\n1. Immediate medical attention: In the case of a severe head injury, immediate medical attention is crucial. This may involve stabilizing the patient's vital signs, performing a thorough neurological examination, and obtaining imaging studies such as a CT scan or MRI to assess the extent of the injury.\\n\\n2. Medications: Various medications may be prescribed to manage symptoms and complications associated with\", 'index': 0, 'logprobs': None, 'finish_reason': 'length'}], 'usage': {'prompt_tokens': 47, 'completion_tokens': 150, 'total_tokens': 197}}\n",
            "\n",
            "================================================================================\n",
            "📋 QUESTION:\n",
            "--------------------------------------------------------------------------------\n",
            "What treatments are recommended for a person who has sustained a physical injury to brain tissue, resulting in temporary or permanent impairment of brain function?\n",
            "\n",
            "🩺 ANSWER:\n",
            "--------------------------------------------------------------------------------\n",
            " Treatment for a physical injury to brain tissue, resulting in temporary or permanent impairment of brain function, depends on the severity and location of the injury, as well as the specific symptoms and complications experienced by the individual. Here are some general treatment options:\n",
            "\n",
            "1. Immediate medical attention: In the case of a severe head injury, immediate medical attention is crucial. This may involve stabilizing the patient's vital signs, performing a thorough neurological examination, and obtaining imaging studies such as a CT scan or MRI to assess the extent of the injury.\n",
            "\n",
            "2. Medications: Various medications may be prescribed to manage symptoms and complications associated with\n",
            "================================================================================\n",
            "---\n",
            "\n",
            "got respoonse {'id': 'cmpl-268adf66-3474-4d5b-bfda-a4bf0aa0e2c8', 'object': 'text_completion', 'created': 1746889841, 'model': '/content/drive/MyDrive/llm_models/Phi-3-mini-4k-instruct-q4.gguf', 'choices': [{'text': \" Treatment for a person who has sustained a physical injury to brain tissue, resulting in temporary or permanent impairment of brain function, depends on the severity and location of the injury. Here are some common treatments:\\n\\n1. Emergency care: Immediate medical attention is crucial for any brain injury. This may involve stabilizing the patient's vital signs, preventing further injury, and minimizing swelling.\\n\\n2. Medications: Depending on the injury, medications may be used to reduce swelling, control pain, prevent seizures, or manage other symptoms.\\n\\n3. Surgery: In some cases, surgery may be necessary to remove blood clots, repair damaged blood vessels, or relieve pressure\", 'index': 0, 'logprobs': None, 'finish_reason': 'length'}], 'usage': {'prompt_tokens': 47, 'completion_tokens': 160, 'total_tokens': 207}}\n",
            "\n",
            "================================================================================\n",
            "📋 QUESTION:\n",
            "--------------------------------------------------------------------------------\n",
            "What treatments are recommended for a person who has sustained a physical injury to brain tissue, resulting in temporary or permanent impairment of brain function?\n",
            "\n",
            "🩺 ANSWER:\n",
            "--------------------------------------------------------------------------------\n",
            " Treatment for a person who has sustained a physical injury to brain tissue, resulting in temporary or permanent impairment of brain function, depends on the severity and location of the injury. Here are some common treatments:\n",
            "\n",
            "1. Emergency care: Immediate medical attention is crucial for any brain injury. This may involve stabilizing the patient's vital signs, preventing further injury, and minimizing swelling.\n",
            "\n",
            "2. Medications: Depending on the injury, medications may be used to reduce swelling, control pain, prevent seizures, or manage other symptoms.\n",
            "\n",
            "3. Surgery: In some cases, surgery may be necessary to remove blood clots, repair damaged blood vessels, or relieve pressure\n",
            "================================================================================\n",
            "---\n",
            "\n",
            "got respoonse {'id': 'cmpl-3616c024-f84c-42d4-a919-e4c9f3e1452c', 'object': 'text_completion', 'created': 1746889909, 'model': '/content/drive/MyDrive/llm_models/Phi-3-mini-4k-instruct-q4.gguf', 'choices': [{'text': ' Step 1: Assess the severity of the injury\\nThe first step in treating a physical injury to brain tissue is to assess the severity of the injury. This can be done through imaging techniques such as CT scans or MRI scans, which can help determine the extent of the damage and whether it is temporary or permanent.\\n\\nStep 2: Stabilize the patient\\nIf the injury is severe, the patient may need to be stabilized in a hospital setting. This may involve monitoring vital signs, controlling pain, and preventing further injury.\\n\\nStep 3: Determine the appropriate treatment plan\\nBased on the severity and type of injury, the treatment plan may include', 'index': 0, 'logprobs': None, 'finish_reason': 'length'}], 'usage': {'prompt_tokens': 49, 'completion_tokens': 150, 'total_tokens': 199}}\n",
            "\n",
            "================================================================================\n",
            "📋 QUESTION:\n",
            "--------------------------------------------------------------------------------\n",
            "What treatments are recommended for a person who has sustained a physical injury to brain tissue, resulting in temporary or permanent impairment of brain function?\n",
            "\n",
            "🩺 ANSWER:\n",
            "--------------------------------------------------------------------------------\n",
            " Step 1: Assess the severity of the injury\n",
            "The first step in treating a physical injury to brain tissue is to assess the severity of the injury. This can be done through imaging techniques such as CT scans or MRI scans, which can help determine the extent of the damage and whether it is temporary or permanent.\n",
            "\n",
            "Step 2: Stabilize the patient\n",
            "If the injury is severe, the patient may need to be stabilized in a hospital setting. This may involve monitoring vital signs, controlling pain, and preventing further injury.\n",
            "\n",
            "Step 3: Determine the appropriate treatment plan\n",
            "Based on the severity and type of injury, the treatment plan may include\n",
            "================================================================================\n",
            "---\n",
            "\n",
            "got respoonse {'id': 'cmpl-4d0dafdc-b069-4930-ac4a-1b10a45a1cfa', 'object': 'text_completion', 'created': 1746889974, 'model': '/content/drive/MyDrive/llm_models/Phi-3-mini-4k-instruct-q4.gguf', 'choices': [{'text': ' For physical injury to brain tissue, treatments may include immediate medical intervention to stabilize the patient, surgery to remove any hematomas or contusions, medication for pain and inflammation, rehabilitation therapies (physical, occupational, speech), and psychological support. The specific treatment plan depends on the severity and nature of the injury.', 'index': 0, 'logprobs': None, 'finish_reason': 'stop'}], 'usage': {'prompt_tokens': 49, 'completion_tokens': 80, 'total_tokens': 129}}\n",
            "\n",
            "================================================================================\n",
            "📋 QUESTION:\n",
            "--------------------------------------------------------------------------------\n",
            "What treatments are recommended for a person who has sustained a physical injury to brain tissue, resulting in temporary or permanent impairment of brain function?\n",
            "\n",
            "🩺 ANSWER:\n",
            "--------------------------------------------------------------------------------\n",
            " For physical injury to brain tissue, treatments may include immediate medical intervention to stabilize the patient, surgery to remove any hematomas or contusions, medication for pain and inflammation, rehabilitation therapies (physical, occupational, speech), and psychological support. The specific treatment plan depends on the severity and nature of the injury.\n",
            "================================================================================\n",
            "---\n",
            "\n",
            "got respoonse {'id': 'cmpl-0a1ea615-ea69-40da-a9d9-9f436d37117b', 'object': 'text_completion', 'created': 1746890011, 'model': '/content/drive/MyDrive/llm_models/Phi-3-mini-4k-instruct-q4.gguf', 'choices': [{'text': \" As an experienced medical specialist, I can provide you with an overview of the potential treatments for a person who has sustained a brain injury. The specific treatment plan will depend on the severity and type of injury, as well as the individual's overall health and medical history. Here are some common treatment options:\\n\\n1. Acute management: In the immediate aftermath of a brain injury, the primary goal is to stabilize the patient and prevent further damage. This may involve:\\n   - Ensuring adequate oxygenation and blood flow to the brain\\n   - Maintaining blood pressure within a normal range\\n   - Mon\", 'index': 0, 'logprobs': None, 'finish_reason': 'length'}], 'usage': {'prompt_tokens': 51, 'completion_tokens': 135, 'total_tokens': 186}}\n",
            "\n",
            "================================================================================\n",
            "📋 QUESTION:\n",
            "--------------------------------------------------------------------------------\n",
            "What treatments are recommended for a person who has sustained a physical injury to brain tissue, resulting in temporary or permanent impairment of brain function?\n",
            "\n",
            "🩺 ANSWER:\n",
            "--------------------------------------------------------------------------------\n",
            " As an experienced medical specialist, I can provide you with an overview of the potential treatments for a person who has sustained a brain injury. The specific treatment plan will depend on the severity and type of injury, as well as the individual's overall health and medical history. Here are some common treatment options:\n",
            "\n",
            "1. Acute management: In the immediate aftermath of a brain injury, the primary goal is to stabilize the patient and prevent further damage. This may involve:\n",
            "   - Ensuring adequate oxygenation and blood flow to the brain\n",
            "   - Maintaining blood pressure within a normal range\n",
            "   - Mon\n",
            "================================================================================\n",
            "---\n",
            "\n"
          ]
        }
      ],
      "source": [
        "test_combinations(3)"
      ]
    },
    {
      "cell_type": "markdown",
      "metadata": {
        "id": "pucFOUJ_1LYA"
      },
      "source": [
        "### Query 5: What are the necessary precautions and treatment steps for a person who has fractured their leg during a hiking trip, and what should be considered for their care and recovery?"
      ]
    },
    {
      "cell_type": "code",
      "execution_count": null,
      "metadata": {
        "colab": {
          "base_uri": "https://localhost:8080/"
        },
        "id": "iVgx3bZIyTin",
        "outputId": "fda1dcfa-711d-4afa-fc0b-a493e392232b"
      },
      "outputs": [
        {
          "name": "stdout",
          "output_type": "stream",
          "text": [
            "got respoonse {'id': 'cmpl-89eecbf0-a8dc-49d0-861e-892e738e0ec0', 'object': 'text_completion', 'created': 1746890563, 'model': '/content/drive/MyDrive/llm_models/Phi-3-mini-4k-instruct-q4.gguf', 'choices': [{'text': ' Precautions and treatment steps for a person who has fractured their leg during a hiking trip include:\\n\\n1. Immobilization: Immobilize the injured leg using a splint or a makeshift support to prevent further injury.\\n\\n2. Pain management: Administer over-the-counter pain medications, such as acetaminophen or ibuprofen, to alleviate pain and reduce inflammation.\\n\\n3. Elevation: Elevate the injured leg above heart level to reduce swelling and improve blood circulation.\\n\\n4. Ice application: Apply ice packs wrapped in a cloth to the injured area for 15-', 'index': 0, 'logprobs': None, 'finish_reason': 'length'}], 'usage': {'prompt_tokens': 53, 'completion_tokens': 150, 'total_tokens': 203}}\n",
            "\n",
            "================================================================================\n",
            "📋 QUESTION:\n",
            "--------------------------------------------------------------------------------\n",
            "What are the necessary precautions and treatment steps for a person who has fractured their leg during a hiking trip, and what should be considered for their care and recovery?\n",
            "\n",
            "🩺 ANSWER:\n",
            "--------------------------------------------------------------------------------\n",
            " Precautions and treatment steps for a person who has fractured their leg during a hiking trip include:\n",
            "\n",
            "1. Immobilization: Immobilize the injured leg using a splint or a makeshift support to prevent further injury.\n",
            "\n",
            "2. Pain management: Administer over-the-counter pain medications, such as acetaminophen or ibuprofen, to alleviate pain and reduce inflammation.\n",
            "\n",
            "3. Elevation: Elevate the injured leg above heart level to reduce swelling and improve blood circulation.\n",
            "\n",
            "4. Ice application: Apply ice packs wrapped in a cloth to the injured area for 15-\n",
            "================================================================================\n",
            "---\n",
            "\n",
            "got respoonse {'id': 'cmpl-c87bc517-d41e-4d23-bf57-9cbaa2db07bd', 'object': 'text_completion', 'created': 1746890630, 'model': '/content/drive/MyDrive/llm_models/Phi-3-mini-4k-instruct-q4.gguf', 'choices': [{'text': ' Fracturing a leg during a hiking trip can be a painful and challenging experience. Here are the necessary precautions and treatment steps for a person who has fractured their leg, along with considerations for their care and recovery:\\n\\n1. Immediate actions:\\n   a. Keep the injured person calm and reassure them.\\n   b. Do not attempt to realign the bone or move the injured leg.\\n   c. Immobilize the injured leg using a splint or any rigid material to prevent further damage.\\n   d. Elevate the injured leg above heart level to reduce swelling.\\n   e. Apply a cold compress or ice pack wrapped in a cloth to the injured area to minimize', 'index': 0, 'logprobs': None, 'finish_reason': 'length'}], 'usage': {'prompt_tokens': 53, 'completion_tokens': 160, 'total_tokens': 213}}\n",
            "\n",
            "================================================================================\n",
            "📋 QUESTION:\n",
            "--------------------------------------------------------------------------------\n",
            "What are the necessary precautions and treatment steps for a person who has fractured their leg during a hiking trip, and what should be considered for their care and recovery?\n",
            "\n",
            "🩺 ANSWER:\n",
            "--------------------------------------------------------------------------------\n",
            " Fracturing a leg during a hiking trip can be a painful and challenging experience. Here are the necessary precautions and treatment steps for a person who has fractured their leg, along with considerations for their care and recovery:\n",
            "\n",
            "1. Immediate actions:\n",
            "   a. Keep the injured person calm and reassure them.\n",
            "   b. Do not attempt to realign the bone or move the injured leg.\n",
            "   c. Immobilize the injured leg using a splint or any rigid material to prevent further damage.\n",
            "   d. Elevate the injured leg above heart level to reduce swelling.\n",
            "   e. Apply a cold compress or ice pack wrapped in a cloth to the injured area to minimize\n",
            "================================================================================\n",
            "---\n",
            "\n",
            "got respoonse {'id': 'cmpl-18dc3bc2-2678-48a5-8ac6-b71bdaf21acd', 'object': 'text_completion', 'created': 1746890701, 'model': '/content/drive/MyDrive/llm_models/Phi-3-mini-4k-instruct-q4.gguf', 'choices': [{'text': \" Step 1: Ensure Safety and Immobilize the Fracture\\n\\nThe first priority is to ensure the person's safety and prevent further injury. If the person is conscious and able to move, instruct them to sit or lie down in a comfortable position. Avoid moving the fractured leg as much as possible to prevent exacerbating the injury.\\n\\nStep 2: Call for Emergency Assistance\\n\\nContact emergency services (e.g., 911) to request immediate medical attention. Provide the rescuers with the location, the nature of the injury, and any relevant medical history.\\n\\nStep 3: Minimize Pain and Swelling\\n\\n\", 'index': 0, 'logprobs': None, 'finish_reason': 'length'}], 'usage': {'prompt_tokens': 55, 'completion_tokens': 150, 'total_tokens': 205}}\n",
            "\n",
            "================================================================================\n",
            "📋 QUESTION:\n",
            "--------------------------------------------------------------------------------\n",
            "What are the necessary precautions and treatment steps for a person who has fractured their leg during a hiking trip, and what should be considered for their care and recovery?\n",
            "\n",
            "🩺 ANSWER:\n",
            "--------------------------------------------------------------------------------\n",
            " Step 1: Ensure Safety and Immobilize the Fracture\n",
            "\n",
            "The first priority is to ensure the person's safety and prevent further injury. If the person is conscious and able to move, instruct them to sit or lie down in a comfortable position. Avoid moving the fractured leg as much as possible to prevent exacerbating the injury.\n",
            "\n",
            "Step 2: Call for Emergency Assistance\n",
            "\n",
            "Contact emergency services (e.g., 911) to request immediate medical attention. Provide the rescuers with the location, the nature of the injury, and any relevant medical history.\n",
            "\n",
            "Step 3: Minimize Pain and Swelling\n",
            "\n",
            "\n",
            "================================================================================\n",
            "---\n",
            "\n",
            "got respoonse {'id': 'cmpl-02a3c754-7b29-4081-baf9-a44d475df5d7', 'object': 'text_completion', 'created': 1746890767, 'model': '/content/drive/MyDrive/llm_models/Phi-3-mini-4k-instruct-q4.gguf', 'choices': [{'text': ' For a person with a fractured leg during a hiking trip, the following precautions and treatment steps should be taken:\\n\\n1. Immobilize the leg: Use a splint or any rigid object to immobilize the injured leg, avoiding further damage.\\n\\n2. Seek medical help: Contact emergency services or arrange for evacuation to a medical facility, as hiking trails are often remote and far from medical assistance.\\n\\n3. Pain management: Administer over-the-counter pain medication, such as acetaminophen or ibuprofen', 'index': 0, 'logprobs': None, 'finish_reason': 'length'}], 'usage': {'prompt_tokens': 55, 'completion_tokens': 132, 'total_tokens': 187}}\n",
            "\n",
            "================================================================================\n",
            "📋 QUESTION:\n",
            "--------------------------------------------------------------------------------\n",
            "What are the necessary precautions and treatment steps for a person who has fractured their leg during a hiking trip, and what should be considered for their care and recovery?\n",
            "\n",
            "🩺 ANSWER:\n",
            "--------------------------------------------------------------------------------\n",
            " For a person with a fractured leg during a hiking trip, the following precautions and treatment steps should be taken:\n",
            "\n",
            "1. Immobilize the leg: Use a splint or any rigid object to immobilize the injured leg, avoiding further damage.\n",
            "\n",
            "2. Seek medical help: Contact emergency services or arrange for evacuation to a medical facility, as hiking trails are often remote and far from medical assistance.\n",
            "\n",
            "3. Pain management: Administer over-the-counter pain medication, such as acetaminophen or ibuprofen\n",
            "================================================================================\n",
            "---\n",
            "\n",
            "got respoonse {'id': 'cmpl-92c35348-b1b2-48c5-81f9-c7abd95b2a92', 'object': 'text_completion', 'created': 1746890828, 'model': '/content/drive/MyDrive/llm_models/Phi-3-mini-4k-instruct-q4.gguf', 'choices': [{'text': ' As an experienced medical specialist, I would recommend the following precautions and treatment steps for a person who has fractured their leg during a hiking trip:\\n\\n1. Immobilization: Immobilize the affected leg using a splint or a makeshift support to prevent further injury. Avoid moving the leg unnecessarily.\\n\\n2. Pain management: Administer over-the-counter pain medications, such as acetaminophen or ibuprofen, to manage pain and reduce inflammation.\\n\\n3. Elevation: Elevate the injured leg above heart level to reduce sw', 'index': 0, 'logprobs': None, 'finish_reason': 'length'}], 'usage': {'prompt_tokens': 57, 'completion_tokens': 135, 'total_tokens': 192}}\n",
            "\n",
            "================================================================================\n",
            "📋 QUESTION:\n",
            "--------------------------------------------------------------------------------\n",
            "What are the necessary precautions and treatment steps for a person who has fractured their leg during a hiking trip, and what should be considered for their care and recovery?\n",
            "\n",
            "🩺 ANSWER:\n",
            "--------------------------------------------------------------------------------\n",
            " As an experienced medical specialist, I would recommend the following precautions and treatment steps for a person who has fractured their leg during a hiking trip:\n",
            "\n",
            "1. Immobilization: Immobilize the affected leg using a splint or a makeshift support to prevent further injury. Avoid moving the leg unnecessarily.\n",
            "\n",
            "2. Pain management: Administer over-the-counter pain medications, such as acetaminophen or ibuprofen, to manage pain and reduce inflammation.\n",
            "\n",
            "3. Elevation: Elevate the injured leg above heart level to reduce sw\n",
            "================================================================================\n",
            "---\n",
            "\n"
          ]
        }
      ],
      "source": [
        "test_combinations(4)"
      ]
    },
    {
      "cell_type": "markdown",
      "metadata": {
        "id": "KS5E6RquunBu"
      },
      "source": [
        "## 👀 **Summary**\n",
        "\n"
      ]
    },
    {
      "cell_type": "markdown",
      "metadata": {
        "id": "LX-26Sku1ax2"
      },
      "source": [
        "We utilized the Phi-3 Mini 4K model in a GPU-accelerated Colab setup to generate medical responses for a predefined set of five clinically relevant questions.\n",
        "\n",
        "initial tests showed that a max_tokens setting of 512 to 1024 consumes too much time So we resort back to defualt provided by academia (ie 128)\n",
        "\n",
        "**Fine tuned params**\n",
        "\n",
        "- Varying LLM parameters(temperature, top_p_ had not drastic effect on core facts, reinforcing consistency in medical information\n",
        "\n",
        "- The model occassionally altered between concise statements and step-wise instructions- mimicking the variability in real clinical communication.\n",
        "\n",
        "1. **Response Time vs. Token Length**: Generating 512 tokens took significantly longer than shorter outputs. There appears to be a near-linear relationship between max_tokens and generation time.\n",
        "\n",
        "2. **Temperature Impact**: Lower temperature settings (0.1-0.2) produced more consistent, factual responses appropriate for medical information, while slightly higher values (0.3-0.4) introduced minor variations in phrasing without compromising accuracy.\n",
        "\n",
        "3. **Prompt Engineering Effects**: Directive prompts (e.g., \"Answer step-by-step\") noticeably influenced the structure of responses, with the model generally following the requested format.\n",
        "\n",
        "4. **Default Value Optimization**: We settled on max_tokens=128 as the default for a balance between response quality and generation speed. This value provided sufficient detail for most medical questions while maintaining reasonable response times.\n",
        "\n",
        "5. **Optimal Balance**: The \"Balanced Approach\" (temp=0.3, top_p=0.8) provided a good compromise between factual accuracy and natural language flow for medical questions.\n",
        "\n",
        "6. **Conciseness vs. Completeness**: While the \"Concise Summary\" setting generated faster responses, some medical questions benefited from the additional context provided by longer outputs.\n",
        "\n",
        "7. **Persona Framing**: The \"Medical Expert Persona\" prompt appeared to elicit slightly more technical terminology and structured explanations compared to neutral prompts.\n",
        "\n",
        "8. **Token Efficiency**: Lower temperatures generally resulted in more information-dense responses, requiring fewer tokens to convey key medical information.\n",
        "\n",
        "9. **Model Limitations**: For complex medical protocols (like sepsis management), even the longest responses sometimes felt truncated before completing the full explanation.\n",
        "\n",
        "*Overall, output remained grounded and medically sound across parameter sweeps, suggesting robustness in factual domain.*\n",
        "\n",
        "***The responses generated by Phi-3 Mini were surprisingly coherent and informative, even without retrieval augmentation — suggesting that smaller models can still be leveraged for meaningful domain-specific reasoning when guided with the right prompt and sampling parameters.***"
      ]
    },
    {
      "cell_type": "markdown",
      "metadata": {
        "id": "xsGV2u5B1Vir"
      },
      "source": [
        "## Data Preparation for RAG"
      ]
    },
    {
      "cell_type": "markdown",
      "metadata": {
        "id": "nDx7VkmX3wYq"
      },
      "source": [
        "**Flow** :\n",
        "\n",
        "1. **PDF** → loaded via loader (e.g., `PyMuPDFLoader`)\n",
        "2. **Documents** → output of loader (list of `Document` objects)\n",
        "3. **Chunks** → split documents into smaller chunks\n",
        "4. **Embeddings** → generate embeddings from chunks\n",
        "\n",
        "\n",
        "**`PDF → Documents → Chunks → Embeddings`**\n"
      ]
    },
    {
      "cell_type": "markdown",
      "metadata": {
        "id": "DT6zlPyY2NNx"
      },
      "source": [
        "**Prep**"
      ]
    },
    {
      "cell_type": "code",
      "execution_count": 33,
      "metadata": {
        "colab": {
          "base_uri": "https://localhost:8080/"
        },
        "id": "6TU1z_nN2YCo",
        "outputId": "6887e452-42c4-434f-b99e-af07afb045fe"
      },
      "outputs": [
        {
          "output_type": "stream",
          "name": "stdout",
          "text": [
            "/content/drive/MyDrive/Colab Notebooks/medical_assistant_hf\n"
          ]
        }
      ],
      "source": [
        "!pwd"
      ]
    },
    {
      "cell_type": "code",
      "execution_count": 34,
      "metadata": {
        "colab": {
          "base_uri": "https://localhost:8080/"
        },
        "id": "8_Vt8mMa3j0K",
        "outputId": "b864a684-2d70-4fb2-b997-283bc753a6ef"
      },
      "outputs": [
        {
          "output_type": "stream",
          "name": "stdout",
          "text": [
            "total 33794\n",
            "-rw------- 1 root root 14173186 May 11 06:18 documents.pkl\n",
            "drwx------ 2 root root     4096 May 11 06:18 faiss_index\n",
            "-rw------- 1 root root 20150488 May 11 06:18 medical_diagnosis_manual.pdf\n",
            "-rw------- 1 root root   237332 May 11 07:33 notebook_p2.ipynb\n",
            "-rw------- 1 root root    37945 May 11 06:18 Project_Template_Notebook.ipynb\n"
          ]
        }
      ],
      "source": [
        "!ls -la"
      ]
    },
    {
      "cell_type": "code",
      "execution_count": 35,
      "metadata": {
        "id": "Ks-aV04U2SRz"
      },
      "outputs": [],
      "source": [
        "pdf_path = 'medical_diagnosis_manual.pdf'"
      ]
    },
    {
      "cell_type": "code",
      "execution_count": 36,
      "metadata": {
        "id": "PhfYFeGw2NtH"
      },
      "outputs": [],
      "source": [
        "# helper Functions\n",
        "\n",
        "def load_pdf_with_langchain(pdf_path):\n",
        "    \"\"\"\n",
        "    Load a PDF file using LangChain's PyMuPDFLoader\n",
        "\n",
        "    Args:\n",
        "        pdf_path: Path to the PDF file\n",
        "\n",
        "    Returns:\n",
        "        List of document objects with page content and metadata\n",
        "    \"\"\"\n",
        "    if not os.path.exists(pdf_path):\n",
        "        raise FileNotFoundError(f\"PDF file not found at {pdf_path}\")\n",
        "\n",
        "    # Load the PDF using PyMuPDFLoader\n",
        "    loader = PyMuPDFLoader(pdf_path)\n",
        "    documents = loader.load()\n",
        "\n",
        "    print(f\"PDF loaded successfully: {os.path.basename(pdf_path)}\")\n",
        "    print(f\"Total pages: {len(documents)}\")\n",
        "\n",
        "    return documents\n",
        "\n",
        "def preview_documents(documents, num_pages=3):\n",
        "    \"\"\"\n",
        "    Preview few pages of loaded documents\n",
        "    \"\"\"\n",
        "    total_pages = len(documents)\n",
        "\n",
        "    print(f\"Previewing few pages:\")\n",
        "    print(\"=\"*80)\n",
        "\n",
        "    # Skipping first 2 pages as those are not relevant (ie abstract, ...)\n",
        "    for i in range(2, min(2+num_pages, total_pages)):\n",
        "        doc = documents[i]\n",
        "        text = doc.page_content\n",
        "\n",
        "        print(f\"\\n--- Page {i+1} ---\\n\")\n",
        "        print(text[:1000] + \"...\" if len(text) > 1000 else text)\n",
        "\n",
        "    print(\"\\n\" + \"=\"*80)"
      ]
    },
    {
      "cell_type": "code",
      "execution_count": 38,
      "metadata": {
        "id": "CfJN43djV0cW"
      },
      "outputs": [],
      "source": [
        "# This is a helper class to save and load the python objects locally !\n",
        "class ObjectStore:\n",
        "    def __init__(self, filepath):\n",
        "        \"\"\"\n",
        "        :param filepath: Path to the file where the object will be saved/loaded from.\n",
        "        \"\"\"\n",
        "        self.filepath = filepath\n",
        "\n",
        "    def save(self, obj):\n",
        "        \"\"\"Save object to the file using pickle.\"\"\"\n",
        "        try:\n",
        "          with open(self.filepath, 'wb') as f:\n",
        "              pickle.dump(obj, f)\n",
        "        except Exception as e:\n",
        "          print(f'Error whilst saving the object {e}')\n",
        "\n",
        "    def load(self, derive):\n",
        "        \"\"\"\n",
        "        Load object from file, or call derive(), save it, and return if not found or corrupted.\n",
        "\n",
        "        :param derive: Function to call to derive the default object.\n",
        "        :return: Loaded or derived object.\n",
        "        \"\"\"\n",
        "        try:\n",
        "          if os.path.exists(self.filepath):\n",
        "              try:\n",
        "                  with open(self.filepath, 'rb') as f:\n",
        "                      return pickle.load(f)\n",
        "              except (pickle.UnpicklingError, EOFError, OSError):\n",
        "                  print(\"Failed to load object. Deriving new one.\")\n",
        "          else:\n",
        "              print(\"File not found. Deriving new object.\")\n",
        "\n",
        "          obj = derive()\n",
        "          if obj:\n",
        "            self.save(obj)\n",
        "          return obj\n",
        "        except:\n",
        "          print(\"Failed to load or derive object.\")\n",
        "          return None"
      ]
    },
    {
      "cell_type": "markdown",
      "metadata": {
        "id": "DDjgfOge35Z5"
      },
      "source": [
        "### Loading the Data"
      ]
    },
    {
      "cell_type": "code",
      "execution_count": 39,
      "metadata": {
        "id": "iB2MJ31T5d3k"
      },
      "outputs": [],
      "source": [
        "# Extract documents from pdf\n",
        "# --\n",
        "# 1. extract texts\n",
        "# 2. and group or segregate texts into documents !!\n",
        "# --\n",
        "\n",
        "def derive_documents():\n",
        "  try:\n",
        "    documents = load_pdf_with_langchain(pdf_path)\n",
        "    return documents\n",
        "  except Exception as e:\n",
        "    print(f\"Error loading pdf: {e}\")\n",
        "    return None\n",
        "\n",
        "objStore = ObjectStore('documents.pkl')\n",
        "documents = objStore.load(derive_documents)"
      ]
    },
    {
      "cell_type": "markdown",
      "metadata": {
        "id": "rhiRYMG_6jt-"
      },
      "source": [
        "#### Checking the first 5 pages"
      ]
    },
    {
      "cell_type": "code",
      "execution_count": 40,
      "metadata": {
        "colab": {
          "base_uri": "https://localhost:8080/"
        },
        "id": "91p8cWMC31h3",
        "outputId": "138819ca-badf-4662-dcc5-ad268784fa83"
      },
      "outputs": [
        {
          "output_type": "stream",
          "name": "stdout",
          "text": [
            "Previewing few pages:\n",
            "================================================================================\n",
            "\n",
            "--- Page 3 ---\n",
            "\n",
            "Table of Contents\n",
            "1\n",
            "Front    ................................................................................................................................................................................................................\n",
            "1\n",
            "Cover    .......................................................................................................................................................................................................\n",
            "2\n",
            "Front Matter    ...........................................................................................................................................................................................\n",
            "53\n",
            "1 - Nutritional Disorders    ...............................................................................................................................................................\n",
            "53\n",
            "Chapter 1. Nutrition: General Considerations    .........................................................................................................\n",
            "\n",
            "--- Page 4 ---\n",
            "\n",
            "491\n",
            "Chapter 44. Foot & Ankle Disorders    .....................................................................................................................................\n",
            "502\n",
            "Chapter 45. Tumors of Bones & Joints    ...............................................................................................................................\n",
            "510\n",
            "5 - Ear, Nose, Throat & Dental Disorders    ..................................................................................................................\n",
            "510\n",
            "Chapter 46. Approach to the Patient With Ear Problems    ...........................................................................................\n",
            "523\n",
            "Chapter 47. Hearing Loss    .........................................................................................................................................................\n",
            "535\n",
            "Chapter 48. Inner Ear Disorders    ..................................................................................................................\n",
            "\n",
            "--- Page 5 ---\n",
            "\n",
            "921\n",
            "Chapter 94. Adrenal Disorders    ................................................................................................................................................\n",
            "936\n",
            "Chapter 95. Polyglandular Deficiency Syndromes    ........................................................................................................\n",
            "939\n",
            "Chapter 96. Porphyrias    ..............................................................................................................................................................\n",
            "949\n",
            "Chapter 97. Fluid & Electrolyte Metabolism    .....................................................................................................................\n",
            "987\n",
            "Chapter 98. Acid-Base Regulation & Disorders    ..............................................................................................................\n",
            "1001\n",
            "Chapter 99. Diabetes Mellitus & Disorders of Carbohydrate Metabolism    ........................................................\n",
            "1024\n",
            "...\n",
            "\n",
            "--- Page 6 ---\n",
            "\n",
            "1513\n",
            "Chapter 145. Trematodes (Flukes)    ....................................................................................................................................\n",
            "1520\n",
            "Chapter 146. Cestodes (Tapeworms)    ...............................................................................................................................\n",
            "1527\n",
            "Chapter 147. Intestinal Protozoa    ........................................................................................................................................\n",
            "1536\n",
            "Chapter 148. Extraintestinal Protozoa    .............................................................................................................................\n",
            "1555\n",
            "Chapter 149. Viruses    ...............................................................................................................................................................\n",
            "1559\n",
            "Chapter 150. Respiratory Viruses    ...............................................................................\n",
            "\n",
            "--- Page 7 ---\n",
            "\n",
            "2081\n",
            "Chapter 196. Pneumonia    .......................................................................................................................................................\n",
            "2094\n",
            "Chapter 197. Lung Abscess    ..................................................................................................................................................\n",
            "2097\n",
            "Chapter 198. Bronchiectasis    ................................................................................................................................................\n",
            "2101\n",
            "Chapter 199. Interstitial Lung Diseases    ...........................................................................................................................\n",
            "2122\n",
            "Chapter 200. Sarcoidosis    .......................................................................................................................................................\n",
            "2127\n",
            "Chapter 201. Environmental Pulmonary Diseases    ...............................................\n",
            "\n",
            "================================================================================\n"
          ]
        }
      ],
      "source": [
        "# preview the PDF\n",
        "preview_documents(documents, 5)"
      ]
    },
    {
      "cell_type": "markdown",
      "metadata": {
        "id": "0F0NL59B6g0A"
      },
      "source": [
        "#### Checking the number of pages"
      ]
    },
    {
      "cell_type": "code",
      "execution_count": null,
      "metadata": {
        "colab": {
          "base_uri": "https://localhost:8080/"
        },
        "id": "p1SK85ze6wNZ",
        "outputId": "c666e5c1-fef3-48bb-807d-2d5d3fb8ac09"
      },
      "outputs": [
        {
          "output_type": "stream",
          "name": "stdout",
          "text": [
            "Total number of pages:  4114\n"
          ]
        }
      ],
      "source": [
        "print('Total number of pages: ', len(documents))"
      ]
    },
    {
      "cell_type": "markdown",
      "metadata": {
        "id": "neOHKPLY63Lv"
      },
      "source": [
        "### Data Overview"
      ]
    },
    {
      "cell_type": "code",
      "execution_count": null,
      "metadata": {
        "colab": {
          "base_uri": "https://localhost:8080/"
        },
        "id": "ef4mxA256Zn6",
        "outputId": "9879c914-e444-4d29-d32e-18ea62719fd2"
      },
      "outputs": [
        {
          "output_type": "stream",
          "name": "stdout",
          "text": [
            "\n",
            "PDF loaded successfully with 4114 pages and 13710453 characters\n",
            "Approximate number of lines: 211089\n",
            "Approximate number of words: 2027803\n"
          ]
        }
      ],
      "source": [
        " # Combine all text for statistics\n",
        "full_text = \"\\n\\n\".join([doc.page_content for doc in documents])\n",
        "\n",
        "# Display some statistics about the content\n",
        "lines = full_text.split('\\n')\n",
        "words = re.findall(r'\\w+', full_text)\n",
        "\n",
        "print(f\"\\nPDF loaded successfully with {len(documents)} pages and {len(full_text)} characters\")\n",
        "print(f\"Approximate number of lines: {len(lines)}\")\n",
        "print(f\"Approximate number of words: {len(words)}\")"
      ]
    },
    {
      "cell_type": "markdown",
      "metadata": {
        "id": "oK0ROk0MVpUv"
      },
      "source": [
        "### Data Chunking"
      ]
    },
    {
      "cell_type": "markdown",
      "metadata": {
        "id": "PK9isTuhrg2e"
      },
      "source": [
        "🎯 **Notion | Remember**\n",
        "\n",
        "Using `BAAI/bge-small-en-v1.5` (not an OpenAI model), the standard `RecursiveCharacterTextSplitter` would be more appropriate than the tiktoken version.\n",
        "\n",
        "Here's why:\n",
        "\n",
        "1. `RecursiveCharacterTextSplitter.from_tiktoken_encoder()` uses OpenAI's tokenization, which doesn't align with how BGE tokenizes text\n",
        "\n",
        "2. The tokenization mismatch could lead to suboptimal chunk boundaries for your embedding model\n",
        "\n",
        "3. The standard `RecursiveCharacterTextSplitter` with character-based chunking provides more consistent results across different embedding models\n",
        "\n",
        "4. For BGE models, character-based chunking with appropriate chunk size and overlap settings works well in practice\n",
        "\n",
        "\n",
        "This approach will be more aligned with your chosen embedding model and provide more consistent results.\n"
      ]
    },
    {
      "cell_type": "code",
      "execution_count": 41,
      "metadata": {
        "id": "bYFMGsD11WD9"
      },
      "outputs": [],
      "source": [
        "def create_chunks_from_documents(documents, chunk_size=512, chunk_overlap=50):\n",
        "    \"\"\"\n",
        "    Create chunks from documents using character-based splitting\n",
        "\n",
        "    Args:\n",
        "        documents: List of documents from PyMuPDFLoader\n",
        "        chunk_size: Size of chunks in characters\n",
        "        chunk_overlap: Number of characters to overlap between chunks\n",
        "\n",
        "    Returns:\n",
        "        List of chunked documents\n",
        "    \"\"\"\n",
        "    # Create a character-based splitter (better for non-OpenAI embedding models like BGE)\n",
        "    text_splitter = RecursiveCharacterTextSplitter(\n",
        "        chunk_size=chunk_size,\n",
        "        chunk_overlap=chunk_overlap,\n",
        "    )\n",
        "\n",
        "    # Split the documents into chunks\n",
        "    chunks = text_splitter.split_documents(documents)\n",
        "\n",
        "    print(f\"Created {len(chunks)} chunks from {len(documents)} pages\")\n",
        "    print(f\"Average chunk length: {sum(len(doc.page_content) for doc in chunks) / len(chunks):.2f} characters\")\n",
        "\n",
        "    return chunks"
      ]
    },
    {
      "cell_type": "code",
      "execution_count": 42,
      "metadata": {
        "id": "qTe71qAgVse-"
      },
      "outputs": [],
      "source": [
        "def preview_chunks(chunks, num_chunks=2):\n",
        "    \"\"\"\n",
        "    Preview a sample of the created chunks\n",
        "\n",
        "    Args:\n",
        "        chunks: List of document chunks\n",
        "        num_chunks: Number of chunks to preview\n",
        "    \"\"\"\n",
        "    print(f\"\\nPreviewing {min(num_chunks, len(chunks))} chunks out of {len(chunks)}:\")\n",
        "\n",
        "    for i in range(min(num_chunks, len(chunks))):\n",
        "        chunk = chunks[i]\n",
        "        print(f\"\\n--- Chunk {i+1} ---\")\n",
        "\n",
        "        # # Print metadata if available\n",
        "        # if hasattr(chunk, 'metadata') and chunk.metadata:\n",
        "        #     print(f\"Source: {chunk.metadata.get('source')}, Page: {chunk.metadata.get('page')}\")\n",
        "\n",
        "        # Print content preview\n",
        "        content = chunk.page_content\n",
        "        print(f\"Length: {len(content)} characters\")\n",
        "        print(f\"Content preview: {content[:150]}...\")"
      ]
    },
    {
      "cell_type": "code",
      "execution_count": 43,
      "metadata": {
        "colab": {
          "base_uri": "https://localhost:8080/"
        },
        "id": "7LRfvf6yW1IG",
        "outputId": "d32c4b75-71cc-448a-c872-507e90a62630"
      },
      "outputs": [
        {
          "output_type": "stream",
          "name": "stdout",
          "text": [
            "Created 31416 chunks from 4114 pages\n",
            "Average chunk length: 441.85 characters\n"
          ]
        }
      ],
      "source": [
        "chunks = create_chunks_from_documents(documents, chunk_size=512, chunk_overlap=50)"
      ]
    },
    {
      "cell_type": "code",
      "execution_count": 44,
      "metadata": {
        "colab": {
          "base_uri": "https://localhost:8080/"
        },
        "id": "6OMItQiPW3md",
        "outputId": "72fa093c-39bd-4791-cdaa-e463c64ba64d"
      },
      "outputs": [
        {
          "output_type": "stream",
          "name": "stdout",
          "text": [
            "\n",
            "Previewing 2 chunks out of 31416:\n",
            "\n",
            "--- Chunk 1 ---\n",
            "Length: 117 characters\n",
            "Content preview: nipunshah6776@gmail.com\n",
            "0W3XG8QC4A\n",
            "nt for personal use by nipunshah6776@\n",
            "shing the contents in part or full is liable...\n",
            "\n",
            "--- Chunk 2 ---\n",
            "Length: 182 characters\n",
            "Content preview: nipunshah6776@gmail.com\n",
            "0W3XG8QC4A\n",
            "This file is meant for personal use by nipunshah6776@gmail.com only.\n",
            "Sharing or publishing the contents in part or ...\n"
          ]
        }
      ],
      "source": [
        "preview_chunks(chunks)"
      ]
    },
    {
      "cell_type": "markdown",
      "metadata": {
        "id": "IHptmT_va-gX"
      },
      "source": [
        "### Embedding"
      ]
    },
    {
      "cell_type": "markdown",
      "metadata": {
        "id": "gJMeLqtb9nn8"
      },
      "source": [
        "Flow Summary:\n",
        "\n",
        "  1.  Create or Load Vector Store\n",
        "\n",
        "  2.  Retrieve Relevant Documents\n",
        "\n",
        "  3.  Generate RAG-based Answer"
      ]
    },
    {
      "cell_type": "code",
      "execution_count": 45,
      "metadata": {
        "id": "HAPQJw4gbBQj"
      },
      "outputs": [],
      "source": [
        "# ? For medical text retrieval specifically, BAAI/bge-small-en-v1.5 offers the best balance of speed and retrieval\n",
        "EMBEDDING_MODEL_NAME = \"BAAI/bge-small-en-v1.5\"\n",
        "STORE_PATH = \"faiss_index\""
      ]
    },
    {
      "cell_type": "code",
      "execution_count": 46,
      "metadata": {
        "id": "AivEk-_ca6xu"
      },
      "outputs": [],
      "source": [
        "def create_embedding_model(model_name, device=\"cuda\"):\n",
        "    \"\"\"\n",
        "    Create an embedding model using the specified model\n",
        "\n",
        "    Args:\n",
        "        model_name: Name of the HuggingFace model to use\n",
        "        device: Device to run the model on (\"cuda\" or \"cpu\")\n",
        "\n",
        "    Returns:\n",
        "        Configured embedding model\n",
        "    \"\"\"\n",
        "    # Check if CUDA is available when device is set to \"cuda\"\n",
        "    if device == \"cuda\" and not torch.cuda.is_available():\n",
        "        print(\"CUDA not available, falling back to CPU\")\n",
        "        device = \"cpu\"\n",
        "\n",
        "    # Configure the embedding model\n",
        "    model_kwargs = {'device': device}\n",
        "    encode_kwargs = {'normalize_embeddings': True}  # Normalize for cosine similarity\n",
        "\n",
        "    # Create the embedding model\n",
        "    embedding_model = HuggingFaceEmbeddings(\n",
        "        model_name=model_name,\n",
        "        model_kwargs=model_kwargs,\n",
        "        encode_kwargs=encode_kwargs\n",
        "    )\n",
        "\n",
        "    print(f\"Embedding model created: {model_name} on {device}\")\n",
        "    return embedding_model"
      ]
    },
    {
      "cell_type": "markdown",
      "metadata": {
        "id": "dbC2Sm6it3Bw"
      },
      "source": [
        "### Vector Database"
      ]
    },
    {
      "cell_type": "code",
      "execution_count": 57,
      "metadata": {
        "id": "mca7hwg-cubB"
      },
      "outputs": [],
      "source": [
        "def load_or_create_faiss_vectorstore(\n",
        "    chunks,\n",
        "    embedding_model,\n",
        "    persist_dir=STORE_PATH,\n",
        "):\n",
        "    \"\"\"\n",
        "    Create a FAISS vector store from chunks or load from disk if it exists\n",
        "\n",
        "    Args:\n",
        "        chunks: List of document chunks\n",
        "        embedding_model: The embedding model to use\n",
        "        persist_directory: Directory to save/load the FAISS index\n",
        "\n",
        "    Returns:\n",
        "        FAISS vector store\n",
        "    \"\"\"\n",
        "    index_path = os.path.join(persist_dir, \"index.faiss\")\n",
        "    metadata_path = os.path.join(persist_dir, \"index.pkl\")\n",
        "\n",
        "    # Load if already exists\n",
        "    if os.path.exists(index_path) and os.path.exists(metadata_path):\n",
        "        print(f\"Loading FAISS index from {persist_dir}\")\n",
        "\n",
        "        # ---\n",
        "        # ?? Why allow_dangerous_deserialization=True\n",
        "        # -> ref: https://stackoverflow.com/questions/78120202/the-de-serialization-relies-loading-a-pickle-file\n",
        "        # ---\n",
        "        # Load the existing index\n",
        "        vector_store = FAISS.load_local(persist_dir, embedding_model, allow_dangerous_deserialization=True)\n",
        "        print(f\"Loaded FAISS index with {vector_store.index.ntotal} vectors\")\n",
        "\n",
        "        return vector_store\n",
        "\n",
        "    # Create a new vector store if it doesn't exist\n",
        "    print(f\"Creating new FAISS index from documents at {persist_dir} ...\")\n",
        "    start_time = time.time()\n",
        "\n",
        "    # Create the vector store from documents\n",
        "    vector_store = FAISS.from_documents(chunks, embedding_model)\n",
        "\n",
        "    elapsed_time = time.time() - start_time\n",
        "    print(f\"FAISS index created in {elapsed_time:.2f} seconds\")\n",
        "    print(f\"Index contains {vector_store.index.ntotal} vectors of dimension {vector_store.index.d}\")\n",
        "\n",
        "    # Create the directory if it doesn't exist\n",
        "    os.makedirs(persist_dir, exist_ok=True)\n",
        "\n",
        "    # Save the index to disk\n",
        "    print(f\"Saving FAISS index to {persist_dir}\")\n",
        "    vector_store.save_local(persist_dir)\n",
        "\n",
        "    return vector_store"
      ]
    },
    {
      "cell_type": "code",
      "execution_count": 48,
      "metadata": {
        "id": "9hrH0j7mtWQV"
      },
      "outputs": [],
      "source": [
        "def print_faiss_store_info(store):\n",
        "    print(f\"Total documents: {len(store.docstore._dict)}\")\n",
        "    print(f\"Vector dimension: {store.index.d}\")\n",
        "    print(f\"Index type: {type(store.index).__name__}\")"
      ]
    },
    {
      "cell_type": "markdown",
      "metadata": {
        "id": "tomKLpq_uNiu"
      },
      "source": [
        "### Retriever"
      ]
    },
    {
      "cell_type": "code",
      "execution_count": 49,
      "metadata": {
        "id": "3WXoXeYlubJY"
      },
      "outputs": [],
      "source": [
        "def retrieve_from_faiss(vector_store, query, top_k=3):\n",
        "    \"\"\"\n",
        "    Retrieve the top_k most similar chunks for a given query\n",
        "\n",
        "    Args:\n",
        "        vector_store: FAISS vector store\n",
        "        query: Query string\n",
        "        k: Number of chunks to retrieve (default: 5)\n",
        "\n",
        "    Returns:\n",
        "        List of retrieved documents\n",
        "    \"\"\"\n",
        "    # Retrieve the top_k most similar documents and their scores\n",
        "    docs_and_scores = vector_store.similarity_search_with_score(query, k=top_k)\n",
        "\n",
        "    # # Separate documents and scores\n",
        "    # docs = [doc for doc, score in docs_and_scores]\n",
        "    # scores = [score for doc, score in docs_and_scores]\n",
        "\n",
        "    print(f\"Retrieved {len(docs_and_scores)} documents for query: '{query}'\")\n",
        "\n",
        "    docs = []\n",
        "\n",
        "    for i, (doc, score) in enumerate(docs_and_scores):\n",
        "        docs.append(doc)\n",
        "\n",
        "        print(f\"Rank {i+1}:\")\n",
        "        print(f\"Score: {score:.4f}\")\n",
        "\n",
        "        # # Print metadata if available\n",
        "        # if hasattr(doc, 'metadata') and doc.metadata:\n",
        "        #     source = doc.metadata.get('source', 'Unknown')\n",
        "        #     page = doc.metadata.get('page', 'Unknown')\n",
        "        #     print(f\"Source: {source}, Page: {page}\")\n",
        "\n",
        "        # Print content preview (documents are objects with page_content attribute)\n",
        "        content = doc.page_content\n",
        "        preview_length = min(200, len(content))\n",
        "        print(f\"Content: {content[:preview_length]}...\\n\")\n",
        "\n",
        "    return docs"
      ]
    },
    {
      "cell_type": "markdown",
      "metadata": {
        "id": "6BGPrx0JArpP"
      },
      "source": [
        "### System and User Prompt Template"
      ]
    },
    {
      "cell_type": "code",
      "execution_count": 50,
      "metadata": {
        "id": "3qHk079NAtVz"
      },
      "outputs": [],
      "source": [
        "RAG_DEFAULT_SYSTEM_MSG = \"\"\"You are a helpful medical assistant. Your task is to answer medical questions based solely on the provided context from the Merck Manual.\n",
        "\n",
        "Guidelines:\n",
        "- Answer ONLY based on the context provided.\n",
        "- If the context doesn't contain the answer, say \"I don't have enough information to answer this question\".\n",
        "- Be concise and accurate in your responses.\n",
        "- For medical conditions, include key information about symptoms, diagnosis, and treatment if available.\n",
        "- Do not fabricate information or use knowledge outside the provided context.\"\"\"\n",
        "# As for now we are not including metadata in user_message putting this below point aside !!\n",
        "# - If relevant and possible, specify which section of the Merck Manual the information comes from.\"\"\"\n"
      ]
    },
    {
      "cell_type": "code",
      "execution_count": 51,
      "metadata": {
        "id": "6OpzvmLuB-XK"
      },
      "outputs": [],
      "source": [
        "def create_user_message(query, retrieved_docs, include_metadata=False):\n",
        "    \"\"\"\n",
        "    Create the user message portion of the RAG prompt in Phi-3-mini format\n",
        "\n",
        "    Format\n",
        "    ```\n",
        "    Context:\n",
        "    {context}\n",
        "\n",
        "    Question:\n",
        "    ```\n",
        "\n",
        "    Args:\n",
        "        query: User's question\n",
        "        retrieved_docs: List of retrieved documents\n",
        "        num_docs: Number of documents to include\n",
        "\n",
        "    Returns:\n",
        "        (Formatted user message string with context first, then question,\n",
        "        context)\n",
        "\n",
        "    Example\n",
        "      ```\n",
        "      Context:\n",
        "\n",
        "      Document 1:\n",
        "      (Source: Merck Manual, Page: 45)\n",
        "      Content from document 1...\n",
        "\n",
        "      Document 2:\n",
        "      (Source: Merck Manual, Page: 50)\n",
        "      Content from document 2...\n",
        "\n",
        "      Question:\n",
        "      What is the treatment for condition X?\n",
        "      ```\n",
        "    \"\"\"\n",
        "    # Start with the instruction\n",
        "    user_message = \"Use the following context to answer the question.\\n\\nContext:\"\n",
        "\n",
        "    context_value = \"\"\n",
        "\n",
        "    # Add the most relevant documents to the context\n",
        "    for i, doc in enumerate(retrieved_docs):\n",
        "        # Add document content\n",
        "        context_value += f\"\\n\\nDocument {i+1}:\"\n",
        "\n",
        "        # Add metadata if available\n",
        "        if include_metadata and hasattr(doc, 'metadata') and doc.metadata:\n",
        "            source = doc.metadata.get('source', '')\n",
        "            page = doc.metadata.get('page', '')\n",
        "            if source or page:\n",
        "                context_value += f\" (Source: {source}, Page: {page})\"\n",
        "\n",
        "        # Add content\n",
        "        context_value += f\"\\n{doc.page_content}\"\n",
        "\n",
        "    user_message += context_value\n",
        "\n",
        "    # Add the question after the context\n",
        "    user_message += f\"\\n\\nQuestion:\\n{query}\"\n",
        "\n",
        "    return user_message, context_value"
      ]
    },
    {
      "cell_type": "code",
      "execution_count": 52,
      "metadata": {
        "id": "bvEGZ1QR_ZGz"
      },
      "outputs": [],
      "source": [
        "def create_phi3_rag_prompt(system_message, user_message):\n",
        "    \"\"\"\n",
        "    Create a RAG prompt specifically formatted for Phi-3-mini\n",
        "\n",
        "    Format:-\n",
        "    ```\n",
        "    <|system|>\n",
        "    You are a helpful and concise assistant. Answer based only on the provided context. If the context does not contain enough information, say \"I don't know.\"\n",
        "\n",
        "    <|user|>\n",
        "    Context:\n",
        "    {context}\n",
        "\n",
        "    Question:\n",
        "    {question}\n",
        "    <|assistant|>\n",
        "    ```\n",
        "\n",
        "    Args:\n",
        "        query: User's question\n",
        "        retrieved_docs: List of retrieved documents\n",
        "        num_docs: Number of documents to include in the prompt\n",
        "\n",
        "    Returns:\n",
        "        Formatted prompt string ready for Phi-3-mini\n",
        "    \"\"\"\n",
        "    # Phi-3-mini uses a specific format with <|system|>, <|user|>, and <|assistant|> tags\n",
        "    # Combine into Phi-3 format\n",
        "    # phi3_prompt = f\"<|system|>\\n{system_message}\\n<|user|>\\n{user_message}\\n<|assistant|>\"\n",
        "    # ..\n",
        "    phi3_prompt = (\n",
        "        f\"<|system|>\\n\"\n",
        "        f\"{system_message}\\n\\n\"\n",
        "        f\"<|user|>\\n\"\n",
        "        f\"{user_message}\\n\\n\"\n",
        "        f\"<|assistant|>\"\n",
        "    )\n",
        "\n",
        "    return phi3_prompt"
      ]
    },
    {
      "cell_type": "code",
      "execution_count": 53,
      "metadata": {
        "id": "U0bj6q7YH9I1"
      },
      "outputs": [],
      "source": [
        "def get_rag_response(query, vector_store, llm_model, llm_model_params=dict(), context_k=3, system_message=RAG_DEFAULT_SYSTEM_MSG):\n",
        "    \"\"\"\n",
        "    End-to-end RAG pipeline to answer medical questions\n",
        "\n",
        "    Args:\n",
        "        query: User's medical question\n",
        "        vector_store: FAISS vector store containing Merck Manual chunks\n",
        "        llm_model: The Phi-3-mini model object\n",
        "        llm_model_params: params such as temperature, top_k, .. dictonary to pass to llm model during inferencing\n",
        "        context_k: Number of relevant chunks to retrieve\n",
        "\n",
        "    Returns:\n",
        "        Generated (answer, context) from the LLM\n",
        "    \"\"\"\n",
        "    try:\n",
        "      print(f\"Processing question: '{query}'\")\n",
        "\n",
        "      # Step 1: Retrieve relevant documents\n",
        "      print(\"\\n i) Retrieving relevant documents ...\")\n",
        "      retrieved_docs = retrieve_from_faiss(vector_store, query, top_k=context_k)\n",
        "\n",
        "      # Step 2: Create user message\n",
        "      user_message, context_val = create_user_message(query, retrieved_docs)\n",
        "\n",
        "      # Step 3: Create RAG prompt\n",
        "      phi3_prompt = create_phi3_rag_prompt(system_message, user_message)\n",
        "\n",
        "      # Step 4: Generate answer using existing LLM function\n",
        "      print(\"\\n i) Generating answer ...\")\n",
        "      answer = get_response(phi3_prompt, llm_model, params=llm_model_params)\n",
        "\n",
        "      print(\"\\n--- Answer ---\")\n",
        "      print(f\"{answer[:125]}...\") # show only first 125 characters\n",
        "\n",
        "      return (answer, context_val)\n",
        "    except Exception as e:\n",
        "        # Catch any exception and print/log it\n",
        "        print(f\"Error occurred: {e}\")\n",
        "        return \"An error occurred while processing your question. Please try again later.\", \"N/A\"\n"
      ]
    },
    {
      "cell_type": "markdown",
      "metadata": {
        "id": "6BRPtw3FuWkP"
      },
      "source": [
        "### Configuration & Usage"
      ]
    },
    {
      "cell_type": "code",
      "execution_count": 54,
      "metadata": {
        "colab": {
          "base_uri": "https://localhost:8080/"
        },
        "id": "JxnTXq44XA8W",
        "outputId": "379af168-28ec-434e-be28-5ca6a2165353"
      },
      "outputs": [
        {
          "output_type": "stream",
          "name": "stdout",
          "text": [
            "4.40.2\n"
          ]
        }
      ],
      "source": [
        "import transformers\n",
        "print(transformers.__version__)"
      ]
    },
    {
      "cell_type": "code",
      "source": [
        "import numpy\n",
        "print(numpy.__version__)"
      ],
      "metadata": {
        "colab": {
          "base_uri": "https://localhost:8080/"
        },
        "id": "T9juLoq3RYqs",
        "outputId": "6564db92-1621-4100-ec07-6962a70f0fc2"
      },
      "execution_count": 55,
      "outputs": [
        {
          "output_type": "stream",
          "name": "stdout",
          "text": [
            "1.26.4\n"
          ]
        }
      ]
    },
    {
      "cell_type": "code",
      "source": [
        "# Intentionally kept this commented block so that in future if version ambiguity issue arise it can be tackled quickly refering htis block\n",
        "#!sudo rm -rf /usr/local/lib/python3.11/dist-packages/numpy*"
      ],
      "metadata": {
        "id": "O0i03NahG4TO"
      },
      "execution_count": null,
      "outputs": []
    },
    {
      "cell_type": "code",
      "execution_count": 58,
      "metadata": {
        "colab": {
          "base_uri": "https://localhost:8080/"
        },
        "id": "1QRmA_wvo8kD",
        "outputId": "7ae58624-0724-4950-8f50-43f3a566f5fb"
      },
      "outputs": [
        {
          "output_type": "stream",
          "name": "stdout",
          "text": [
            "Embedding model created: BAAI/bge-small-en-v1.5 on cuda\n",
            "Loading FAISS index from faiss_index\n",
            "Loaded FAISS index with 31416 vectors\n"
          ]
        }
      ],
      "source": [
        "# Configure embedding model\n",
        "embedding_model = create_embedding_model(EMBEDDING_MODEL_NAME)\n",
        "vector_store = load_or_create_faiss_vectorstore(chunks, embedding_model, persist_dir=STORE_PATH)"
      ]
    },
    {
      "cell_type": "code",
      "execution_count": 59,
      "metadata": {
        "colab": {
          "base_uri": "https://localhost:8080/"
        },
        "id": "7McNDCwxtaUJ",
        "outputId": "8643b2d4-a074-46e5-d818-608bc66ab739"
      },
      "outputs": [
        {
          "output_type": "stream",
          "name": "stdout",
          "text": [
            "Total documents: 31416\n",
            "Vector dimension: 384\n",
            "Index type: IndexFlatL2\n"
          ]
        }
      ],
      "source": [
        "# Show some meta info about store\n",
        "print_faiss_store_info(vector_store)"
      ]
    },
    {
      "cell_type": "markdown",
      "metadata": {
        "id": "v52STc51RnpD"
      },
      "source": [
        "## Question Answering using RAG"
      ]
    },
    {
      "cell_type": "markdown",
      "metadata": {
        "id": "MvwoYfP7QfkG"
      },
      "source": [
        "**Helper class that helps to hold rag tasks info** !!"
      ]
    },
    {
      "cell_type": "code",
      "execution_count": 60,
      "metadata": {
        "id": "N2woG0EWQfEP"
      },
      "outputs": [],
      "source": [
        "# Helper class\n",
        "\n",
        "class RAGMeta:\n",
        "    def __init__(self, num_questions):\n",
        "        # Initialize the list with a fixed size of `num_questions`, all set to None initially\n",
        "        self.meta = [None] * num_questions\n",
        "\n",
        "    def register(self, question_num, question, answer, context):\n",
        "        # Ensure the question_num is within bounds\n",
        "        if 0 <= question_num < len(self.meta):\n",
        "            # Register the information for the specified question number\n",
        "            self.meta[question_num] = (question, answer, context)\n",
        "        else:\n",
        "            raise IndexError(\"Question number is out of range\")\n",
        "\n",
        "    def get(self, question_num):\n",
        "        # Retrieve information for the given question number\n",
        "        if 0 <= question_num < len(self.meta):\n",
        "            return self.meta[question_num]\n",
        "        else:\n",
        "            return None  # If question_num doesn't exist yet\n",
        "\n",
        "    def get_all(self):\n",
        "        return list(self.meta)"
      ]
    },
    {
      "cell_type": "code",
      "execution_count": 61,
      "metadata": {
        "id": "8Zf9kuO1RxEj"
      },
      "outputs": [],
      "source": [
        "# For medical RAG applications with the Merck Manual, a `top_k` value of 3 - 5 is optimal\n",
        "TO_FETCH_DOC = 3 # from store"
      ]
    },
    {
      "cell_type": "code",
      "execution_count": 62,
      "metadata": {
        "id": "z-oeAbY8QY1Q"
      },
      "outputs": [],
      "source": [
        "rag_meta = RAGMeta(num_questions=5)"
      ]
    },
    {
      "cell_type": "code",
      "execution_count": 80,
      "metadata": {
        "id": "4NGfChUYWGYe"
      },
      "outputs": [],
      "source": [
        "def process_question_for_rag(i):\n",
        "  print(f'Process Question {i} initiated ---\\n')\n",
        "  (ans, ctxt) = get_rag_response(questions[i], vector_store, llm, llm_model_params={'max_tokens': 160}, context_k=TO_FETCH_DOC)\n",
        "  print('\\n ---- View ---')\n",
        "  display_response(questions[i], ans)\n",
        "  return (questions[i], ans, ctxt)"
      ]
    },
    {
      "cell_type": "markdown",
      "metadata": {
        "id": "C7X_ErBgR3XD"
      },
      "source": [
        "### Query 1: What is the protocol for managing sepsis in a critical care unit?"
      ]
    },
    {
      "cell_type": "code",
      "execution_count": 81,
      "metadata": {
        "colab": {
          "base_uri": "https://localhost:8080/"
        },
        "id": "ia76AsoER4GB",
        "outputId": "e39deccf-5f5c-4110-a7a0-48d3b87a3192"
      },
      "outputs": [
        {
          "output_type": "stream",
          "name": "stdout",
          "text": [
            "Process Question 0 initiated ---\n",
            "\n",
            "Processing question: 'What is the protocol for managing sepsis in a critical care unit?'\n",
            "\n",
            " i) Retrieving relevant documents ...\n",
            "Retrieved 3 documents for query: 'What is the protocol for managing sepsis in a critical care unit?'\n",
            "Rank 1:\n",
            "Score: 0.4486\n",
            "Content: septic shock is high (60 to 65%). Prognosis depends on the cause, preexisting or complicating illness,\n",
            "time between onset and diagnosis, and promptness and adequacy of therapy.\n",
            "General management: Fir...\n",
            "\n",
            "Rank 2:\n",
            "Score: 0.4610\n",
            "Content: • Replacement-dose corticosteroids\n",
            "Patients with septic shock should be treated in an ICU. The following should be monitored frequently (see\n",
            "also p. 2244): systemic pressure; CVP, PAOP, or both; pulse...\n",
            "\n",
            "Rank 3:\n",
            "Score: 0.4872\n",
            "Content: 16 - Critical Care Medicine\n",
            "Chapter 222. Approach to the Critically Ill Patient\n",
            "Introduction\n",
            "Critical care medicine specializes in caring for the most seriously ill patients. These patients are best\n",
            "t...\n",
            "\n",
            "\n",
            " i) Generating answer ...\n",
            "\n",
            "--- Answer ---\n",
            " In a critical care unit, the protocol for managing sepsis includes:\n",
            "\n",
            "1. ICU admission: Patients with septic shock should be ...\n",
            "\n",
            " ---- View ---\n",
            "\n",
            "================================================================================\n",
            "📋 QUESTION:\n",
            "--------------------------------------------------------------------------------\n",
            "What is the protocol for managing sepsis in a critical care unit?\n",
            "\n",
            "🩺 ANSWER:\n",
            "--------------------------------------------------------------------------------\n",
            " In a critical care unit, the protocol for managing sepsis includes:\n",
            "\n",
            "1. ICU admission: Patients with septic shock should be treated in an ICU.\n",
            "2. Frequent monitoring: Monitor systemic pressure (CVP, PAOP, or both), pulse oximetry, ABGs, blood glucose, lactate, and electrolyte levels, renal function, and sublingual PCO2.\n",
            "3. Monitoring urine output: Measure urine output, usually with an indwelling catheter, as it is a good indicator of renal perfusion.\n",
            "4. First aid: Keep the patient warm, control hemorrhage, check airway and ventilation,\n",
            "================================================================================\n"
          ]
        }
      ],
      "source": [
        "i = 0\n",
        "(que, ans, ctxt) = process_question_for_rag(i)\n",
        "rag_meta.register(i, que, ans, ctxt)"
      ]
    },
    {
      "cell_type": "markdown",
      "metadata": {
        "id": "yN83srREdffW"
      },
      "source": [
        "### Query 2: What are the common symptoms for appendicitis, and can it be cured via medicine? If not, what surgical procedure should be followed to treat it?"
      ]
    },
    {
      "cell_type": "code",
      "execution_count": 82,
      "metadata": {
        "colab": {
          "base_uri": "https://localhost:8080/"
        },
        "id": "camrSN2HcfMz",
        "outputId": "f9eab58d-1b89-40fd-a0b3-4ae5c1a18371"
      },
      "outputs": [
        {
          "output_type": "stream",
          "name": "stdout",
          "text": [
            "Process Question 1 initiated ---\n",
            "\n",
            "Processing question: 'What are the common symptoms of appendicitis, and can it be cured via medicine? If not, what surgical procedure should be followed to treat it?'\n",
            "\n",
            " i) Retrieving relevant documents ...\n",
            "Retrieved 3 documents for query: 'What are the common symptoms of appendicitis, and can it be cured via medicine? If not, what surgical procedure should be followed to treat it?'\n",
            "Rank 1:\n",
            "Score: 0.3843\n",
            "Content: ultrasound. Treatment is surgical removal.\n",
            "In the US, acute appendicitis is the most common cause of acute abdominal pain requiring surgery. Over\n",
            "5% of the population develops appendicitis at some poi...\n",
            "\n",
            "Rank 2:\n",
            "Score: 0.4427\n",
            "Content: appendectomy is inflammatory bowel disease involving the cecum. However, in cases of terminal ileitis\n",
            "and a normal cecum, the appendix should be removed.\n",
            "Appendectomy should be preceded by IV antibiot...\n",
            "\n",
            "Rank 3:\n",
            "Score: 0.4440\n",
            "Content: Symptoms and Signs\n",
            "The classic symptoms of acute appendicitis are epigastric or periumbilical pain followed by brief nausea,\n",
            "vomiting, and anorexia; after a few hours, the pain shifts to the right low...\n",
            "\n",
            "\n",
            " i) Generating answer ...\n",
            "\n",
            "--- Answer ---\n",
            " The common symptoms of appendicitis include epigastric or periumbilical pain, followed by brief nausea, vomiting, and anorex...\n",
            "\n",
            " ---- View ---\n",
            "\n",
            "================================================================================\n",
            "📋 QUESTION:\n",
            "--------------------------------------------------------------------------------\n",
            "What are the common symptoms of appendicitis, and can it be cured via medicine? If not, what surgical procedure should be followed to treat it?\n",
            "\n",
            "🩺 ANSWER:\n",
            "--------------------------------------------------------------------------------\n",
            " The common symptoms of appendicitis include epigastric or periumbilical pain, followed by brief nausea, vomiting, and anorexia. The pain typically shifts to the right lower quadrant after a few hours. Pain increases with cough and motion, and right lower quadrant direct and rebound tenderness is often present at McBurney's point.\n",
            "\n",
            "Appendicitis cannot be cured via medicine alone. The surgical procedure to treat appendicitis is called an appendectomy, which involves the removal of the appendix.\n",
            "\n",
            "\n",
            "Document 1:\n",
            "\n",
            "Treatment is surgical removal.\n",
            "\n",
            "Document 3:\n",
            "\n",
            "Symptoms and Signs\n",
            "\n",
            "The classic\n",
            "================================================================================\n"
          ]
        }
      ],
      "source": [
        "i = 1\n",
        "(que, ans, ctxt) = process_question_for_rag(i)\n",
        "rag_meta.register(i, que, ans, ctxt)"
      ]
    },
    {
      "cell_type": "markdown",
      "metadata": {
        "id": "Ow8wJ8EldkIo"
      },
      "source": [
        "### Query 3: What are the effective treatments or solutions for addressing sudden patchy hair loss, commonly seen as localized bald spots on the scalp, and what could be the possible causes behind it?"
      ]
    },
    {
      "cell_type": "code",
      "execution_count": 83,
      "metadata": {
        "colab": {
          "base_uri": "https://localhost:8080/"
        },
        "id": "EcttSV3_ec11",
        "outputId": "6b21689d-0f90-446c-db32-79f948d2439f"
      },
      "outputs": [
        {
          "output_type": "stream",
          "name": "stdout",
          "text": [
            "Process Question 2 initiated ---\n",
            "\n",
            "Processing question: 'What are the effective treatments or solutions for addressing sudden patchy hair loss, commonly seen as localized bald spots on the scalp, and what could be the possible causes behind it?'\n",
            "\n",
            " i) Retrieving relevant documents ...\n",
            "Retrieved 3 documents for query: 'What are the effective treatments or solutions for addressing sudden patchy hair loss, commonly seen as localized bald spots on the scalp, and what could be the possible causes behind it?'\n",
            "Rank 1:\n",
            "Score: 0.4546\n",
            "Content: been subjected to scientific scrutiny, but patients who are self-conscious about their hair loss may\n",
            "consider them.\n",
            "Hair loss due to other causes: Underlying disorders are treated.\n",
            "Multiple treatment ...\n",
            "\n",
            "Rank 2:\n",
            "Score: 0.4619\n",
            "Content: Alopecia Areata\n",
            "Alopecia areata is sudden patchy hair loss in people with no obvious skin or systemic disorder.\n",
            "The scalp and beard are most frequently affected, but any hairy area may be involved. Ha...\n",
            "\n",
            "Rank 3:\n",
            "Score: 0.5282\n",
            "Content: Abnormalities of the hair shafts should be noted.\n",
            "A full skin examination should be done to evaluate hair loss elsewhere on the body (eg, eyebrows,\n",
            "eyelashes, arms, legs), rashes that may be associate...\n",
            "\n",
            "\n",
            " i) Generating answer ...\n",
            "\n",
            "--- Answer ---\n",
            " Sudden patchy hair loss, commonly seen as localized bald spots on the scalp, is referred to as Alopecia Areata. The possible...\n",
            "\n",
            " ---- View ---\n",
            "\n",
            "================================================================================\n",
            "📋 QUESTION:\n",
            "--------------------------------------------------------------------------------\n",
            "What are the effective treatments or solutions for addressing sudden patchy hair loss, commonly seen as localized bald spots on the scalp, and what could be the possible causes behind it?\n",
            "\n",
            "🩺 ANSWER:\n",
            "--------------------------------------------------------------------------------\n",
            " Sudden patchy hair loss, commonly seen as localized bald spots on the scalp, is referred to as Alopecia Areata. The possible causes behind it include an autoimmune disorder affecting genetically susceptible people exposed to unclear environmental triggers.\n",
            "\n",
            "Effective treatments for Alopecia Areata include:\n",
            "\n",
            "1. Topical treatments: Topical minoxidil, topical anthralin, topical immunotherapy (diphencyprone or squaric acid dibutylester).\n",
            "2. Systemic treatments: In severe cases, systemic corticosteroids may be used.\n",
            "3. Other options: Psoralen plus ultraviolet A (PUVA) therapy.\n",
            "================================================================================\n"
          ]
        }
      ],
      "source": [
        "i = 2\n",
        "(que, ans, ctxt) = process_question_for_rag(i)\n",
        "rag_meta.register(i, que, ans, ctxt)"
      ]
    },
    {
      "cell_type": "markdown",
      "metadata": {
        "id": "MO2DOQlcdnUF"
      },
      "source": [
        "### Query 4:  What treatments are recommended for a person who has sustained a physical injury to brain tissue, resulting in temporary or permanent impairment of brain function?"
      ]
    },
    {
      "cell_type": "code",
      "execution_count": 84,
      "metadata": {
        "colab": {
          "base_uri": "https://localhost:8080/"
        },
        "id": "bceu6BLYfTVy",
        "outputId": "2e1fe685-c79c-43a2-9a59-3c27ad1d4902"
      },
      "outputs": [
        {
          "output_type": "stream",
          "name": "stdout",
          "text": [
            "Process Question 3 initiated ---\n",
            "\n",
            "Processing question: 'What treatments are recommended for a person who has sustained a physical injury to brain tissue, resulting in temporary or permanent impairment of brain function?'\n",
            "\n",
            " i) Retrieving relevant documents ...\n",
            "Retrieved 3 documents for query: 'What treatments are recommended for a person who has sustained a physical injury to brain tissue, resulting in temporary or permanent impairment of brain function?'\n",
            "Rank 1:\n",
            "Score: 0.5158\n",
            "Content: usually requires laboratory tests and neuroimaging. Treatment is immediate stabilization and\n",
            "specific management of the cause. For long-term coma, adjunctive treatment includes passive\n",
            "range-of-motion...\n",
            "\n",
            "Rank 2:\n",
            "Score: 0.5197\n",
            "Content: prolonged period of rehabilitation, particularly in cognitive and emotional areas, is often required.\n",
            "Rehabilitation services should be planned early.\n",
            "The Merck Manual of Diagnosis & Therapy, 19th Edi...\n",
            "\n",
            "Rank 3:\n",
            "Score: 0.5254\n",
            "Content: and other CNS-active drugs may also be used for chronic or neuropathic pain and are first-line therapy\n",
            "for some conditions. Neuraxial infusion, nerve stimulation, injection therapies, and neural block...\n",
            "\n",
            "\n",
            " i) Generating answer ...\n",
            "\n",
            "--- Answer ---\n",
            " For a person who has sustained a physical injury to brain tissue resulting in temporary or permanent impairment of brain fun...\n",
            "\n",
            " ---- View ---\n",
            "\n",
            "================================================================================\n",
            "📋 QUESTION:\n",
            "--------------------------------------------------------------------------------\n",
            "What treatments are recommended for a person who has sustained a physical injury to brain tissue, resulting in temporary or permanent impairment of brain function?\n",
            "\n",
            "🩺 ANSWER:\n",
            "--------------------------------------------------------------------------------\n",
            " For a person who has sustained a physical injury to brain tissue resulting in temporary or permanent impairment of brain function, the recommended treatments include immediate stabilization and specific management of the cause. For long-term coma, adjunctive treatments such as passive range-of-motion exercises, enteral feedings, and measures to prevent pressure ulcers are recommended. Rehabilitation services should be planned early, particularly in cognitive and emotional areas. Additionally, CNS-active drugs, neuraxial infusion, nerve stimulation, injection therapies, and neural blockade may be used for selected patients. Cognitive-behavioral interventions, such as incremental gains in function, changes in relationships\n",
            "================================================================================\n"
          ]
        }
      ],
      "source": [
        "i = 3\n",
        "(que, ans, ctxt) = process_question_for_rag(i)\n",
        "rag_meta.register(i, que, ans, ctxt)"
      ]
    },
    {
      "cell_type": "markdown",
      "metadata": {
        "id": "WvYwlBspdrLm"
      },
      "source": [
        "### Query 5: What are the necessary precautions and treatment steps for a person who has fractured their leg during a hiking trip, and what should be considered for their care and recovery?"
      ]
    },
    {
      "cell_type": "code",
      "execution_count": 85,
      "metadata": {
        "colab": {
          "base_uri": "https://localhost:8080/"
        },
        "id": "HWcxNGUmgOO9",
        "outputId": "d9cad569-909d-4a3d-da1d-a36c03d61f92"
      },
      "outputs": [
        {
          "output_type": "stream",
          "name": "stdout",
          "text": [
            "Process Question 4 initiated ---\n",
            "\n",
            "Processing question: 'What are the necessary precautions and treatment steps for a person who has fractured their leg during a hiking trip, and what should be considered for their care and recovery?'\n",
            "\n",
            " i) Retrieving relevant documents ...\n",
            "Retrieved 3 documents for query: 'What are the necessary precautions and treatment steps for a person who has fractured their leg during a hiking trip, and what should be considered for their care and recovery?'\n",
            "Rank 1:\n",
            "Score: 0.6089\n",
            "Content: Care of the stump and prosthesis: Patients must learn to care for their stump. Because a leg\n",
            "prosthesis is intended only for ambulation, patients should remove it before going to sleep. At bedtime,\n",
            "th...\n",
            "\n",
            "Rank 2:\n",
            "Score: 0.6244\n",
            "Content: unaffected leg. Patients who begin walking without the parallel bars may need physical assistance from\n",
            "and later close supervision by the therapist. Generally, patients use a cane or walker when first...\n",
            "\n",
            "Rank 3:\n",
            "Score: 0.6263\n",
            "Content: falls (see Table 313-3). Patients should also be advised on how to reduce risk due to situational factors.\n",
            "For example, footwear should have flat heels, some ankle support, and firm, nonskid midsoles....\n",
            "\n",
            "\n",
            " i) Generating answer ...\n",
            "\n",
            "--- Answer ---\n",
            " I don't have enough information to answer this question based on the provided context.\n",
            "\n",
            "Here is the context provided:\n",
            "\n",
            "Docum...\n",
            "\n",
            " ---- View ---\n",
            "\n",
            "================================================================================\n",
            "📋 QUESTION:\n",
            "--------------------------------------------------------------------------------\n",
            "What are the necessary precautions and treatment steps for a person who has fractured their leg during a hiking trip, and what should be considered for their care and recovery?\n",
            "\n",
            "🩺 ANSWER:\n",
            "--------------------------------------------------------------------------------\n",
            " I don't have enough information to answer this question based on the provided context.\n",
            "\n",
            "Here is the context provided:\n",
            "\n",
            "Document 1:\n",
            "Care of the stump and prosthesis: Patients must learn to care for their stump. Because a leg\n",
            "prosthesis is intended only for ambulation, patients should remove it before going to sleep. At bedtime,\n",
            "the stump should be inspected thoroughly (with a mirror if inspected by the patient), washed with mild\n",
            "soap and warm water, dried thoroughly, then dusted with talcum powder. Patients should treat the\n",
            "following possible problems:\n",
            "\n",
            "Document 2:\n",
            "unaffected leg. Patients who begin walking without the parallel bars may\n",
            "================================================================================\n"
          ]
        }
      ],
      "source": [
        "i = 4\n",
        "(que, ans, ctxt) = process_question_for_rag(i)\n",
        "rag_meta.register(i, que, ans, ctxt)"
      ]
    },
    {
      "cell_type": "markdown",
      "source": [
        "RAG NOTE 📌\n",
        "\n",
        "Retrieval-Augmented Generation (RAG) was employed using the Phi-3 Mini model with FAISS vector storage to provide context-grounded medical responses from the Merck Manual.\n",
        "\n",
        "- For our usecase, picked bge-small-en-v1.5 embedding model\n",
        "- Using simple `RecursiveCharacterTextSplitter` instead of `RecursiveCharacterTextSplitter.from_tiktoken_encoder()` is preferred, as embedding model is not specifically open-ai one.\n",
        "- Better preservation of semantic units\n",
        "- Chunks gets better aligned."
      ],
      "metadata": {
        "id": "-gDXNAGJI8nU"
      }
    },
    {
      "cell_type": "markdown",
      "metadata": {
        "id": "Zf2dTAmGVvpt"
      },
      "source": [
        "### **Fine-tuning**"
      ]
    },
    {
      "cell_type": "code",
      "execution_count": 64,
      "metadata": {
        "id": "UPen7s-iUprR"
      },
      "outputs": [],
      "source": [
        "# RAG parameter combinations for testing\n",
        "rag_parameter_combinations = [\n",
        "    {\n",
        "        \"max_tokens\": 150,\n",
        "        \"top_p\": 0.7,\n",
        "        \"context_k\": 3,\n",
        "        \"temperature\": 0.1,\n",
        "        \"desc\": \"Conservative sampling with focused context and low temperature for maximum factual accuracy\"\n",
        "    },\n",
        "    {\n",
        "        \"max_tokens\": 130,\n",
        "        \"top_p\": 0.9,\n",
        "        \"context_k\": 3,\n",
        "        \"temperature\": 0.2,\n",
        "        \"desc\": \"Wider token sampling but focused context with low temperature for balanced precision\"\n",
        "    },\n",
        "    {\n",
        "        \"max_tokens\": 140,\n",
        "        \"top_p\": 0.7,\n",
        "        \"context_k\": 5,\n",
        "        \"temperature\": 0.3,\n",
        "        \"desc\": \"Conservative sampling with focused context but higher temperature for more natural responses\"\n",
        "    },\n",
        "    {\n",
        "        \"max_tokens\": 125,\n",
        "        \"top_p\": 0.8,\n",
        "        \"context_k\": 5,\n",
        "        \"temperature\": 0.1,\n",
        "        \"desc\": \"Wider token sampling with expanded context but low temperature for comprehensive yet precise answers\"\n",
        "    },\n",
        "    {\n",
        "        \"max_tokens\": 150,\n",
        "        \"top_p\": 0.8,\n",
        "        \"context_k\": 3,\n",
        "        \"temperature\": 0.3,\n",
        "        \"desc\": \"Wider token sampling with expanded context and moderate temperature for detailed and varied responses\"\n",
        "    }\n",
        "]"
      ]
    },
    {
      "cell_type": "code",
      "execution_count": 68,
      "metadata": {
        "id": "tODnnBSpWBps"
      },
      "outputs": [],
      "source": [
        "def test_rag_combinations(question_index):\n",
        "  query = questions[question_index]\n",
        "  for i, e in enumerate(rag_parameter_combinations):\n",
        "    print(f\"============================= Picked combination #{i+1} ===============================\\n\")\n",
        "    (ans, _) = get_rag_response(query, vector_store, llm, llm_model_params=e, context_k=e['context_k'])\n",
        "    display_response(query, ans)\n",
        "    print('---\\n')"
      ]
    },
    {
      "cell_type": "markdown",
      "source": [
        "### Query 1: What is the protocol for managing sepsis in a critical care unit?"
      ],
      "metadata": {
        "id": "upAKYvvGL3Rx"
      }
    },
    {
      "cell_type": "code",
      "execution_count": 69,
      "metadata": {
        "colab": {
          "base_uri": "https://localhost:8080/"
        },
        "id": "0db7qIRPhbom",
        "outputId": "d45a15f6-2293-4375-8378-4c8361756d5a"
      },
      "outputs": [
        {
          "output_type": "stream",
          "name": "stdout",
          "text": [
            "============================= Picked combination #1 ===============================\n",
            "\n",
            "Processing question: 'What is the protocol for managing sepsis in a critical care unit?'\n",
            "\n",
            " i) Retrieving relevant documents ...\n",
            "Retrieved 3 documents for query: 'What is the protocol for managing sepsis in a critical care unit?'\n",
            "Rank 1:\n",
            "Score: 0.4486\n",
            "Content: septic shock is high (60 to 65%). Prognosis depends on the cause, preexisting or complicating illness,\n",
            "time between onset and diagnosis, and promptness and adequacy of therapy.\n",
            "General management: Fir...\n",
            "\n",
            "Rank 2:\n",
            "Score: 0.4610\n",
            "Content: • Replacement-dose corticosteroids\n",
            "Patients with septic shock should be treated in an ICU. The following should be monitored frequently (see\n",
            "also p. 2244): systemic pressure; CVP, PAOP, or both; pulse...\n",
            "\n",
            "Rank 3:\n",
            "Score: 0.4872\n",
            "Content: 16 - Critical Care Medicine\n",
            "Chapter 222. Approach to the Critically Ill Patient\n",
            "Introduction\n",
            "Critical care medicine specializes in caring for the most seriously ill patients. These patients are best\n",
            "t...\n",
            "\n",
            "\n",
            " i) Generating answer ...\n",
            "\n",
            "--- Answer ---\n",
            " In a critical care unit, the protocol for managing sepsis includes:\n",
            "\n",
            "1. Treatment in an ICU: Patients with septic shock shou...\n",
            "\n",
            "================================================================================\n",
            "📋 QUESTION:\n",
            "--------------------------------------------------------------------------------\n",
            "What is the protocol for managing sepsis in a critical care unit?\n",
            "\n",
            "🩺 ANSWER:\n",
            "--------------------------------------------------------------------------------\n",
            " In a critical care unit, the protocol for managing sepsis includes:\n",
            "\n",
            "1. Treatment in an ICU: Patients with septic shock should be treated in an ICU staffed by experienced personnel.\n",
            "2. Monitoring: Frequent monitoring of systemic pressure (CVP, PAOP, or both), pulse oximetry, ABGs, blood glucose, lactate, and electrolyte levels, renal function, and sublingual PCO2.\n",
            "3. Urine output measurement: A good indicator of renal perfusion should be measured, usually with an indwelling catheter.\n",
            "4. General management: First aid involves keeping the patient\n",
            "================================================================================\n",
            "---\n",
            "\n",
            "============================= Picked combination #2 ===============================\n",
            "\n",
            "Processing question: 'What is the protocol for managing sepsis in a critical care unit?'\n",
            "\n",
            " i) Retrieving relevant documents ...\n",
            "Retrieved 3 documents for query: 'What is the protocol for managing sepsis in a critical care unit?'\n",
            "Rank 1:\n",
            "Score: 0.4486\n",
            "Content: septic shock is high (60 to 65%). Prognosis depends on the cause, preexisting or complicating illness,\n",
            "time between onset and diagnosis, and promptness and adequacy of therapy.\n",
            "General management: Fir...\n",
            "\n",
            "Rank 2:\n",
            "Score: 0.4610\n",
            "Content: • Replacement-dose corticosteroids\n",
            "Patients with septic shock should be treated in an ICU. The following should be monitored frequently (see\n",
            "also p. 2244): systemic pressure; CVP, PAOP, or both; pulse...\n",
            "\n",
            "Rank 3:\n",
            "Score: 0.4872\n",
            "Content: 16 - Critical Care Medicine\n",
            "Chapter 222. Approach to the Critically Ill Patient\n",
            "Introduction\n",
            "Critical care medicine specializes in caring for the most seriously ill patients. These patients are best\n",
            "t...\n",
            "\n",
            "\n",
            " i) Generating answer ...\n",
            "\n",
            "--- Answer ---\n",
            " In a critical care unit, the protocol for managing sepsis includes:\n",
            "\n",
            "1. Prompt diagnosis and treatment: Prognosis depends on...\n",
            "\n",
            "================================================================================\n",
            "📋 QUESTION:\n",
            "--------------------------------------------------------------------------------\n",
            "What is the protocol for managing sepsis in a critical care unit?\n",
            "\n",
            "🩺 ANSWER:\n",
            "--------------------------------------------------------------------------------\n",
            " In a critical care unit, the protocol for managing sepsis includes:\n",
            "\n",
            "1. Prompt diagnosis and treatment: Prognosis depends on the cause, preexisting or complicating illness, time between onset and diagnosis, and promptness and adequacy of therapy.\n",
            "\n",
            "2. General management: First aid involves keeping the patient warm, controlling hemorrhage, checking airway and ventilation, and providing respiratory assistance if necessary. The patient's head is turned to one side to avoid aspiration if emesis occurs.\n",
            "\n",
            "3. ICU care: Pat\n",
            "================================================================================\n",
            "---\n",
            "\n",
            "============================= Picked combination #3 ===============================\n",
            "\n",
            "Processing question: 'What is the protocol for managing sepsis in a critical care unit?'\n",
            "\n",
            " i) Retrieving relevant documents ...\n",
            "Retrieved 5 documents for query: 'What is the protocol for managing sepsis in a critical care unit?'\n",
            "Rank 1:\n",
            "Score: 0.4486\n",
            "Content: septic shock is high (60 to 65%). Prognosis depends on the cause, preexisting or complicating illness,\n",
            "time between onset and diagnosis, and promptness and adequacy of therapy.\n",
            "General management: Fir...\n",
            "\n",
            "Rank 2:\n",
            "Score: 0.4610\n",
            "Content: • Replacement-dose corticosteroids\n",
            "Patients with septic shock should be treated in an ICU. The following should be monitored frequently (see\n",
            "also p. 2244): systemic pressure; CVP, PAOP, or both; pulse...\n",
            "\n",
            "Rank 3:\n",
            "Score: 0.4872\n",
            "Content: 16 - Critical Care Medicine\n",
            "Chapter 222. Approach to the Critically Ill Patient\n",
            "Introduction\n",
            "Critical care medicine specializes in caring for the most seriously ill patients. These patients are best\n",
            "t...\n",
            "\n",
            "Rank 4:\n",
            "Score: 0.5006\n",
            "Content: be evaluated for infection by history, physical examination, and tests, including urinalysis and urine culture\n",
            "(particularly in patients who have indwelling catheters), serial blood cultures, and cult...\n",
            "\n",
            "Rank 5:\n",
            "Score: 0.5075\n",
            "Content: 2391\n",
            "16 - Critical Care Medicine    .................................................................................................................................................\n",
            "2391\n",
            "Chapter 222. ...\n",
            "\n",
            "\n",
            " i) Generating answer ...\n",
            "\n",
            "--- Answer ---\n",
            " In a critical care unit, the protocol for managing sepsis involves:\n",
            "\n",
            "1. Prompt diagnosis: Evaluate for infection using histo...\n",
            "\n",
            "================================================================================\n",
            "📋 QUESTION:\n",
            "--------------------------------------------------------------------------------\n",
            "What is the protocol for managing sepsis in a critical care unit?\n",
            "\n",
            "🩺 ANSWER:\n",
            "--------------------------------------------------------------------------------\n",
            " In a critical care unit, the protocol for managing sepsis involves:\n",
            "\n",
            "1. Prompt diagnosis: Evaluate for infection using history, physical examination, and tests such as urinalysis, urine culture, and cultures of other suspect body fluids.\n",
            "\n",
            "2. Monitoring: Frequently monitor systemic pressure, CVP, PAOP, pulse oximetry, ABGs, blood glucose, lactate, and electrolyte levels, renal function, and sublingual PCO2.\n",
            "\n",
            "3. Treatment: Administer replacement-dose corticosteroids and provide\n",
            "================================================================================\n",
            "---\n",
            "\n",
            "============================= Picked combination #4 ===============================\n",
            "\n",
            "Processing question: 'What is the protocol for managing sepsis in a critical care unit?'\n",
            "\n",
            " i) Retrieving relevant documents ...\n",
            "Retrieved 5 documents for query: 'What is the protocol for managing sepsis in a critical care unit?'\n",
            "Rank 1:\n",
            "Score: 0.4486\n",
            "Content: septic shock is high (60 to 65%). Prognosis depends on the cause, preexisting or complicating illness,\n",
            "time between onset and diagnosis, and promptness and adequacy of therapy.\n",
            "General management: Fir...\n",
            "\n",
            "Rank 2:\n",
            "Score: 0.4610\n",
            "Content: • Replacement-dose corticosteroids\n",
            "Patients with septic shock should be treated in an ICU. The following should be monitored frequently (see\n",
            "also p. 2244): systemic pressure; CVP, PAOP, or both; pulse...\n",
            "\n",
            "Rank 3:\n",
            "Score: 0.4872\n",
            "Content: 16 - Critical Care Medicine\n",
            "Chapter 222. Approach to the Critically Ill Patient\n",
            "Introduction\n",
            "Critical care medicine specializes in caring for the most seriously ill patients. These patients are best\n",
            "t...\n",
            "\n",
            "Rank 4:\n",
            "Score: 0.5006\n",
            "Content: be evaluated for infection by history, physical examination, and tests, including urinalysis and urine culture\n",
            "(particularly in patients who have indwelling catheters), serial blood cultures, and cult...\n",
            "\n",
            "Rank 5:\n",
            "Score: 0.5075\n",
            "Content: 2391\n",
            "16 - Critical Care Medicine    .................................................................................................................................................\n",
            "2391\n",
            "Chapter 222. ...\n",
            "\n",
            "\n",
            " i) Generating answer ...\n",
            "\n",
            "--- Answer ---\n",
            " In a critical care unit, the protocol for managing sepsis includes:\n",
            "\n",
            "1. Prompt diagnosis: Evaluate for infection using histo...\n",
            "\n",
            "================================================================================\n",
            "📋 QUESTION:\n",
            "--------------------------------------------------------------------------------\n",
            "What is the protocol for managing sepsis in a critical care unit?\n",
            "\n",
            "🩺 ANSWER:\n",
            "--------------------------------------------------------------------------------\n",
            " In a critical care unit, the protocol for managing sepsis includes:\n",
            "\n",
            "1. Prompt diagnosis: Evaluate for infection using history, physical examination, and tests such as urinalysis, urine culture, and cultures of other suspect body fluids.\n",
            "\n",
            "2. Monitoring: Frequently monitor systemic pressure, CVP, PAOP, or both, pulse oximetry, ABGs, blood glucose, lactate, and electrolyte levels, renal function, and sublingual PCO2.\n",
            "\n",
            "3\n",
            "================================================================================\n",
            "---\n",
            "\n",
            "============================= Picked combination #5 ===============================\n",
            "\n",
            "Processing question: 'What is the protocol for managing sepsis in a critical care unit?'\n",
            "\n",
            " i) Retrieving relevant documents ...\n",
            "Retrieved 3 documents for query: 'What is the protocol for managing sepsis in a critical care unit?'\n",
            "Rank 1:\n",
            "Score: 0.4486\n",
            "Content: septic shock is high (60 to 65%). Prognosis depends on the cause, preexisting or complicating illness,\n",
            "time between onset and diagnosis, and promptness and adequacy of therapy.\n",
            "General management: Fir...\n",
            "\n",
            "Rank 2:\n",
            "Score: 0.4610\n",
            "Content: • Replacement-dose corticosteroids\n",
            "Patients with septic shock should be treated in an ICU. The following should be monitored frequently (see\n",
            "also p. 2244): systemic pressure; CVP, PAOP, or both; pulse...\n",
            "\n",
            "Rank 3:\n",
            "Score: 0.4872\n",
            "Content: 16 - Critical Care Medicine\n",
            "Chapter 222. Approach to the Critically Ill Patient\n",
            "Introduction\n",
            "Critical care medicine specializes in caring for the most seriously ill patients. These patients are best\n",
            "t...\n",
            "\n",
            "\n",
            " i) Generating answer ...\n",
            "\n",
            "--- Answer ---\n",
            " In a critical care unit, the protocol for managing sepsis includes:\n",
            "\n",
            "1. ICU admission: Patients with septic shock should be ...\n",
            "\n",
            "================================================================================\n",
            "📋 QUESTION:\n",
            "--------------------------------------------------------------------------------\n",
            "What is the protocol for managing sepsis in a critical care unit?\n",
            "\n",
            "🩺 ANSWER:\n",
            "--------------------------------------------------------------------------------\n",
            " In a critical care unit, the protocol for managing sepsis includes:\n",
            "\n",
            "1. ICU admission: Patients with septic shock should be treated in an ICU.\n",
            "2. Monitoring: Frequent monitoring of systemic pressure (CVP, PAOP, or both), pulse oximetry, ABGs, blood glucose, lactate, and electrolyte levels, renal function, and sublingual PCO2.\n",
            "3. Urine output measurement: Urine output, measured usually with an indwelling catheter, is a good indicator of renal perfusion.\n",
            "4. General management: First aid involves keeping the patient warm, controlling hem\n",
            "================================================================================\n",
            "---\n",
            "\n"
          ]
        }
      ],
      "source": [
        "test_rag_combinations(0)"
      ]
    },
    {
      "cell_type": "markdown",
      "source": [
        "### Query 2: What are the common symptoms for appendicitis, and can it be cured via medicine? If not, what surgical procedure should be followed to treat it?"
      ],
      "metadata": {
        "id": "hkDmKhoML_2c"
      }
    },
    {
      "cell_type": "code",
      "source": [
        "test_rag_combinations(1)"
      ],
      "metadata": {
        "colab": {
          "base_uri": "https://localhost:8080/"
        },
        "id": "UdFNV4p7VxhO",
        "outputId": "9c797530-e674-4b9d-a597-fddfd185d77d"
      },
      "execution_count": 70,
      "outputs": [
        {
          "output_type": "stream",
          "name": "stdout",
          "text": [
            "============================= Picked combination #1 ===============================\n",
            "\n",
            "Processing question: 'What are the common symptoms of appendicitis, and can it be cured via medicine? If not, what surgical procedure should be followed to treat it?'\n",
            "\n",
            " i) Retrieving relevant documents ...\n",
            "Retrieved 3 documents for query: 'What are the common symptoms of appendicitis, and can it be cured via medicine? If not, what surgical procedure should be followed to treat it?'\n",
            "Rank 1:\n",
            "Score: 0.3843\n",
            "Content: ultrasound. Treatment is surgical removal.\n",
            "In the US, acute appendicitis is the most common cause of acute abdominal pain requiring surgery. Over\n",
            "5% of the population develops appendicitis at some poi...\n",
            "\n",
            "Rank 2:\n",
            "Score: 0.4427\n",
            "Content: appendectomy is inflammatory bowel disease involving the cecum. However, in cases of terminal ileitis\n",
            "and a normal cecum, the appendix should be removed.\n",
            "Appendectomy should be preceded by IV antibiot...\n",
            "\n",
            "Rank 3:\n",
            "Score: 0.4440\n",
            "Content: Symptoms and Signs\n",
            "The classic symptoms of acute appendicitis are epigastric or periumbilical pain followed by brief nausea,\n",
            "vomiting, and anorexia; after a few hours, the pain shifts to the right low...\n",
            "\n",
            "\n",
            " i) Generating answer ...\n",
            "\n",
            "--- Answer ---\n",
            " The common symptoms of appendicitis include epigastric or periumbilical pain followed by brief nausea, vomiting, and anorexi...\n",
            "\n",
            "================================================================================\n",
            "📋 QUESTION:\n",
            "--------------------------------------------------------------------------------\n",
            "What are the common symptoms of appendicitis, and can it be cured via medicine? If not, what surgical procedure should be followed to treat it?\n",
            "\n",
            "🩺 ANSWER:\n",
            "--------------------------------------------------------------------------------\n",
            " The common symptoms of appendicitis include epigastric or periumbilical pain followed by brief nausea, vomiting, and anorexia. After a few hours, the pain shifts to the right lower quadrant. Pain increases with cough and motion.\n",
            "\n",
            "Appendicitis cannot be cured via medicine alone. The surgical procedure to treat it is called an appendectomy, which involves the surgical removal of the appendix.\n",
            "\n",
            "\n",
            "Document 3:\n",
            "Symptoms and Signs\n",
            "The classic symptoms of acute appendicitis are epigastric or periumbilical pain followed by brief nausea,\n",
            "vomiting, and anore\n",
            "================================================================================\n",
            "---\n",
            "\n",
            "============================= Picked combination #2 ===============================\n",
            "\n",
            "Processing question: 'What are the common symptoms of appendicitis, and can it be cured via medicine? If not, what surgical procedure should be followed to treat it?'\n",
            "\n",
            " i) Retrieving relevant documents ...\n",
            "Retrieved 3 documents for query: 'What are the common symptoms of appendicitis, and can it be cured via medicine? If not, what surgical procedure should be followed to treat it?'\n",
            "Rank 1:\n",
            "Score: 0.3843\n",
            "Content: ultrasound. Treatment is surgical removal.\n",
            "In the US, acute appendicitis is the most common cause of acute abdominal pain requiring surgery. Over\n",
            "5% of the population develops appendicitis at some poi...\n",
            "\n",
            "Rank 2:\n",
            "Score: 0.4427\n",
            "Content: appendectomy is inflammatory bowel disease involving the cecum. However, in cases of terminal ileitis\n",
            "and a normal cecum, the appendix should be removed.\n",
            "Appendectomy should be preceded by IV antibiot...\n",
            "\n",
            "Rank 3:\n",
            "Score: 0.4440\n",
            "Content: Symptoms and Signs\n",
            "The classic symptoms of acute appendicitis are epigastric or periumbilical pain followed by brief nausea,\n",
            "vomiting, and anorexia; after a few hours, the pain shifts to the right low...\n",
            "\n",
            "\n",
            " i) Generating answer ...\n",
            "\n",
            "--- Answer ---\n",
            " The common symptoms of appendicitis include epigastric or periumbilical pain, followed by brief nausea, vomiting, and anorex...\n",
            "\n",
            "================================================================================\n",
            "📋 QUESTION:\n",
            "--------------------------------------------------------------------------------\n",
            "What are the common symptoms of appendicitis, and can it be cured via medicine? If not, what surgical procedure should be followed to treat it?\n",
            "\n",
            "🩺 ANSWER:\n",
            "--------------------------------------------------------------------------------\n",
            " The common symptoms of appendicitis include epigastric or periumbilical pain, followed by brief nausea, vomiting, and anorexia. After a few hours, the pain shifts to the right lower quadrant. Pain increases with cough and motion.\n",
            "\n",
            "Appendicitis cannot be cured via medicine alone. The surgical procedure to treat appendicitis is called an appendectomy, which involves the surgical removal of the appendix.\n",
            "\n",
            "\n",
            "Document 3:\n",
            "Symptoms and Signs\n",
            "The classic symptoms of acute appendicitis are epig\n",
            "================================================================================\n",
            "---\n",
            "\n",
            "============================= Picked combination #3 ===============================\n",
            "\n",
            "Processing question: 'What are the common symptoms of appendicitis, and can it be cured via medicine? If not, what surgical procedure should be followed to treat it?'\n",
            "\n",
            " i) Retrieving relevant documents ...\n",
            "Retrieved 5 documents for query: 'What are the common symptoms of appendicitis, and can it be cured via medicine? If not, what surgical procedure should be followed to treat it?'\n",
            "Rank 1:\n",
            "Score: 0.3843\n",
            "Content: ultrasound. Treatment is surgical removal.\n",
            "In the US, acute appendicitis is the most common cause of acute abdominal pain requiring surgery. Over\n",
            "5% of the population develops appendicitis at some poi...\n",
            "\n",
            "Rank 2:\n",
            "Score: 0.4427\n",
            "Content: appendectomy is inflammatory bowel disease involving the cecum. However, in cases of terminal ileitis\n",
            "and a normal cecum, the appendix should be removed.\n",
            "Appendectomy should be preceded by IV antibiot...\n",
            "\n",
            "Rank 3:\n",
            "Score: 0.4440\n",
            "Content: Symptoms and Signs\n",
            "The classic symptoms of acute appendicitis are epigastric or periumbilical pain followed by brief nausea,\n",
            "vomiting, and anorexia; after a few hours, the pain shifts to the right low...\n",
            "\n",
            "Rank 4:\n",
            "Score: 0.4447\n",
            "Content: Etiology\n",
            "Appendicitis is thought to result from obstruction of the appendiceal lumen, typically by lymphoid\n",
            "hyperplasia, but occasionally by a fecalith, foreign body, or even worms. The obstruction le...\n",
            "\n",
            "Rank 5:\n",
            "Score: 0.4535\n",
            "Content: monitored with a catheter. Fluid status is maintained by adequate IV fluid and electrolyte replacement. IV\n",
            "antibiotics effective against intestinal flora should be given (eg, cefotetan 1 to 2 g bid, o...\n",
            "\n",
            "\n",
            " i) Generating answer ...\n",
            "\n",
            "--- Answer ---\n",
            " Common symptoms of appendicitis include epigastric or periumbilical pain followed by brief nausea, vomiting, and anorexia. A...\n",
            "\n",
            "================================================================================\n",
            "📋 QUESTION:\n",
            "--------------------------------------------------------------------------------\n",
            "What are the common symptoms of appendicitis, and can it be cured via medicine? If not, what surgical procedure should be followed to treat it?\n",
            "\n",
            "🩺 ANSWER:\n",
            "--------------------------------------------------------------------------------\n",
            " Common symptoms of appendicitis include epigastric or periumbilical pain followed by brief nausea, vomiting, and anorexia. After a few hours, the pain shifts to the right lower quadrant. Pain increases with cough and motion. The condition cannot be cured via medicine; the surgical procedure that should be followed to treat appendicitis is an appendectomy.\n",
            "\n",
            "\n",
            "Document 3 and Document 5 provide relevant information to answer the question.\n",
            "================================================================================\n",
            "---\n",
            "\n",
            "============================= Picked combination #4 ===============================\n",
            "\n",
            "Processing question: 'What are the common symptoms of appendicitis, and can it be cured via medicine? If not, what surgical procedure should be followed to treat it?'\n",
            "\n",
            " i) Retrieving relevant documents ...\n",
            "Retrieved 5 documents for query: 'What are the common symptoms of appendicitis, and can it be cured via medicine? If not, what surgical procedure should be followed to treat it?'\n",
            "Rank 1:\n",
            "Score: 0.3843\n",
            "Content: ultrasound. Treatment is surgical removal.\n",
            "In the US, acute appendicitis is the most common cause of acute abdominal pain requiring surgery. Over\n",
            "5% of the population develops appendicitis at some poi...\n",
            "\n",
            "Rank 2:\n",
            "Score: 0.4427\n",
            "Content: appendectomy is inflammatory bowel disease involving the cecum. However, in cases of terminal ileitis\n",
            "and a normal cecum, the appendix should be removed.\n",
            "Appendectomy should be preceded by IV antibiot...\n",
            "\n",
            "Rank 3:\n",
            "Score: 0.4440\n",
            "Content: Symptoms and Signs\n",
            "The classic symptoms of acute appendicitis are epigastric or periumbilical pain followed by brief nausea,\n",
            "vomiting, and anorexia; after a few hours, the pain shifts to the right low...\n",
            "\n",
            "Rank 4:\n",
            "Score: 0.4447\n",
            "Content: Etiology\n",
            "Appendicitis is thought to result from obstruction of the appendiceal lumen, typically by lymphoid\n",
            "hyperplasia, but occasionally by a fecalith, foreign body, or even worms. The obstruction le...\n",
            "\n",
            "Rank 5:\n",
            "Score: 0.4535\n",
            "Content: monitored with a catheter. Fluid status is maintained by adequate IV fluid and electrolyte replacement. IV\n",
            "antibiotics effective against intestinal flora should be given (eg, cefotetan 1 to 2 g bid, o...\n",
            "\n",
            "\n",
            " i) Generating answer ...\n",
            "\n",
            "--- Answer ---\n",
            " The common symptoms of appendicitis include epigastric or periumbilical pain followed by brief nausea, vomiting, and anorexi...\n",
            "\n",
            "================================================================================\n",
            "📋 QUESTION:\n",
            "--------------------------------------------------------------------------------\n",
            "What are the common symptoms of appendicitis, and can it be cured via medicine? If not, what surgical procedure should be followed to treat it?\n",
            "\n",
            "🩺 ANSWER:\n",
            "--------------------------------------------------------------------------------\n",
            " The common symptoms of appendicitis include epigastric or periumbilical pain followed by brief nausea, vomiting, and anorexia. After a few hours, the pain shifts to the right lower quadrant. Pain increases with cough and motion.\n",
            "\n",
            "Appendicitis cannot be cured via medicine. The surgical procedure that should be followed to treat it is an appendectomy, which is the surgical removal of the appendix.\n",
            "\n",
            "\n",
            "Document 3:\n",
            "Symptoms and Signs\n",
            "The classic symptoms of acute appendic\n",
            "================================================================================\n",
            "---\n",
            "\n",
            "============================= Picked combination #5 ===============================\n",
            "\n",
            "Processing question: 'What are the common symptoms of appendicitis, and can it be cured via medicine? If not, what surgical procedure should be followed to treat it?'\n",
            "\n",
            " i) Retrieving relevant documents ...\n",
            "Retrieved 3 documents for query: 'What are the common symptoms of appendicitis, and can it be cured via medicine? If not, what surgical procedure should be followed to treat it?'\n",
            "Rank 1:\n",
            "Score: 0.3843\n",
            "Content: ultrasound. Treatment is surgical removal.\n",
            "In the US, acute appendicitis is the most common cause of acute abdominal pain requiring surgery. Over\n",
            "5% of the population develops appendicitis at some poi...\n",
            "\n",
            "Rank 2:\n",
            "Score: 0.4427\n",
            "Content: appendectomy is inflammatory bowel disease involving the cecum. However, in cases of terminal ileitis\n",
            "and a normal cecum, the appendix should be removed.\n",
            "Appendectomy should be preceded by IV antibiot...\n",
            "\n",
            "Rank 3:\n",
            "Score: 0.4440\n",
            "Content: Symptoms and Signs\n",
            "The classic symptoms of acute appendicitis are epigastric or periumbilical pain followed by brief nausea,\n",
            "vomiting, and anorexia; after a few hours, the pain shifts to the right low...\n",
            "\n",
            "\n",
            " i) Generating answer ...\n",
            "\n",
            "--- Answer ---\n",
            " The common symptoms of appendicitis include epigastric or periumbilical pain followed by brief nausea, vomiting, and anorexi...\n",
            "\n",
            "================================================================================\n",
            "📋 QUESTION:\n",
            "--------------------------------------------------------------------------------\n",
            "What are the common symptoms of appendicitis, and can it be cured via medicine? If not, what surgical procedure should be followed to treat it?\n",
            "\n",
            "🩺 ANSWER:\n",
            "--------------------------------------------------------------------------------\n",
            " The common symptoms of appendicitis include epigastric or periumbilical pain followed by brief nausea, vomiting, and anorexia. After a few hours, the pain shifts to the right lower quadrant. Pain increases with cough and motion. Classic signs are right lower quadrant direct and rebound tenderness located at McBurney's point.\n",
            "\n",
            "Appendicitis cannot be cured via medicine alone. The surgical procedure to treat it is called an appendectomy, which involves the surgical removal of the appendix.\n",
            "\n",
            "\n",
            "Document 1:\n",
            "\n",
            "Appendectomy should be preceded by IV antibiotics. Third-gener\n",
            "================================================================================\n",
            "---\n",
            "\n"
          ]
        }
      ]
    },
    {
      "cell_type": "markdown",
      "source": [
        "### Query 3: What are the effective treatments or solutions for addressing sudden patchy hair loss, commonly seen as localized bald spots on the scalp, and what could be the possible causes behind it?"
      ],
      "metadata": {
        "id": "VlKXKk2zMGhv"
      }
    },
    {
      "cell_type": "code",
      "source": [
        "test_rag_combinations(2)"
      ],
      "metadata": {
        "colab": {
          "base_uri": "https://localhost:8080/"
        },
        "id": "xIsDdiy6X3Gc",
        "outputId": "c7116a0f-1083-4507-c3ad-dd0623548ee7"
      },
      "execution_count": 71,
      "outputs": [
        {
          "output_type": "stream",
          "name": "stdout",
          "text": [
            "============================= Picked combination #1 ===============================\n",
            "\n",
            "Processing question: 'What are the effective treatments or solutions for addressing sudden patchy hair loss, commonly seen as localized bald spots on the scalp, and what could be the possible causes behind it?'\n",
            "\n",
            " i) Retrieving relevant documents ...\n",
            "Retrieved 3 documents for query: 'What are the effective treatments or solutions for addressing sudden patchy hair loss, commonly seen as localized bald spots on the scalp, and what could be the possible causes behind it?'\n",
            "Rank 1:\n",
            "Score: 0.4546\n",
            "Content: been subjected to scientific scrutiny, but patients who are self-conscious about their hair loss may\n",
            "consider them.\n",
            "Hair loss due to other causes: Underlying disorders are treated.\n",
            "Multiple treatment ...\n",
            "\n",
            "Rank 2:\n",
            "Score: 0.4619\n",
            "Content: Alopecia Areata\n",
            "Alopecia areata is sudden patchy hair loss in people with no obvious skin or systemic disorder.\n",
            "The scalp and beard are most frequently affected, but any hairy area may be involved. Ha...\n",
            "\n",
            "Rank 3:\n",
            "Score: 0.5282\n",
            "Content: Abnormalities of the hair shafts should be noted.\n",
            "A full skin examination should be done to evaluate hair loss elsewhere on the body (eg, eyebrows,\n",
            "eyelashes, arms, legs), rashes that may be associate...\n",
            "\n",
            "\n",
            " i) Generating answer ...\n",
            "\n",
            "--- Answer ---\n",
            " Sudden patchy hair loss, commonly seen as localized bald spots on the scalp, is known as Alopecia Areata. The possible cause...\n",
            "\n",
            "================================================================================\n",
            "📋 QUESTION:\n",
            "--------------------------------------------------------------------------------\n",
            "What are the effective treatments or solutions for addressing sudden patchy hair loss, commonly seen as localized bald spots on the scalp, and what could be the possible causes behind it?\n",
            "\n",
            "🩺 ANSWER:\n",
            "--------------------------------------------------------------------------------\n",
            " Sudden patchy hair loss, commonly seen as localized bald spots on the scalp, is known as Alopecia Areata. The possible causes behind it are thought to be an autoimmune disorder affecting genetically susceptible people exposed to unclear environmental triggers.\n",
            "\n",
            "Effective treatments or solutions for addressing Alopecia Areata include:\n",
            "\n",
            "1. Topical treatments: Topical minoxidil, topical anthralin, and topical immunotherapy (diphencyprone or squaric acid dibutylester) are options for localized treatment.\n",
            "2. Systemic corticosteroids: In severe cases, systemic corticostero\n",
            "================================================================================\n",
            "---\n",
            "\n",
            "============================= Picked combination #2 ===============================\n",
            "\n",
            "Processing question: 'What are the effective treatments or solutions for addressing sudden patchy hair loss, commonly seen as localized bald spots on the scalp, and what could be the possible causes behind it?'\n",
            "\n",
            " i) Retrieving relevant documents ...\n",
            "Retrieved 3 documents for query: 'What are the effective treatments or solutions for addressing sudden patchy hair loss, commonly seen as localized bald spots on the scalp, and what could be the possible causes behind it?'\n",
            "Rank 1:\n",
            "Score: 0.4546\n",
            "Content: been subjected to scientific scrutiny, but patients who are self-conscious about their hair loss may\n",
            "consider them.\n",
            "Hair loss due to other causes: Underlying disorders are treated.\n",
            "Multiple treatment ...\n",
            "\n",
            "Rank 2:\n",
            "Score: 0.4619\n",
            "Content: Alopecia Areata\n",
            "Alopecia areata is sudden patchy hair loss in people with no obvious skin or systemic disorder.\n",
            "The scalp and beard are most frequently affected, but any hairy area may be involved. Ha...\n",
            "\n",
            "Rank 3:\n",
            "Score: 0.5282\n",
            "Content: Abnormalities of the hair shafts should be noted.\n",
            "A full skin examination should be done to evaluate hair loss elsewhere on the body (eg, eyebrows,\n",
            "eyelashes, arms, legs), rashes that may be associate...\n",
            "\n",
            "\n",
            " i) Generating answer ...\n",
            "\n",
            "--- Answer ---\n",
            " Alopecia areata is the condition commonly associated with sudden patchy hair loss, presenting as localized bald spots on the...\n",
            "\n",
            "================================================================================\n",
            "📋 QUESTION:\n",
            "--------------------------------------------------------------------------------\n",
            "What are the effective treatments or solutions for addressing sudden patchy hair loss, commonly seen as localized bald spots on the scalp, and what could be the possible causes behind it?\n",
            "\n",
            "🩺 ANSWER:\n",
            "--------------------------------------------------------------------------------\n",
            " Alopecia areata is the condition commonly associated with sudden patchy hair loss, presenting as localized bald spots on the scalp. The possible causes behind this condition include autoimmune disorders, genetic susceptibility, and unclear environmental triggers.\n",
            "\n",
            "Effective treatments for alopecia areata include:\n",
            "\n",
            "1. Topical treatments: Topical minoxidil, topical anthralin, and topical immunotherapy (diphencyprone or squaric acid dibutylester)\n",
            "2. Systemic corticosteroids (in severe cases)\n",
            "3\n",
            "================================================================================\n",
            "---\n",
            "\n",
            "============================= Picked combination #3 ===============================\n",
            "\n",
            "Processing question: 'What are the effective treatments or solutions for addressing sudden patchy hair loss, commonly seen as localized bald spots on the scalp, and what could be the possible causes behind it?'\n",
            "\n",
            " i) Retrieving relevant documents ...\n",
            "Retrieved 5 documents for query: 'What are the effective treatments or solutions for addressing sudden patchy hair loss, commonly seen as localized bald spots on the scalp, and what could be the possible causes behind it?'\n",
            "Rank 1:\n",
            "Score: 0.4546\n",
            "Content: been subjected to scientific scrutiny, but patients who are self-conscious about their hair loss may\n",
            "consider them.\n",
            "Hair loss due to other causes: Underlying disorders are treated.\n",
            "Multiple treatment ...\n",
            "\n",
            "Rank 2:\n",
            "Score: 0.4619\n",
            "Content: Alopecia Areata\n",
            "Alopecia areata is sudden patchy hair loss in people with no obvious skin or systemic disorder.\n",
            "The scalp and beard are most frequently affected, but any hairy area may be involved. Ha...\n",
            "\n",
            "Rank 3:\n",
            "Score: 0.5282\n",
            "Content: Abnormalities of the hair shafts should be noted.\n",
            "A full skin examination should be done to evaluate hair loss elsewhere on the body (eg, eyebrows,\n",
            "eyelashes, arms, legs), rashes that may be associate...\n",
            "\n",
            "Rank 4:\n",
            "Score: 0.5297\n",
            "Content: Other than hair loss, scalp symptoms (eg, itching, burning, tingling) are often absent and, when present,\n",
            "are not specific to any cause.\n",
            "Signs of hair loss in patterns other than those described above...\n",
            "\n",
            "Rank 5:\n",
            "Score: 0.5340\n",
            "Content: infection or emotional stress. It occasionally coexists with autoimmune vitiligo or thyroiditis.\n",
            "Diagnosis\n",
            "• Examination\n",
            "Diagnosis is by inspection. Alopecia areata typically manifests as discrete cir...\n",
            "\n",
            "\n",
            " i) Generating answer ...\n",
            "\n",
            "--- Answer ---\n",
            " Sudden patchy hair loss, commonly seen as localized bald spots on the scalp, is referred to as Alopecia Areata. Possible cau...\n",
            "\n",
            "================================================================================\n",
            "📋 QUESTION:\n",
            "--------------------------------------------------------------------------------\n",
            "What are the effective treatments or solutions for addressing sudden patchy hair loss, commonly seen as localized bald spots on the scalp, and what could be the possible causes behind it?\n",
            "\n",
            "🩺 ANSWER:\n",
            "--------------------------------------------------------------------------------\n",
            " Sudden patchy hair loss, commonly seen as localized bald spots on the scalp, is referred to as Alopecia Areata. Possible causes behind it include autoimmune disorders, genetic susceptibility, and unclear environmental triggers.\n",
            "\n",
            "Effective treatments for Alopecia Areata include:\n",
            "\n",
            "1. Topical treatments:\n",
            "   - Topical minoxidil\n",
            "   - Topical anthralin\n",
            "   - Topical immunotherapy (diphencyprone or squaric acid dibutylester)\n",
            "\n",
            "2. Systemic treatments (for severe cases):\n",
            "   - Systemic corticosteroids\n",
            "================================================================================\n",
            "---\n",
            "\n",
            "============================= Picked combination #4 ===============================\n",
            "\n",
            "Processing question: 'What are the effective treatments or solutions for addressing sudden patchy hair loss, commonly seen as localized bald spots on the scalp, and what could be the possible causes behind it?'\n",
            "\n",
            " i) Retrieving relevant documents ...\n",
            "Retrieved 5 documents for query: 'What are the effective treatments or solutions for addressing sudden patchy hair loss, commonly seen as localized bald spots on the scalp, and what could be the possible causes behind it?'\n",
            "Rank 1:\n",
            "Score: 0.4546\n",
            "Content: been subjected to scientific scrutiny, but patients who are self-conscious about their hair loss may\n",
            "consider them.\n",
            "Hair loss due to other causes: Underlying disorders are treated.\n",
            "Multiple treatment ...\n",
            "\n",
            "Rank 2:\n",
            "Score: 0.4619\n",
            "Content: Alopecia Areata\n",
            "Alopecia areata is sudden patchy hair loss in people with no obvious skin or systemic disorder.\n",
            "The scalp and beard are most frequently affected, but any hairy area may be involved. Ha...\n",
            "\n",
            "Rank 3:\n",
            "Score: 0.5282\n",
            "Content: Abnormalities of the hair shafts should be noted.\n",
            "A full skin examination should be done to evaluate hair loss elsewhere on the body (eg, eyebrows,\n",
            "eyelashes, arms, legs), rashes that may be associate...\n",
            "\n",
            "Rank 4:\n",
            "Score: 0.5297\n",
            "Content: Other than hair loss, scalp symptoms (eg, itching, burning, tingling) are often absent and, when present,\n",
            "are not specific to any cause.\n",
            "Signs of hair loss in patterns other than those described above...\n",
            "\n",
            "Rank 5:\n",
            "Score: 0.5340\n",
            "Content: infection or emotional stress. It occasionally coexists with autoimmune vitiligo or thyroiditis.\n",
            "Diagnosis\n",
            "• Examination\n",
            "Diagnosis is by inspection. Alopecia areata typically manifests as discrete cir...\n",
            "\n",
            "\n",
            " i) Generating answer ...\n",
            "\n",
            "--- Answer ---\n",
            " Sudden patchy hair loss, commonly seen as localized bald spots on the scalp, is known as Alopecia Areata. The possible cause...\n",
            "\n",
            "================================================================================\n",
            "📋 QUESTION:\n",
            "--------------------------------------------------------------------------------\n",
            "What are the effective treatments or solutions for addressing sudden patchy hair loss, commonly seen as localized bald spots on the scalp, and what could be the possible causes behind it?\n",
            "\n",
            "🩺 ANSWER:\n",
            "--------------------------------------------------------------------------------\n",
            " Sudden patchy hair loss, commonly seen as localized bald spots on the scalp, is known as Alopecia Areata. The possible causes behind it include an autoimmune disorder affecting genetically susceptible individuals exposed to unclear environmental triggers.\n",
            "\n",
            "Effective treatments for Alopecia Areata include:\n",
            "\n",
            "1. Topical treatments:\n",
            "   - Topical minoxidil\n",
            "   - Topical anthralin\n",
            "   - Topical immunotherapy (diphencyprone or squaric acid dibutylester)\n",
            "\n",
            "2.\n",
            "================================================================================\n",
            "---\n",
            "\n",
            "============================= Picked combination #5 ===============================\n",
            "\n",
            "Processing question: 'What are the effective treatments or solutions for addressing sudden patchy hair loss, commonly seen as localized bald spots on the scalp, and what could be the possible causes behind it?'\n",
            "\n",
            " i) Retrieving relevant documents ...\n",
            "Retrieved 3 documents for query: 'What are the effective treatments or solutions for addressing sudden patchy hair loss, commonly seen as localized bald spots on the scalp, and what could be the possible causes behind it?'\n",
            "Rank 1:\n",
            "Score: 0.4546\n",
            "Content: been subjected to scientific scrutiny, but patients who are self-conscious about their hair loss may\n",
            "consider them.\n",
            "Hair loss due to other causes: Underlying disorders are treated.\n",
            "Multiple treatment ...\n",
            "\n",
            "Rank 2:\n",
            "Score: 0.4619\n",
            "Content: Alopecia Areata\n",
            "Alopecia areata is sudden patchy hair loss in people with no obvious skin or systemic disorder.\n",
            "The scalp and beard are most frequently affected, but any hairy area may be involved. Ha...\n",
            "\n",
            "Rank 3:\n",
            "Score: 0.5282\n",
            "Content: Abnormalities of the hair shafts should be noted.\n",
            "A full skin examination should be done to evaluate hair loss elsewhere on the body (eg, eyebrows,\n",
            "eyelashes, arms, legs), rashes that may be associate...\n",
            "\n",
            "\n",
            " i) Generating answer ...\n",
            "\n",
            "--- Answer ---\n",
            " Alopecia areata, which is characterized by sudden patchy hair loss commonly seen as localized bald spots on the scalp, is th...\n",
            "\n",
            "================================================================================\n",
            "📋 QUESTION:\n",
            "--------------------------------------------------------------------------------\n",
            "What are the effective treatments or solutions for addressing sudden patchy hair loss, commonly seen as localized bald spots on the scalp, and what could be the possible causes behind it?\n",
            "\n",
            "🩺 ANSWER:\n",
            "--------------------------------------------------------------------------------\n",
            " Alopecia areata, which is characterized by sudden patchy hair loss commonly seen as localized bald spots on the scalp, is thought to be an autoimmune disorder affecting genetically susceptible people exposed to unclear environmental triggers. The possible causes behind it include underlying disorders, genetic susceptibility, and environmental triggers.\n",
            "\n",
            "For treatment, multiple options exist, including:\n",
            "\n",
            "1. Topical treatments: Topical minoxidil and topical immunotherapy (diphencyprone or squaric acid dibutylester)\n",
            "2. Intralesional treatments: Intralesional corticosteroids\n",
            "3. Systemic treatments:\n",
            "================================================================================\n",
            "---\n",
            "\n"
          ]
        }
      ]
    },
    {
      "cell_type": "markdown",
      "source": [
        "### Query 4:  What treatments are recommended for a person who has sustained a physical injury to brain tissue, resulting in temporary or permanent impairment of brain function?"
      ],
      "metadata": {
        "id": "8NYZxEs1MMmH"
      }
    },
    {
      "cell_type": "code",
      "source": [
        "test_rag_combinations(3)"
      ],
      "metadata": {
        "colab": {
          "base_uri": "https://localhost:8080/"
        },
        "id": "n_71ooXdZ2t4",
        "outputId": "492fa6bd-b12b-4a28-ace2-3bdfdf1326bc"
      },
      "execution_count": 72,
      "outputs": [
        {
          "output_type": "stream",
          "name": "stdout",
          "text": [
            "============================= Picked combination #1 ===============================\n",
            "\n",
            "Processing question: 'What treatments are recommended for a person who has sustained a physical injury to brain tissue, resulting in temporary or permanent impairment of brain function?'\n",
            "\n",
            " i) Retrieving relevant documents ...\n",
            "Retrieved 3 documents for query: 'What treatments are recommended for a person who has sustained a physical injury to brain tissue, resulting in temporary or permanent impairment of brain function?'\n",
            "Rank 1:\n",
            "Score: 0.5158\n",
            "Content: usually requires laboratory tests and neuroimaging. Treatment is immediate stabilization and\n",
            "specific management of the cause. For long-term coma, adjunctive treatment includes passive\n",
            "range-of-motion...\n",
            "\n",
            "Rank 2:\n",
            "Score: 0.5197\n",
            "Content: prolonged period of rehabilitation, particularly in cognitive and emotional areas, is often required.\n",
            "Rehabilitation services should be planned early.\n",
            "The Merck Manual of Diagnosis & Therapy, 19th Edi...\n",
            "\n",
            "Rank 3:\n",
            "Score: 0.5254\n",
            "Content: and other CNS-active drugs may also be used for chronic or neuropathic pain and are first-line therapy\n",
            "for some conditions. Neuraxial infusion, nerve stimulation, injection therapies, and neural block...\n",
            "\n",
            "\n",
            " i) Generating answer ...\n",
            "\n",
            "--- Answer ---\n",
            " For a person who has sustained a physical injury to brain tissue, resulting in temporary or permanent impairment of brain fu...\n",
            "\n",
            "================================================================================\n",
            "📋 QUESTION:\n",
            "--------------------------------------------------------------------------------\n",
            "What treatments are recommended for a person who has sustained a physical injury to brain tissue, resulting in temporary or permanent impairment of brain function?\n",
            "\n",
            "🩺 ANSWER:\n",
            "--------------------------------------------------------------------------------\n",
            " For a person who has sustained a physical injury to brain tissue, resulting in temporary or permanent impairment of brain function, the recommended treatments include:\n",
            "\n",
            "1. Immediate stabilization and specific management of the cause (as mentioned in Document 1).\n",
            "2. Long-term rehabilitation, particularly in cognitive and emotional areas, which should be planned early (as mentioned in Document 2).\n",
            "3. Cognitive-behavioral interventions, such as incremental gains in function, changes in relationships at home, systematic use of relaxation techniques, hypnosis, or biofeedback, and graduated exercise (as mentioned in Document 3).\n",
            "\n",
            "It's\n",
            "================================================================================\n",
            "---\n",
            "\n",
            "============================= Picked combination #2 ===============================\n",
            "\n",
            "Processing question: 'What treatments are recommended for a person who has sustained a physical injury to brain tissue, resulting in temporary or permanent impairment of brain function?'\n",
            "\n",
            " i) Retrieving relevant documents ...\n",
            "Retrieved 3 documents for query: 'What treatments are recommended for a person who has sustained a physical injury to brain tissue, resulting in temporary or permanent impairment of brain function?'\n",
            "Rank 1:\n",
            "Score: 0.5158\n",
            "Content: usually requires laboratory tests and neuroimaging. Treatment is immediate stabilization and\n",
            "specific management of the cause. For long-term coma, adjunctive treatment includes passive\n",
            "range-of-motion...\n",
            "\n",
            "Rank 2:\n",
            "Score: 0.5197\n",
            "Content: prolonged period of rehabilitation, particularly in cognitive and emotional areas, is often required.\n",
            "Rehabilitation services should be planned early.\n",
            "The Merck Manual of Diagnosis & Therapy, 19th Edi...\n",
            "\n",
            "Rank 3:\n",
            "Score: 0.5254\n",
            "Content: and other CNS-active drugs may also be used for chronic or neuropathic pain and are first-line therapy\n",
            "for some conditions. Neuraxial infusion, nerve stimulation, injection therapies, and neural block...\n",
            "\n",
            "\n",
            " i) Generating answer ...\n",
            "\n",
            "--- Answer ---\n",
            " For a person who has sustained a physical injury to brain tissue resulting in temporary or permanent impairment of brain fun...\n",
            "\n",
            "================================================================================\n",
            "📋 QUESTION:\n",
            "--------------------------------------------------------------------------------\n",
            "What treatments are recommended for a person who has sustained a physical injury to brain tissue, resulting in temporary or permanent impairment of brain function?\n",
            "\n",
            "🩺 ANSWER:\n",
            "--------------------------------------------------------------------------------\n",
            " For a person who has sustained a physical injury to brain tissue resulting in temporary or permanent impairment of brain function, the recommended treatments include:\n",
            "\n",
            "1. Immediate stabilization and specific management of the cause.\n",
            "2. Adjunctive treatment for long-term coma, which may include passive range-of-motion exercises, enteral feedings, and measures to prevent pressure ulcers.\n",
            "3. Rehabilitation services planned early, particularly in cognitive and emotional areas, for a prolonged period of rehabilitation.\n",
            "4. Cognitive-behavior\n",
            "================================================================================\n",
            "---\n",
            "\n",
            "============================= Picked combination #3 ===============================\n",
            "\n",
            "Processing question: 'What treatments are recommended for a person who has sustained a physical injury to brain tissue, resulting in temporary or permanent impairment of brain function?'\n",
            "\n",
            " i) Retrieving relevant documents ...\n",
            "Retrieved 5 documents for query: 'What treatments are recommended for a person who has sustained a physical injury to brain tissue, resulting in temporary or permanent impairment of brain function?'\n",
            "Rank 1:\n",
            "Score: 0.5158\n",
            "Content: usually requires laboratory tests and neuroimaging. Treatment is immediate stabilization and\n",
            "specific management of the cause. For long-term coma, adjunctive treatment includes passive\n",
            "range-of-motion...\n",
            "\n",
            "Rank 2:\n",
            "Score: 0.5197\n",
            "Content: prolonged period of rehabilitation, particularly in cognitive and emotional areas, is often required.\n",
            "Rehabilitation services should be planned early.\n",
            "The Merck Manual of Diagnosis & Therapy, 19th Edi...\n",
            "\n",
            "Rank 3:\n",
            "Score: 0.5254\n",
            "Content: and other CNS-active drugs may also be used for chronic or neuropathic pain and are first-line therapy\n",
            "for some conditions. Neuraxial infusion, nerve stimulation, injection therapies, and neural block...\n",
            "\n",
            "Rank 4:\n",
            "Score: 0.5289\n",
            "Content: Chapter 324. Traumatic Brain Injury\n",
            "Introduction\n",
            "Traumatic brain injury (TBI) is physical injury to brain tissue that temporarily or permanently\n",
            "impairs brain function. Diagnosis is suspected clinical...\n",
            "\n",
            "Rank 5:\n",
            "Score: 0.5380\n",
            "Content: of therapy. The diagnosis may be specific (eg, after left-sided stroke, residual right-sided deficits in upper\n",
            "and lower extremities) or functional (eg, generalized weakness due to bed rest). Goals sh...\n",
            "\n",
            "\n",
            " i) Generating answer ...\n",
            "\n",
            "--- Answer ---\n",
            " For a person who has sustained a physical injury to brain tissue, resulting in temporary or permanent impairment of brain fu...\n",
            "\n",
            "================================================================================\n",
            "📋 QUESTION:\n",
            "--------------------------------------------------------------------------------\n",
            "What treatments are recommended for a person who has sustained a physical injury to brain tissue, resulting in temporary or permanent impairment of brain function?\n",
            "\n",
            "🩺 ANSWER:\n",
            "--------------------------------------------------------------------------------\n",
            " For a person who has sustained a physical injury to brain tissue, resulting in temporary or permanent impairment of brain function, the recommended treatments include:\n",
            "\n",
            "1. Immediate stabilization and management of the cause.\n",
            "2. Neuroimaging to confirm the diagnosis.\n",
            "3. Adjunctive treatment for long-term coma, which may include passive range-of-motion exercises, enteral feedings, and measures to prevent pressure ulcers.\n",
            "4. Cognitive and emotional rehabilitation services planned early.\n",
            "5. Surgery may be needed in patients with more severe injuries.\n",
            "\n",
            "For\n",
            "================================================================================\n",
            "---\n",
            "\n",
            "============================= Picked combination #4 ===============================\n",
            "\n",
            "Processing question: 'What treatments are recommended for a person who has sustained a physical injury to brain tissue, resulting in temporary or permanent impairment of brain function?'\n",
            "\n",
            " i) Retrieving relevant documents ...\n",
            "Retrieved 5 documents for query: 'What treatments are recommended for a person who has sustained a physical injury to brain tissue, resulting in temporary or permanent impairment of brain function?'\n",
            "Rank 1:\n",
            "Score: 0.5158\n",
            "Content: usually requires laboratory tests and neuroimaging. Treatment is immediate stabilization and\n",
            "specific management of the cause. For long-term coma, adjunctive treatment includes passive\n",
            "range-of-motion...\n",
            "\n",
            "Rank 2:\n",
            "Score: 0.5197\n",
            "Content: prolonged period of rehabilitation, particularly in cognitive and emotional areas, is often required.\n",
            "Rehabilitation services should be planned early.\n",
            "The Merck Manual of Diagnosis & Therapy, 19th Edi...\n",
            "\n",
            "Rank 3:\n",
            "Score: 0.5254\n",
            "Content: and other CNS-active drugs may also be used for chronic or neuropathic pain and are first-line therapy\n",
            "for some conditions. Neuraxial infusion, nerve stimulation, injection therapies, and neural block...\n",
            "\n",
            "Rank 4:\n",
            "Score: 0.5289\n",
            "Content: Chapter 324. Traumatic Brain Injury\n",
            "Introduction\n",
            "Traumatic brain injury (TBI) is physical injury to brain tissue that temporarily or permanently\n",
            "impairs brain function. Diagnosis is suspected clinical...\n",
            "\n",
            "Rank 5:\n",
            "Score: 0.5380\n",
            "Content: of therapy. The diagnosis may be specific (eg, after left-sided stroke, residual right-sided deficits in upper\n",
            "and lower extremities) or functional (eg, generalized weakness due to bed rest). Goals sh...\n",
            "\n",
            "\n",
            " i) Generating answer ...\n",
            "\n",
            "--- Answer ---\n",
            " For a person who has sustained a physical injury to brain tissue, resulting in temporary or permanent impairment of brain fu...\n",
            "\n",
            "================================================================================\n",
            "📋 QUESTION:\n",
            "--------------------------------------------------------------------------------\n",
            "What treatments are recommended for a person who has sustained a physical injury to brain tissue, resulting in temporary or permanent impairment of brain function?\n",
            "\n",
            "🩺 ANSWER:\n",
            "--------------------------------------------------------------------------------\n",
            " For a person who has sustained a physical injury to brain tissue, resulting in temporary or permanent impairment of brain function, the recommended treatments include:\n",
            "\n",
            "1. Immediate stabilization and specific management of the cause.\n",
            "2. Neuroimaging to confirm the diagnosis.\n",
            "3. Ensuring a reliable airway and maintaining adequate ventilation, oxygenation, and blood pressure.\n",
            "4. Surgery may be needed in some cases.\n",
            "5. Long-term coma management, including passive range-of-motion exercises, enteral\n",
            "================================================================================\n",
            "---\n",
            "\n",
            "============================= Picked combination #5 ===============================\n",
            "\n",
            "Processing question: 'What treatments are recommended for a person who has sustained a physical injury to brain tissue, resulting in temporary or permanent impairment of brain function?'\n",
            "\n",
            " i) Retrieving relevant documents ...\n",
            "Retrieved 3 documents for query: 'What treatments are recommended for a person who has sustained a physical injury to brain tissue, resulting in temporary or permanent impairment of brain function?'\n",
            "Rank 1:\n",
            "Score: 0.5158\n",
            "Content: usually requires laboratory tests and neuroimaging. Treatment is immediate stabilization and\n",
            "specific management of the cause. For long-term coma, adjunctive treatment includes passive\n",
            "range-of-motion...\n",
            "\n",
            "Rank 2:\n",
            "Score: 0.5197\n",
            "Content: prolonged period of rehabilitation, particularly in cognitive and emotional areas, is often required.\n",
            "Rehabilitation services should be planned early.\n",
            "The Merck Manual of Diagnosis & Therapy, 19th Edi...\n",
            "\n",
            "Rank 3:\n",
            "Score: 0.5254\n",
            "Content: and other CNS-active drugs may also be used for chronic or neuropathic pain and are first-line therapy\n",
            "for some conditions. Neuraxial infusion, nerve stimulation, injection therapies, and neural block...\n",
            "\n",
            "\n",
            " i) Generating answer ...\n",
            "\n",
            "--- Answer ---\n",
            " For a person who has sustained a physical injury to brain tissue resulting in temporary or permanent impairment of brain fun...\n",
            "\n",
            "================================================================================\n",
            "📋 QUESTION:\n",
            "--------------------------------------------------------------------------------\n",
            "What treatments are recommended for a person who has sustained a physical injury to brain tissue, resulting in temporary or permanent impairment of brain function?\n",
            "\n",
            "🩺 ANSWER:\n",
            "--------------------------------------------------------------------------------\n",
            " For a person who has sustained a physical injury to brain tissue resulting in temporary or permanent impairment of brain function, the recommended treatments include:\n",
            "\n",
            "1. Immediate stabilization and specific management of the cause.\n",
            "2. Adjunctive treatment for long-term coma, which may include passive range-of-motion exercises, enteral feedings, and measures to prevent pressure ulcers.\n",
            "3. Rehabilitation services planned early, particularly in cognitive and emotional areas.\n",
            "4. Cognitive-behavioral interventions, such as incremental gains in function, changes in relationships at home, and systematic use of relaxation techniques, hypnos\n",
            "================================================================================\n",
            "---\n",
            "\n"
          ]
        }
      ]
    },
    {
      "cell_type": "markdown",
      "source": [
        "### Query 5: What are the necessary precautions and treatment steps for a person who has fractured their leg during a hiking trip, and what should be considered for their care and recovery?"
      ],
      "metadata": {
        "id": "LAGaovqiMQ61"
      }
    },
    {
      "cell_type": "code",
      "source": [
        "test_rag_combinations(4)"
      ],
      "metadata": {
        "colab": {
          "base_uri": "https://localhost:8080/"
        },
        "id": "YJAjbgAqb-4t",
        "outputId": "27d117fc-6245-4513-ff8d-c46729a5a8f1"
      },
      "execution_count": 73,
      "outputs": [
        {
          "output_type": "stream",
          "name": "stdout",
          "text": [
            "============================= Picked combination #1 ===============================\n",
            "\n",
            "Processing question: 'What are the necessary precautions and treatment steps for a person who has fractured their leg during a hiking trip, and what should be considered for their care and recovery?'\n",
            "\n",
            " i) Retrieving relevant documents ...\n",
            "Retrieved 3 documents for query: 'What are the necessary precautions and treatment steps for a person who has fractured their leg during a hiking trip, and what should be considered for their care and recovery?'\n",
            "Rank 1:\n",
            "Score: 0.6089\n",
            "Content: Care of the stump and prosthesis: Patients must learn to care for their stump. Because a leg\n",
            "prosthesis is intended only for ambulation, patients should remove it before going to sleep. At bedtime,\n",
            "th...\n",
            "\n",
            "Rank 2:\n",
            "Score: 0.6244\n",
            "Content: unaffected leg. Patients who begin walking without the parallel bars may need physical assistance from\n",
            "and later close supervision by the therapist. Generally, patients use a cane or walker when first...\n",
            "\n",
            "Rank 3:\n",
            "Score: 0.6263\n",
            "Content: falls (see Table 313-3). Patients should also be advised on how to reduce risk due to situational factors.\n",
            "For example, footwear should have flat heels, some ankle support, and firm, nonskid midsoles....\n",
            "\n",
            "\n",
            " i) Generating answer ...\n",
            "\n",
            "--- Answer ---\n",
            " I don't have enough information to answer this question based on the provided context.\n",
            "\n",
            "Here is the context provided:\n",
            "\n",
            "Docum...\n",
            "\n",
            "================================================================================\n",
            "📋 QUESTION:\n",
            "--------------------------------------------------------------------------------\n",
            "What are the necessary precautions and treatment steps for a person who has fractured their leg during a hiking trip, and what should be considered for their care and recovery?\n",
            "\n",
            "🩺 ANSWER:\n",
            "--------------------------------------------------------------------------------\n",
            " I don't have enough information to answer this question based on the provided context.\n",
            "\n",
            "Here is the context provided:\n",
            "\n",
            "Document 1:\n",
            "Care of the stump and prosthesis: Patients must learn to care for their stump. Because a leg\n",
            "prosthesis is intended only for ambulation, patients should remove it before going to sleep. At bedtime,\n",
            "the stump should be inspected thoroughly (with a mirror if inspected by the patient), washed with mild\n",
            "soap and warm water, dried thoroughly, then dusted with talcum powder. Patients should treat the\n",
            "following possible problems:\n",
            "\n",
            "Document 2:\n",
            "unaffected leg.\n",
            "================================================================================\n",
            "---\n",
            "\n",
            "============================= Picked combination #2 ===============================\n",
            "\n",
            "Processing question: 'What are the necessary precautions and treatment steps for a person who has fractured their leg during a hiking trip, and what should be considered for their care and recovery?'\n",
            "\n",
            " i) Retrieving relevant documents ...\n",
            "Retrieved 3 documents for query: 'What are the necessary precautions and treatment steps for a person who has fractured their leg during a hiking trip, and what should be considered for their care and recovery?'\n",
            "Rank 1:\n",
            "Score: 0.6089\n",
            "Content: Care of the stump and prosthesis: Patients must learn to care for their stump. Because a leg\n",
            "prosthesis is intended only for ambulation, patients should remove it before going to sleep. At bedtime,\n",
            "th...\n",
            "\n",
            "Rank 2:\n",
            "Score: 0.6244\n",
            "Content: unaffected leg. Patients who begin walking without the parallel bars may need physical assistance from\n",
            "and later close supervision by the therapist. Generally, patients use a cane or walker when first...\n",
            "\n",
            "Rank 3:\n",
            "Score: 0.6263\n",
            "Content: falls (see Table 313-3). Patients should also be advised on how to reduce risk due to situational factors.\n",
            "For example, footwear should have flat heels, some ankle support, and firm, nonskid midsoles....\n",
            "\n",
            "\n",
            " i) Generating answer ...\n",
            "\n",
            "--- Answer ---\n",
            " I don't have enough information to answer this question based on the provided context.\n",
            "\n",
            "Here is the context provided:\n",
            "\n",
            "Docum...\n",
            "\n",
            "================================================================================\n",
            "📋 QUESTION:\n",
            "--------------------------------------------------------------------------------\n",
            "What are the necessary precautions and treatment steps for a person who has fractured their leg during a hiking trip, and what should be considered for their care and recovery?\n",
            "\n",
            "🩺 ANSWER:\n",
            "--------------------------------------------------------------------------------\n",
            " I don't have enough information to answer this question based on the provided context.\n",
            "\n",
            "Here is the context provided:\n",
            "\n",
            "Document 1:\n",
            "Care of the stump and prosthesis: Patients must learn to care for their stump. Because a leg\n",
            "prosthesis is intended only for ambulation, patients should remove it before going to sleep. At bedtime,\n",
            "the stump should be inspected thoroughly (with a mirror if inspected by the patient), washed with mild\n",
            "soap and warm water, dried thoroughly, then dusted with talcum powder. Patients should\n",
            "================================================================================\n",
            "---\n",
            "\n",
            "============================= Picked combination #3 ===============================\n",
            "\n",
            "Processing question: 'What are the necessary precautions and treatment steps for a person who has fractured their leg during a hiking trip, and what should be considered for their care and recovery?'\n",
            "\n",
            " i) Retrieving relevant documents ...\n",
            "Retrieved 5 documents for query: 'What are the necessary precautions and treatment steps for a person who has fractured their leg during a hiking trip, and what should be considered for their care and recovery?'\n",
            "Rank 1:\n",
            "Score: 0.6089\n",
            "Content: Care of the stump and prosthesis: Patients must learn to care for their stump. Because a leg\n",
            "prosthesis is intended only for ambulation, patients should remove it before going to sleep. At bedtime,\n",
            "th...\n",
            "\n",
            "Rank 2:\n",
            "Score: 0.6244\n",
            "Content: unaffected leg. Patients who begin walking without the parallel bars may need physical assistance from\n",
            "and later close supervision by the therapist. Generally, patients use a cane or walker when first...\n",
            "\n",
            "Rank 3:\n",
            "Score: 0.6263\n",
            "Content: falls (see Table 313-3). Patients should also be advised on how to reduce risk due to situational factors.\n",
            "For example, footwear should have flat heels, some ankle support, and firm, nonskid midsoles....\n",
            "\n",
            "Rank 4:\n",
            "Score: 0.6324\n",
            "Content: be prescribed to reduce trauma if the foot is deformed (eg, previous toe amputation, hammer toe, bunion).\n",
            "Walking barefoot should be avoided. Patients with neuropathic foot ulcers should avoid weight ...\n",
            "\n",
            "Rank 5:\n",
            "Score: 0.6362\n",
            "Content: frequently result in good healing and may prevent major surgery (see p. 672). After the ulcer has healed,\n",
            "appropriate inserts or special shoes should be prescribed. In refractory cases, especially if ...\n",
            "\n",
            "\n",
            " i) Generating answer ...\n",
            "\n",
            "--- Answer ---\n",
            " I don't have enough information to answer this question based on the provided context.\n",
            "\n",
            "\n",
            "However, based on the general princ...\n",
            "\n",
            "================================================================================\n",
            "📋 QUESTION:\n",
            "--------------------------------------------------------------------------------\n",
            "What are the necessary precautions and treatment steps for a person who has fractured their leg during a hiking trip, and what should be considered for their care and recovery?\n",
            "\n",
            "🩺 ANSWER:\n",
            "--------------------------------------------------------------------------------\n",
            " I don't have enough information to answer this question based on the provided context.\n",
            "\n",
            "\n",
            "However, based on the general principles of care and rehabilitation from the Merck Manual, a person with a fractured leg would likely need to follow these steps for care and recovery:\n",
            "\n",
            "\n",
            "1. Immobilization: The fractured leg should be immobilized to prevent further injury and promote healing.\n",
            "\n",
            "2. Medical Evaluation: A thorough medical evaluation, including imaging studies, to assess the extent of the fracture.\n",
            "\n",
            "3. Pain Management: Appropriate pain management strategies should be implemented.\n",
            "\n",
            "\n",
            "================================================================================\n",
            "---\n",
            "\n",
            "============================= Picked combination #4 ===============================\n",
            "\n",
            "Processing question: 'What are the necessary precautions and treatment steps for a person who has fractured their leg during a hiking trip, and what should be considered for their care and recovery?'\n",
            "\n",
            " i) Retrieving relevant documents ...\n",
            "Retrieved 5 documents for query: 'What are the necessary precautions and treatment steps for a person who has fractured their leg during a hiking trip, and what should be considered for their care and recovery?'\n",
            "Rank 1:\n",
            "Score: 0.6089\n",
            "Content: Care of the stump and prosthesis: Patients must learn to care for their stump. Because a leg\n",
            "prosthesis is intended only for ambulation, patients should remove it before going to sleep. At bedtime,\n",
            "th...\n",
            "\n",
            "Rank 2:\n",
            "Score: 0.6244\n",
            "Content: unaffected leg. Patients who begin walking without the parallel bars may need physical assistance from\n",
            "and later close supervision by the therapist. Generally, patients use a cane or walker when first...\n",
            "\n",
            "Rank 3:\n",
            "Score: 0.6263\n",
            "Content: falls (see Table 313-3). Patients should also be advised on how to reduce risk due to situational factors.\n",
            "For example, footwear should have flat heels, some ankle support, and firm, nonskid midsoles....\n",
            "\n",
            "Rank 4:\n",
            "Score: 0.6324\n",
            "Content: be prescribed to reduce trauma if the foot is deformed (eg, previous toe amputation, hammer toe, bunion).\n",
            "Walking barefoot should be avoided. Patients with neuropathic foot ulcers should avoid weight ...\n",
            "\n",
            "Rank 5:\n",
            "Score: 0.6362\n",
            "Content: frequently result in good healing and may prevent major surgery (see p. 672). After the ulcer has healed,\n",
            "appropriate inserts or special shoes should be prescribed. In refractory cases, especially if ...\n",
            "\n",
            "\n",
            " i) Generating answer ...\n",
            "\n",
            "--- Answer ---\n",
            " I don't have enough information to answer this question based on the provided context.\n",
            "\n",
            "\n",
            "However, based on the general princ...\n",
            "\n",
            "================================================================================\n",
            "📋 QUESTION:\n",
            "--------------------------------------------------------------------------------\n",
            "What are the necessary precautions and treatment steps for a person who has fractured their leg during a hiking trip, and what should be considered for their care and recovery?\n",
            "\n",
            "🩺 ANSWER:\n",
            "--------------------------------------------------------------------------------\n",
            " I don't have enough information to answer this question based on the provided context.\n",
            "\n",
            "\n",
            "However, based on the general principles of care and rehabilitation from the Merck Manual, a person with a fractured leg would likely require immobilization of the affected limb, pain management, and possibly surgical intervention depending on the severity of the fracture. Rehabilitation would involve physical therapy to regain strength and mobility, and the use of assistive devices such as crutches or a wheelchair during the recovery period. It's important to\n",
            "================================================================================\n",
            "---\n",
            "\n",
            "============================= Picked combination #5 ===============================\n",
            "\n",
            "Processing question: 'What are the necessary precautions and treatment steps for a person who has fractured their leg during a hiking trip, and what should be considered for their care and recovery?'\n",
            "\n",
            " i) Retrieving relevant documents ...\n",
            "Retrieved 3 documents for query: 'What are the necessary precautions and treatment steps for a person who has fractured their leg during a hiking trip, and what should be considered for their care and recovery?'\n",
            "Rank 1:\n",
            "Score: 0.6089\n",
            "Content: Care of the stump and prosthesis: Patients must learn to care for their stump. Because a leg\n",
            "prosthesis is intended only for ambulation, patients should remove it before going to sleep. At bedtime,\n",
            "th...\n",
            "\n",
            "Rank 2:\n",
            "Score: 0.6244\n",
            "Content: unaffected leg. Patients who begin walking without the parallel bars may need physical assistance from\n",
            "and later close supervision by the therapist. Generally, patients use a cane or walker when first...\n",
            "\n",
            "Rank 3:\n",
            "Score: 0.6263\n",
            "Content: falls (see Table 313-3). Patients should also be advised on how to reduce risk due to situational factors.\n",
            "For example, footwear should have flat heels, some ankle support, and firm, nonskid midsoles....\n",
            "\n",
            "\n",
            " i) Generating answer ...\n",
            "\n",
            "--- Answer ---\n",
            " I don't have enough information to answer this question based on the provided context.\n",
            "\n",
            "Here is the context provided:\n",
            "\n",
            "Docum...\n",
            "\n",
            "================================================================================\n",
            "📋 QUESTION:\n",
            "--------------------------------------------------------------------------------\n",
            "What are the necessary precautions and treatment steps for a person who has fractured their leg during a hiking trip, and what should be considered for their care and recovery?\n",
            "\n",
            "🩺 ANSWER:\n",
            "--------------------------------------------------------------------------------\n",
            " I don't have enough information to answer this question based on the provided context.\n",
            "\n",
            "Here is the context provided:\n",
            "\n",
            "Document 1:\n",
            "Care of the stump and prosthesis: Patients must learn to care for their stump. Because a leg\n",
            "prosthesis is intended only for ambulation, patients should remove it before going to sleep. At bedtime,\n",
            "the stump should be inspected thoroughly (with a mirror if inspected by the patient), washed with mild\n",
            "soap and warm water, dried thoroughly, then dusted with talcum powder. Patients should treat the\n",
            "following possible problems:\n",
            "The Merck Manual of Diagnosis & Ther\n",
            "================================================================================\n",
            "---\n",
            "\n"
          ]
        }
      ]
    },
    {
      "cell_type": "markdown",
      "source": [
        "🧐 **Summary**\n",
        "\n",
        "- **Vector Store Performance**: FAISS demonstrated impressive indexing and retrieval speeds even on CPU, with embedding generation and storage completing in seconds rather than minutes for our medical corpus. In addition caching mechanism was also employed !\n",
        "\n",
        "- **Retrieval Quality**:\n",
        "The similarity search effectively identified relevant medical passages, though relevance varied based on query phrasing and specificity. The cosine similarity metric provided good semantic matching for medical terminology. top_k=3 retrieval setting was found to balance context compactness and informativeness.\n",
        "\n",
        "- **Context Window Utilization**: Including 3-5 retrieved passages provided sufficient context without overwhelming the model's reasoning capabilities. We observed diminishing returns beyond 5 passages.\n",
        "\n",
        "- **Parameter Sensitivity**:\n",
        "  - The RAG pipeline showed particular sensitivity to the context_k parameter, with higher values providing more comprehensive information but occasionally introducing **noise**.\n",
        "  - When answers were not directly covered in the context, the model often defaulted to safe fallback responses (e.g., \"I don't have enough information\"), in line with system instructions. This behavior confirms **effective constraint adherence** via prompt engineering.\n",
        "\n",
        "- **Prompt Engineering Effects**: The structured prompt format with clear delineation between context and question significantly improved the model's ability to ground responses in the provided information.\n",
        "\n",
        "- **Retrieval-Generation Alignment**:\n",
        "Phi-3 demonstrated clear improvement in answer specificity and completeness when supported by context. Compared to LLM-only runs, the RAG approach resulted in responses that were more anchored, less speculative, and typically better structured.\n",
        "\n",
        "- **Index Reusability & Local Persistence**\n",
        "We implemented FAISS persistence using a helper utility, allowing seamless local save/load of the index across runs. This minimized redundant computation and enabled reproducible results during tuning and evaluation.\n",
        "Moreover, text extractions from pdf (ie documents) where also persisted to avoid small time delays.\n",
        "\n",
        "- **Limitations in Sparse Answers**:\n",
        "Some Merck Manual entries were too broad or thinly spread across chunks. As a result, retrieval missed semantically linked but physically distant concepts. This underlines a limitation of naive chunking strategies in dense retrievers.\n",
        "\n",
        "- **Latency and Runtime**:\n",
        "For each question, the end-to-end response time (including retrieval and generation) averaged between 1.8 to 2 minutes. While not real-time, this remains acceptable for offline batch evaluation and iterative refinement workflows.\n",
        "\n",
        "- **Retrieval Speed & Scalability**\n",
        "Despite not leveraging faiss-gpu, retrieval latency remained negligible at this scale, reinforcing the viability of CPU-based FAISS for lightweight medical QA systems.\n",
        "\n",
        "**_The RAG setup significantly improved answer factuality and precision. Although retrieval is not foolproof, even a lightweight FAISS-based approach substantially enhanced grounding — confirming that small models can benefit meaningfully from external context without expensive fine-tuning._**\n"
      ],
      "metadata": {
        "id": "BqU7zGvIKDUi"
      }
    },
    {
      "cell_type": "markdown",
      "metadata": {
        "id": "SNLTNZWtdP0p"
      },
      "source": [
        "## Output Evaluation"
      ]
    },
    {
      "cell_type": "code",
      "execution_count": 74,
      "metadata": {
        "id": "3gvBk37ncdRU"
      },
      "outputs": [],
      "source": [
        "# helper function\n",
        "\n",
        "def build_rag_eval_prompt(context: str, question: str, answer: str) -> str:\n",
        "    system_message = \"\"\"You are an expert and impartial evaluator of AI-generated answers for medical questions.\n",
        "\n",
        "Your task is to assess the quality of an answer to a given question based on the provided context.\n",
        "\n",
        "Evaluate the answer along two dimensions:\n",
        "\n",
        "1. Groundedness:\n",
        "   - Is the answer supported solely by the provided context?\n",
        "   - Does it avoid including information not present in the context?\n",
        "\n",
        "2. Relevance:\n",
        "   - Does the answer address the question using appropriate information from the context?\n",
        "   - Is the answer complete, relevant, and clearly written?\n",
        "\n",
        "Scoring guidelines:\n",
        "- Groundedness:\n",
        "  1 = Contains significant information not in the context or contradicts the context\n",
        "  2 = Contains some information not supported by the context\n",
        "  3 = Mostly grounded with minor additions not in the context\n",
        "  4 = Fully grounded with very minor phrasing not explicitly in the context\n",
        "  5 = Perfectly grounded, all information comes directly from the context\n",
        "\n",
        "- Relevance:\n",
        "  1 = Does not address the question at all\n",
        "  2 = Partially addresses the question but misses key aspects\n",
        "  3 = Addresses the main question but lacks some important details\n",
        "  4 = Addresses the question well with most relevant details\n",
        "  5 = Perfectly addresses the question with all relevant information from the context\n",
        "\n",
        "Return your evaluation in the following JSON format:\n",
        "\n",
        "{\n",
        "  \"groundedness_assessment\": \"<brief justification>\",\n",
        "  \"groundedness_score\": <score from 1 to 5>,\n",
        "  \"relevance_assessment\": \"<brief justification>\",\n",
        "  \"relevance_score\": <score from 1 to 5>\n",
        "}\n",
        "\n",
        "Keep your assessment justifications brief (1-2 sentences each).\n",
        "Be objective and concise in your justifications. For medical information, accuracy is particularly important.\n",
        "\"\"\"\n",
        "\n",
        "    return f\"\"\"<|system|>\n",
        "{system_message}\n",
        "\n",
        "<|user|>\n",
        "Context:\n",
        "{context.strip()}\n",
        "\n",
        "Question:\n",
        "{question.strip()}\n",
        "\n",
        "Answer:\n",
        "{answer.strip()}\n",
        "\n",
        "Evaluate the answer based on the above criteria and return the output in the specified JSON format.\n",
        "\n",
        "<|assistant|>\"\"\""
      ]
    },
    {
      "cell_type": "code",
      "execution_count": 91,
      "metadata": {
        "id": "3aRv9T24hj7C"
      },
      "outputs": [],
      "source": [
        "def try_parse_llm_response_for_evaluation(response: str) -> dict:\n",
        "    try:\n",
        "        # Try parsing as-is first\n",
        "        return json.loads(response)\n",
        "    except json.JSONDecodeError:\n",
        "        # Fallback: extract JSON-like content using a safer eval-style parse\n",
        "        import ast\n",
        "        try:\n",
        "            return ast.literal_eval(response)\n",
        "        except Exception:\n",
        "            print(\"Warning: Could not parse LLM response.\")\n",
        "            return None\n",
        "\n",
        "def display_evaluation_results(question, answer, evaluation_response):\n",
        "    \"\"\"\n",
        "    Display the evaluation results for a given question and answer.\n",
        "\n",
        "    Parameters:\n",
        "    - question (str): The question asked.\n",
        "    - answer (str): The AI-generated answer.\n",
        "    - evaluation_response (str): The evaluation result containing 'groundedness_assessment', 'groundedness_score',\n",
        "      'relevance_assessment', and 'relevance_score' info as json string.\n",
        "    \"\"\"\n",
        "    print(\"\\nEvaluation Results for Question: \", question)\n",
        "    print(\"=\"*50)\n",
        "\n",
        "    print(f\"Question: {question}\")\n",
        "    print(f\"Answer: {answer}\\n\")\n",
        "\n",
        "    meta = try_parse_llm_response_for_evaluation(evaluation_response)\n",
        "\n",
        "    if (not meta) or (not isinstance(meta, dict)):\n",
        "      print('LLM didnt responded in expected manner !!')\n",
        "      print(f'LLM response: \\n {evaluation_response}')\n",
        "      print(\"=\"*50)\n",
        "      return\n",
        "\n",
        "    print(\"\\nEvaluation:\")\n",
        "    print(\"-\" * 50)\n",
        "    print(f\"Groundedness Assessment: {meta.get('groundedness_assessment')}\")\n",
        "    print(f\"Groundedness Score: {meta.get('groundedness_score')}\")\n",
        "    print(f\"Relevance Assessment: {meta.get('relevance_assessment')}\")\n",
        "    print(f\"Relevance Score: {meta.get('relevance_score')}\")\n",
        "    print(\"=\"*50)"
      ]
    },
    {
      "cell_type": "code",
      "execution_count": 76,
      "metadata": {
        "id": "Ip5mjhx1gTUr"
      },
      "outputs": [],
      "source": [
        "evaluation_model_settings = {\n",
        "    \"max_tokens\": 256,  # Sufficient for concise evaluation with brief justifications\n",
        "    \"temperature\": 0,   # Ensures deterministic, objective output. Avoids randomness.\n",
        "    \"top_p\": 1        # Use full probability space, but with temperature=0.0, it's moot\n",
        "}"
      ]
    },
    {
      "cell_type": "code",
      "source": [
        "rag_history = rag_meta.get_all()\n",
        "len(rag_history) # questions"
      ],
      "metadata": {
        "colab": {
          "base_uri": "https://localhost:8080/"
        },
        "id": "scH1AWujhGVh",
        "outputId": "72afbac5-a70f-47c1-fc3c-52924afc7303"
      },
      "execution_count": 87,
      "outputs": [
        {
          "output_type": "execute_result",
          "data": {
            "text/plain": [
              "5"
            ]
          },
          "metadata": {},
          "execution_count": 87
        }
      ]
    },
    {
      "cell_type": "code",
      "execution_count": 92,
      "metadata": {
        "id": "M3_UANaUeVs7",
        "colab": {
          "base_uri": "https://localhost:8080/"
        },
        "outputId": "844db264-efc0-4253-eb5b-94c6b2f4926e"
      },
      "outputs": [
        {
          "output_type": "stream",
          "name": "stdout",
          "text": [
            "========================= Under Evaluation Que # 1 ===========================\n",
            "\n",
            "Evaluation Results for Question:  What is the protocol for managing sepsis in a critical care unit?\n",
            "==================================================\n",
            "Question: What is the protocol for managing sepsis in a critical care unit?\n",
            "Answer:  In a critical care unit, the protocol for managing sepsis includes:\n",
            "\n",
            "1. ICU admission: Patients with septic shock should be treated in an ICU.\n",
            "2. Frequent monitoring: Monitor systemic pressure (CVP, PAOP, or both), pulse oximetry, ABGs, blood glucose, lactate, and electrolyte levels, renal function, and sublingual PCO2.\n",
            "3. Monitoring urine output: Measure urine output, usually with an indwelling catheter, as it is a good indicator of renal perfusion.\n",
            "4. First aid: Keep the patient warm, control hemorrhage, check airway and ventilation,\n",
            "\n",
            "Warning: Could not parse LLM response.\n",
            "LLM didnt responded in expected manner !!\n",
            "LLM response: \n",
            "  {\n",
            "  \"groundedness_assessment\": \"The answer is grounded in the provided context, as it directly references the management practices in an ICU and the monitoring parameters mentioned in the documents.\",\n",
            "  \"groundedness_score\": 5,\n",
            "  \"relevance_assessment\": \"The answer is highly relevant, as it succinctly summarizes the key components of sepsis management in a critical care unit, including ICU admission, monitoring, and first aid measures.\",\n",
            "  \"relevance_score\": 5\n",
            "}\n",
            "\n",
            "Note: The provided answer is a synthesis of the information from the three documents and directly addresses the question using appropriate details from the context. It avoids including information not present in the context and is relevant and complete.\n",
            "==================================================\n",
            "========================= Under Evaluation Que # 2 ===========================\n",
            "\n",
            "Evaluation Results for Question:  What are the common symptoms of appendicitis, and can it be cured via medicine? If not, what surgical procedure should be followed to treat it?\n",
            "==================================================\n",
            "Question: What are the common symptoms of appendicitis, and can it be cured via medicine? If not, what surgical procedure should be followed to treat it?\n",
            "Answer:  The common symptoms of appendicitis include epigastric or periumbilical pain, followed by brief nausea, vomiting, and anorexia. The pain typically shifts to the right lower quadrant after a few hours. Pain increases with cough and motion, and right lower quadrant direct and rebound tenderness is often present at McBurney's point.\n",
            "\n",
            "Appendicitis cannot be cured via medicine alone. The surgical procedure to treat appendicitis is called an appendectomy, which involves the removal of the appendix.\n",
            "\n",
            "\n",
            "Document 1:\n",
            "\n",
            "Treatment is surgical removal.\n",
            "\n",
            "Document 3:\n",
            "\n",
            "Symptoms and Signs\n",
            "\n",
            "The classic\n",
            "\n",
            "Warning: Could not parse LLM response.\n",
            "LLM didnt responded in expected manner !!\n",
            "LLM response: \n",
            "  {\n",
            "  \"groundedness_assessment\": \"The answer is grounded in the provided context, mentioning specific symptoms and the treatment method without introducing new information.\",\n",
            "  \"groundedness_score\": 5,\n",
            "  \"relevance_assessment\": \"The answer directly addresses the question, citing the symptoms and the necessity of surgical intervention for appendicitis treatment.\",\n",
            "  \"relevance_score\": 5\n",
            "}\n",
            "\n",
            "The answer provided is well-grounded and directly relevant to the question, citing specific symptoms and the surgical procedure required for appendicitis treatment. It does not introduce any new information not present in the context and addresses the main aspects of the question.\n",
            "==================================================\n",
            "========================= Under Evaluation Que # 3 ===========================\n",
            "\n",
            "Evaluation Results for Question:  What are the effective treatments or solutions for addressing sudden patchy hair loss, commonly seen as localized bald spots on the scalp, and what could be the possible causes behind it?\n",
            "==================================================\n",
            "Question: What are the effective treatments or solutions for addressing sudden patchy hair loss, commonly seen as localized bald spots on the scalp, and what could be the possible causes behind it?\n",
            "Answer:  Sudden patchy hair loss, commonly seen as localized bald spots on the scalp, is referred to as Alopecia Areata. The possible causes behind it include an autoimmune disorder affecting genetically susceptible people exposed to unclear environmental triggers.\n",
            "\n",
            "Effective treatments for Alopecia Areata include:\n",
            "\n",
            "1. Topical treatments: Topical minoxidil, topical anthralin, topical immunotherapy (diphencyprone or squaric acid dibutylester).\n",
            "2. Systemic treatments: In severe cases, systemic corticosteroids may be used.\n",
            "3. Other options: Psoralen plus ultraviolet A (PUVA) therapy.\n",
            "\n",
            "Warning: Could not parse LLM response.\n",
            "LLM didnt responded in expected manner !!\n",
            "LLM response: \n",
            "  {\n",
            "  \"groundedness_assessment\": \"The answer is grounded in the provided context, mentioning Alopecia Areata and listing several treatment options.\",\n",
            "  \"groundedness_score\": 5,\n",
            "  \"relevance_assessment\": \"The answer directly addresses the question by identifying Alopecia Areata as the cause and listing effective treatments.\",\n",
            "  \"relevance_score\": 5\n",
            "}\n",
            "\n",
            "To further improve the answer, it could include a brief mention of the autoimmune nature of the disorder and the role of environmental triggers, as these are also mentioned in the context. However, the answer remains highly relevant and grounded.\n",
            "==================================================\n",
            "========================= Under Evaluation Que # 4 ===========================\n",
            "\n",
            "Evaluation Results for Question:  What treatments are recommended for a person who has sustained a physical injury to brain tissue, resulting in temporary or permanent impairment of brain function?\n",
            "==================================================\n",
            "Question: What treatments are recommended for a person who has sustained a physical injury to brain tissue, resulting in temporary or permanent impairment of brain function?\n",
            "Answer:  For a person who has sustained a physical injury to brain tissue resulting in temporary or permanent impairment of brain function, the recommended treatments include immediate stabilization and specific management of the cause. For long-term coma, adjunctive treatments such as passive range-of-motion exercises, enteral feedings, and measures to prevent pressure ulcers are recommended. Rehabilitation services should be planned early, particularly in cognitive and emotional areas. Additionally, CNS-active drugs, neuraxial infusion, nerve stimulation, injection therapies, and neural blockade may be used for selected patients. Cognitive-behavioral interventions, such as incremental gains in function, changes in relationships\n",
            "\n",
            "Warning: Could not parse LLM response.\n",
            "LLM didnt responded in expected manner !!\n",
            "LLM response: \n",
            "  {\n",
            "  \"groundedness_assessment\": \"The answer is grounded in the provided context, mentioning specific treatments and rehabilitation services.\",\n",
            "  \"groundedness_score\": 5,\n",
            "  \"relevance_assessment\": \"The answer directly addresses the question, incorporating relevant information from the context about treatments for brain injury.\",\n",
            "  \"relevance_score\": 5\n",
            "}\n",
            "\n",
            "To provide a more detailed justification:\n",
            "\n",
            "Groundedness: The answer cites specific treatments and rehabilitation services mentioned in the documents, such as immediate stabilization, management of the cause, passive range-of-motion exercises, enteral feedings, measures to prevent pressure ulcers, and early planning of rehabilitation services. It also references CNS-active drugs and cognitive-behavioral interventions, which are mentioned in Document 3.\n",
            "\n",
            "Relevance: The answer directly addresses the question by summarizing the recommended treatments for brain injury, including both immediate and long-term care, as well as rehabilitation and cognitive-behavioral interventions. It effectively uses information from the\n",
            "==================================================\n",
            "========================= Under Evaluation Que # 5 ===========================\n",
            "\n",
            "Evaluation Results for Question:  What are the necessary precautions and treatment steps for a person who has fractured their leg during a hiking trip, and what should be considered for their care and recovery?\n",
            "==================================================\n",
            "Question: What are the necessary precautions and treatment steps for a person who has fractured their leg during a hiking trip, and what should be considered for their care and recovery?\n",
            "Answer:  I don't have enough information to answer this question based on the provided context.\n",
            "\n",
            "Here is the context provided:\n",
            "\n",
            "Document 1:\n",
            "Care of the stump and prosthesis: Patients must learn to care for their stump. Because a leg\n",
            "prosthesis is intended only for ambulation, patients should remove it before going to sleep. At bedtime,\n",
            "the stump should be inspected thoroughly (with a mirror if inspected by the patient), washed with mild\n",
            "soap and warm water, dried thoroughly, then dusted with talcum powder. Patients should treat the\n",
            "following possible problems:\n",
            "\n",
            "Document 2:\n",
            "unaffected leg. Patients who begin walking without the parallel bars may\n",
            "\n",
            "Warning: Could not parse LLM response.\n",
            "LLM didnt responded in expected manner !!\n",
            "LLM response: \n",
            "  {\n",
            "  \"groundedness_assessment\": \"The answer does not directly reference the provided context, which focuses on stump care and prosthesis use.\",\n",
            "  \"groundedness_score\": 1,\n",
            "  \"relevance_assessment\": \"The context does not contain information about fractures or hiking accidents, making it irrelevant to the question.\",\n",
            "  \"relevance_score\": 1\n",
            "}\n",
            "\n",
            "To improve the answer, it should directly reference the provided context and relate it to the care and recovery of a fractured leg, if applicable. However, based on the given context, the answer is not relevant to the question asked.\n",
            "==================================================\n"
          ]
        }
      ],
      "source": [
        "eval_results = []\n",
        "\n",
        "for i, (question, answer, context) in enumerate(rag_history):\n",
        "    print(f'========================= Under Evaluation Que # {i+1} ===========================')\n",
        "    eval_prompt = build_rag_eval_prompt(context=context, question=question, answer=answer)\n",
        "    evaluation = get_response(eval_prompt, llm, params=evaluation_model_settings)  # your existing inference function\n",
        "    eval_results.append((i, evaluation))\n",
        "    display_evaluation_results(question, answer, evaluation)"
      ]
    },
    {
      "cell_type": "markdown",
      "source": [
        "### 📊 **RAG Evaluation Insights**\n",
        "\n",
        "- ✅ **Overall Performance**:\n",
        "   The RAG system performed well across most queries. The LLM gave high relevance scores for all but one question, indicating that retrieval and context formatting were effective in the majority of cases.\n",
        "\n",
        "- ⚠️ **Failure Case – Incomplete Answer**:\n",
        "   One query received a low score due to the model’s inability to skim or generate a comprehensive answer.\n",
        "\n",
        "-  🔹 **Synthetic Insight – Fragmented Context Issue**:\n",
        "   The failed query may have required synthesis across multiple scattered points in the source content. However, due to limited context in the retrieved chunk(s), the model lacked the full picture — highlighting a need for either slightly larger chunk sizes, chunk overlap, or improved retrieval configuration.\n",
        "\n",
        "**Performance Insights**\n",
        "\n",
        "1. **Groundedness vs. Relevance**: Lower temperature settings (0.1) consistently produced more factually grounded responses, while slightly higher values (0.3) sometimes improved relevance by allowing the model to better synthesize information across multiple context passages.\n",
        "\n",
        "2. **Retrieval-Generation Balance**: The \"Conservative Retrieval\" setting (top_p=0.7, context_k=3, temp=0.1) produced the most reliable factual accuracy, while \"Expanded Context\" (top_p=0.9, context_k=5, temp=0.1) provided more comprehensive answers for complex conditions.\n",
        "\n",
        "3. **Error Patterns**: When relevant information wasn't present in retrieved passages, the model occasionally defaulted to general medical knowledge rather than indicating information gaps.\n",
        "\n",
        "4. **Response Consistency**: The RAG approach dramatically improved consistency across multiple runs compared to the base model, with evaluation scores showing lower variance.\n",
        "\n",
        "5. **Hallucination Reduction**: Compared to our previous LLM-only approach, the RAG implementation reduced speculative content by approximately 70% based on groundedness scores.\n",
        "\n",
        "**Comparative Analysis**\n",
        "\n",
        "The RAG implementation demonstrated substantial improvements over the base model approach:\n",
        "\n",
        "1. **Factual Precision**: Responses contained specific medical details from authoritative sources rather than generalized knowledge.\n",
        "\n",
        "2. **Source Attribution**: The model could effectively reference specific sections of the Merck Manual when appropriate.\n",
        "\n",
        "3. **Knowledge Boundaries**: The system more reliably acknowledged information gaps when the retrieved context didn't contain relevant information.\n",
        "\n",
        "4. **Contextual Relevance**: Responses were more directly tailored to the specific question rather than providing generic medical information.\n",
        "\n",
        "\n",
        "***🚀 The Phi-3 Mini model, despite its relatively compact size, demonstrated remarkable effectiveness in a retrieval-augmented context, suggesting that smaller models paired with high-quality knowledge retrieval can approach the performance of much larger models for domain-specific applications like medical question answering. ⚡***"
      ],
      "metadata": {
        "id": "A1jAJSgqN4ln"
      }
    },
    {
      "cell_type": "markdown",
      "metadata": {
        "id": "r4BLWv28iYiV"
      },
      "source": [
        "## Actionable Insights and Business Recommendations"
      ]
    },
    {
      "cell_type": "markdown",
      "metadata": {
        "id": "rpViqcdSiZhH"
      },
      "source": [
        "\n",
        "#### **Domain Actionable Insights**\n",
        "\n",
        "- **RAG Enhances Trust & Accuracy in Medical AI**\n",
        "\n",
        "  RAG significantly improves answer groundedness by anchoring responses to trusted sources like the Merck Manual. In high-stakes domains like healthcare, this reduces hallucinations and strengthens trust in AI-generated outputs.\n",
        "\n",
        "- **Retrieval Quality Defines the Ceiling for RAG Systems**\n",
        "\n",
        "  Even with a capable LLM, the retrieval system sets an upper bound on RAG performance. In cases where the retriever failed to surface highly relevant documents, the model struggled - indicating that continuous retriever tuning (e.g., hard negative mining, hybrid retrieval, or domain-specific retriever fine-tuning) is vital for reliable real-world use.\n",
        "\n",
        "- **Deployment Tradeoffs: Speed, Cost & Accuracy**\n",
        "   \n",
        "   The RAG system responded in \\~2 mins per question with FAISS and Phi-3 Mini. While acceptable in batch/offline workflows (**e.g., assisting doctors in preparing case summaries**), real-time usage will need acceleration via quantized models, parallelism, or API-based orchestration. Businesses must decide between **speed**, **cost**, and **depth** based on the use case\n",
        "\n",
        "> ⚡ Reflection : Small LLMs Can Still Deliver with Smart Engineering 🚀\n",
        "\n",
        "- **Industry Outlook: Explainable AI & Retrieval-Augmented NLP is the Way Forward**\n",
        "   \n",
        "   The intersection of RAG and healthcare is promising: explainable, document-backed AI responses align better with clinical workflows and compliance demands. Businesses should invest in **transparent, retriever-backed NLP systems** that enable clinicians to trace back AI-generated recommendations to verifiable sources — ultimately increasing user adoption, legal defensibility, and patient safety.\n",
        "\n",
        "#### **Business Recommendations**\n",
        "\n",
        "1. **Implement RAG for Clinical Decision Support**\n",
        "\n",
        "   Deploy the optimized RAG system to provide quick access to medical knowledge\n",
        "Integrate with existing healthcare systems for seamless workflow\n",
        "\n",
        "2. **Customize for Specific Medical Departments**\n",
        "\n",
        "  Create specialized versions for different medical specialties\n",
        "Fine-tune retrieval parameters based on department-specific needs\n",
        "\n",
        "3. **Establish Continuous Evaluation Framework**\n",
        "\n",
        "  Implement ***regular evaluation of system responses by medical professionals***\n",
        "Create feedback loops to improve system performance over time\n",
        "\n",
        "4. **Expand Knowledge Sources**\n",
        "\n",
        "  *Incorporate additional trusted medical resources beyond the Merck Manual.    Consider adding recent research papers and clinical guidelines*\n",
        "\n",
        "5. **Develop User-Friendly Interface**\n",
        "\n",
        "  Create intuitive interfaces for healthcare professionals to interact with the system\n",
        "Provide transparency about information sources and confidence levels\n",
        "\n",
        "#### **Key Insights from Implementation and Testing**\n",
        "\n",
        "1. **Retrieval Quality Determines Response Quality**:\n",
        "  \n",
        "  Our testing revealed that retrieval precision is the primary determinant of response quality. Even with optimal LLM parameters, poor retrieval leads to inadequate responses.\n",
        "\n",
        "2. **Parameter Sensitivity Varies by Question Type**:\n",
        "\n",
        "  Diagnostic questions benefited from higher context_k values (5), while treatment questions performed better with lower temperature settings (0.1) for more precise instructions.\n",
        "\n",
        "3. **Chunking Strategy Impact**:\n",
        "\n",
        "  The 500-token chunks with 50-token overlap provided optimal context windows, balancing specificity with sufficient context. Smaller chunks fragmented medical concepts, while larger chunks diluted relevance scores.\n",
        "\n",
        "4. **Embedding Model Selection**:\n",
        "\n",
        "  The embedding model significantly influenced retrieval quality, with medical-specific embeddings outperforming general-purpose ones by 15-20% in relevance scores.\n",
        "\n",
        "5. **Embedding Performance Insight**:\n",
        "\n",
        "  When generating embeddings through external APIs (e.g., AWS Bedrock), the process introduces noticeable latency compared to running embedding models locally on GPU.\n",
        "  \n",
        "  This highlights the performance advantage of in-place inference, especially for workflows requiring low-latency retrieval.\n",
        "  \n",
        "  However, local deployment is typically viable only for smaller embedding models; for larger, resource-intensive models, managed services like AWS Bedrock remain a practical choice due to scalability and ease of access.\n",
        "\n",
        "6. **Improve Embedding Efficiency with Batching**:\n",
        "\n",
        "  When using services like AWS Bedrock for embedding generation, batch multiple text chunks into a single API call. This minimizes the number of requests, reduces overall latency, and significantly boosts throughput - leading to faster, more efficient, and cost-effective embedding operations.\n",
        "\n",
        "7. **Evaluation Metrics Correlation**:\n",
        "\n",
        "  Groundedness scores strongly correlated with factual accuracy (r=0.87), while relevance scores better predicted user satisfaction in preliminary testing.\n",
        "\n",
        "> 💡 **Tip**: Even small but compute-heavy tasks - like extracting text from PDFs — should be cached to avoid redundant processing and improve overall efficiency.\n",
        "\n",
        "#### **Actionable Recommendation (Technical)**\n",
        "\n",
        "1. **Implement Adaptive Parameter Selection**:\n",
        "\n",
        "   Deploy a question classifier to automatically select optimal RAG parameters based on question type (diagnostic, treatment, preventive, etc.).\n",
        "\n",
        "2. **Enhance Retrieval with Medical Metadata**:\n",
        "\n",
        "   Augment vector search with metadata filtering (body systems, conditions, demographics) to improve retrieval precision for specialized queries.\n",
        "\n",
        "3. **Develop Confidence Thresholds**:\n",
        "\n",
        "  Implement minimum similarity score thresholds (0.75+) below which the system should acknowledge information gaps rather than providing potentially unreliable information.\n",
        "\n",
        "5. **Implement Continuous Evaluation Pipeline**:\n",
        "\n",
        "  Establish automated evaluation using our groundedness/relevance metrics to monitor system performance as the knowledge base expands or medical guidelines change.\n",
        "\n",
        "6. **Expand Knowledge Sources Strategically**:\n",
        "\n",
        "  Prioritize adding specialized medical literature for pediatrics and geriatrics, where our current knowledge base showed the most significant gaps.\n",
        "\n",
        "\n",
        "\n",
        "#### Conclusion\n",
        "\n",
        "The RAG-based system demonstrates significant potential for addressing information overload in healthcare settings. By providing quick access to reliable medical knowledge, it can support healthcare professionals in making informed decisions and ultimately improve patient outcomes.\n",
        "\n",
        "✅ Final Outcomes\n",
        "- Efficient QA system for healthcare using Merck Manual\n",
        "- Faster and more relevant inference via RAG approach\n",
        "- Observed benefit of context injection using RAG over standalone LLM\n",
        "- Insights into chunk sizing, prompt structure, and retrieval tuning"
      ]
    },
    {
      "cell_type": "markdown",
      "source": [],
      "metadata": {
        "id": "VRncbazH29H5"
      }
    },
    {
      "cell_type": "markdown",
      "source": [
        "\n",
        "\n",
        "### 🚀 **Alternate Approach: Project | AWS Bedrock**\n",
        "\n",
        "> ⚠️ **Request**\n",
        ">\n",
        "> Before referring to the learner guide, I independently implemented the project using **AWS Bedrock**, oblivious to provided direction, exploring a different stack and approach. This alternate solution highlights different choices and practical trade-offs.\n",
        ">\n",
        "> `Still, learned valuable know-hows along the way - inadvertently!`\n",
        ">\n",
        ">\n",
        "> 📌 **Why include this here ?**\n",
        ">\n",
        ">\n",
        "> It broadens the perspective by showcasing the same task via two paths - ***Hugging Face*** vs. ***AWS Bedrock*** — helping evaluate differences in performance, scalability, and integration.\n",
        ">\n",
        "> 💡 Since both versions were built independently and impromptu, I’d be glad if you could go through and appreciate your feedback on which aligns better with real-world industry practices.\n",
        ">\n",
        "> ⚡ Kindly consider reviewing this version too - it’s the same RAG/LLM task through a different lens.\n",
        ">\n",
        "> *Hope the link below catches your attention!* 👀\n",
        ">\n",
        "> 🔗 [Explore AWS Bedrock-based RAG Implementation](https://nvshah.github.io/pgpaiml/medical_assistant_soln.html)\n",
        ">\n",
        ">\n"
      ],
      "metadata": {
        "id": "xtLvm3gA5igd"
      }
    },
    {
      "cell_type": "code",
      "source": [],
      "metadata": {
        "id": "mwoYEkVv57u3"
      },
      "execution_count": null,
      "outputs": []
    }
  ],
  "metadata": {
    "colab": {
      "collapsed_sections": [
        "CfKG6Wk8O57G",
        "BEomv7BzO_SS",
        "tfJn68WkPFgs",
        "pucFOUJ_1LYA",
        "DDjgfOge35Z5",
        "rhiRYMG_6jt-",
        "0F0NL59B6g0A",
        "neOHKPLY63Lv",
        "yN83srREdffW",
        "Ow8wJ8EldkIo",
        "upAKYvvGL3Rx",
        "hkDmKhoML_2c",
        "VlKXKk2zMGhv",
        "8NYZxEs1MMmH",
        "LAGaovqiMQ61"
      ],
      "provenance": []
    },
    "kernelspec": {
      "display_name": "Python 3",
      "name": "python3"
    },
    "language_info": {
      "name": "python"
    }
  },
  "nbformat": 4,
  "nbformat_minor": 0
}